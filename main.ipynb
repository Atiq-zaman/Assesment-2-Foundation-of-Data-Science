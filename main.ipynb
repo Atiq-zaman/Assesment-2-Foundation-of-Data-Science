{
 "cells": [
  {
   "cell_type": "code",
   "execution_count": 1,
   "id": "bee4ab6c-33d9-4941-a874-dc5dd6250e4b",
   "metadata": {},
   "outputs": [],
   "source": [
    "import pandas as pd\n",
    "import numpy as np\n",
    "import matplotlib.pyplot as plt\n",
    "import statistics as stats\n",
    "from sklearn.linear_model import LinearRegression\n",
    "import scipy.stats as st\n",
    "import statsmodels.stats.weightstats as stw\n",
    "import statsmodels.stats.proportion as stp\n",
    "import math\n",
    "import warnings\n",
    "warnings.filterwarnings(\"ignore\")"
   ]
  },
  {
   "cell_type": "markdown",
   "id": "c77a978a-f540-4810-9a0a-f8a2f60eb12e",
   "metadata": {},
   "source": [
    "**Descriptive Data Analysis**"
   ]
  },
  {
   "cell_type": "code",
   "execution_count": 2,
   "id": "55900e4b-f628-43b6-9c2a-e5f31323206e",
   "metadata": {},
   "outputs": [],
   "source": [
    "df1 = pd.read_csv(\"dataset1.csv\")\n",
    "df2 = pd.read_csv(\"dataset2.csv\")"
   ]
  },
  {
   "cell_type": "code",
   "execution_count": 3,
   "id": "0f1dff5a-896d-481e-b706-057c7f85343d",
   "metadata": {},
   "outputs": [
    {
     "data": {
      "text/html": [
       "<div>\n",
       "<style scoped>\n",
       "    .dataframe tbody tr th:only-of-type {\n",
       "        vertical-align: middle;\n",
       "    }\n",
       "\n",
       "    .dataframe tbody tr th {\n",
       "        vertical-align: top;\n",
       "    }\n",
       "\n",
       "    .dataframe thead th {\n",
       "        text-align: right;\n",
       "    }\n",
       "</style>\n",
       "<table border=\"1\" class=\"dataframe\">\n",
       "  <thead>\n",
       "    <tr style=\"text-align: right;\">\n",
       "      <th></th>\n",
       "      <th>start_time</th>\n",
       "      <th>bat_landing_to_food</th>\n",
       "      <th>habit</th>\n",
       "      <th>rat_period_start</th>\n",
       "      <th>rat_period_end</th>\n",
       "      <th>seconds_after_rat_arrival</th>\n",
       "      <th>risk</th>\n",
       "      <th>reward</th>\n",
       "      <th>month</th>\n",
       "      <th>sunset_time</th>\n",
       "      <th>hours_after_sunset</th>\n",
       "      <th>season</th>\n",
       "    </tr>\n",
       "  </thead>\n",
       "  <tbody>\n",
       "    <tr>\n",
       "      <th>0</th>\n",
       "      <td>30/12/2017 18:37</td>\n",
       "      <td>16.000000</td>\n",
       "      <td>rat</td>\n",
       "      <td>30/12/2017 18:35</td>\n",
       "      <td>30/12/2017 18:38</td>\n",
       "      <td>108</td>\n",
       "      <td>1</td>\n",
       "      <td>0</td>\n",
       "      <td>0</td>\n",
       "      <td>30/12/2017 16:45</td>\n",
       "      <td>1.870833</td>\n",
       "      <td>0</td>\n",
       "    </tr>\n",
       "    <tr>\n",
       "      <th>1</th>\n",
       "      <td>30/12/2017 19:51</td>\n",
       "      <td>0.074016</td>\n",
       "      <td>fast</td>\n",
       "      <td>30/12/2017 19:50</td>\n",
       "      <td>30/12/2017 19:55</td>\n",
       "      <td>17</td>\n",
       "      <td>0</td>\n",
       "      <td>1</td>\n",
       "      <td>0</td>\n",
       "      <td>30/12/2017 16:45</td>\n",
       "      <td>3.100833</td>\n",
       "      <td>0</td>\n",
       "    </tr>\n",
       "    <tr>\n",
       "      <th>2</th>\n",
       "      <td>30/12/2017 19:51</td>\n",
       "      <td>4.000000</td>\n",
       "      <td>fast</td>\n",
       "      <td>30/12/2017 19:50</td>\n",
       "      <td>30/12/2017 19:55</td>\n",
       "      <td>41</td>\n",
       "      <td>0</td>\n",
       "      <td>1</td>\n",
       "      <td>0</td>\n",
       "      <td>30/12/2017 16:45</td>\n",
       "      <td>3.107500</td>\n",
       "      <td>0</td>\n",
       "    </tr>\n",
       "    <tr>\n",
       "      <th>3</th>\n",
       "      <td>30/12/2017 19:52</td>\n",
       "      <td>10.000000</td>\n",
       "      <td>rat</td>\n",
       "      <td>30/12/2017 19:50</td>\n",
       "      <td>30/12/2017 19:55</td>\n",
       "      <td>111</td>\n",
       "      <td>1</td>\n",
       "      <td>0</td>\n",
       "      <td>0</td>\n",
       "      <td>30/12/2017 16:45</td>\n",
       "      <td>3.126944</td>\n",
       "      <td>0</td>\n",
       "    </tr>\n",
       "    <tr>\n",
       "      <th>4</th>\n",
       "      <td>30/12/2017 19:54</td>\n",
       "      <td>15.000000</td>\n",
       "      <td>rat</td>\n",
       "      <td>30/12/2017 19:50</td>\n",
       "      <td>30/12/2017 19:55</td>\n",
       "      <td>194</td>\n",
       "      <td>1</td>\n",
       "      <td>0</td>\n",
       "      <td>0</td>\n",
       "      <td>30/12/2017 16:45</td>\n",
       "      <td>3.150000</td>\n",
       "      <td>0</td>\n",
       "    </tr>\n",
       "  </tbody>\n",
       "</table>\n",
       "</div>"
      ],
      "text/plain": [
       "         start_time  bat_landing_to_food habit  rat_period_start  \\\n",
       "0  30/12/2017 18:37            16.000000   rat  30/12/2017 18:35   \n",
       "1  30/12/2017 19:51             0.074016  fast  30/12/2017 19:50   \n",
       "2  30/12/2017 19:51             4.000000  fast  30/12/2017 19:50   \n",
       "3  30/12/2017 19:52            10.000000   rat  30/12/2017 19:50   \n",
       "4  30/12/2017 19:54            15.000000   rat  30/12/2017 19:50   \n",
       "\n",
       "     rat_period_end  seconds_after_rat_arrival  risk  reward  month  \\\n",
       "0  30/12/2017 18:38                        108     1       0      0   \n",
       "1  30/12/2017 19:55                         17     0       1      0   \n",
       "2  30/12/2017 19:55                         41     0       1      0   \n",
       "3  30/12/2017 19:55                        111     1       0      0   \n",
       "4  30/12/2017 19:55                        194     1       0      0   \n",
       "\n",
       "        sunset_time  hours_after_sunset  season  \n",
       "0  30/12/2017 16:45            1.870833       0  \n",
       "1  30/12/2017 16:45            3.100833       0  \n",
       "2  30/12/2017 16:45            3.107500       0  \n",
       "3  30/12/2017 16:45            3.126944       0  \n",
       "4  30/12/2017 16:45            3.150000       0  "
      ]
     },
     "execution_count": 3,
     "metadata": {},
     "output_type": "execute_result"
    }
   ],
   "source": [
    "df1.head()"
   ]
  },
  {
   "cell_type": "code",
   "execution_count": 4,
   "id": "bf852640-81df-41b4-9fc5-f69922e218bf",
   "metadata": {},
   "outputs": [
    {
     "name": "stdout",
     "output_type": "stream",
     "text": [
      "<class 'pandas.core.frame.DataFrame'>\n",
      "RangeIndex: 907 entries, 0 to 906\n",
      "Data columns (total 12 columns):\n",
      " #   Column                     Non-Null Count  Dtype  \n",
      "---  ------                     --------------  -----  \n",
      " 0   start_time                 907 non-null    object \n",
      " 1   bat_landing_to_food        907 non-null    float64\n",
      " 2   habit                      866 non-null    object \n",
      " 3   rat_period_start           907 non-null    object \n",
      " 4   rat_period_end             907 non-null    object \n",
      " 5   seconds_after_rat_arrival  907 non-null    int64  \n",
      " 6   risk                       907 non-null    int64  \n",
      " 7   reward                     907 non-null    int64  \n",
      " 8   month                      907 non-null    int64  \n",
      " 9   sunset_time                907 non-null    object \n",
      " 10  hours_after_sunset         907 non-null    float64\n",
      " 11  season                     907 non-null    int64  \n",
      "dtypes: float64(2), int64(5), object(5)\n",
      "memory usage: 85.2+ KB\n"
     ]
    }
   ],
   "source": [
    "df1.info()"
   ]
  },
  {
   "cell_type": "markdown",
   "id": "f47811c6-0e4c-4464-90f1-62939857cbf7",
   "metadata": {},
   "source": [
    "**habbit showing null values**"
   ]
  },
  {
   "cell_type": "code",
   "execution_count": 5,
   "id": "67edbf7c-36c4-4eb0-8328-f40055af9ca6",
   "metadata": {},
   "outputs": [],
   "source": [
    "df1.dropna(subset=['habit'], inplace=True)"
   ]
  },
  {
   "cell_type": "code",
   "execution_count": null,
   "id": "d8a8b7f5-202c-49ca-94ba-965e362cb758",
   "metadata": {},
   "outputs": [],
   "source": []
  },
  {
   "cell_type": "markdown",
   "id": "0e24d68c-7d68-408b-bcf3-44798a7ae9ea",
   "metadata": {},
   "source": [
    "**Habit column showing some Garbage Value**"
   ]
  },
  {
   "cell_type": "code",
   "execution_count": 6,
   "id": "43b7229e-5b56-4a1f-9fc1-b79bb539a40f",
   "metadata": {},
   "outputs": [
    {
     "data": {
      "text/html": [
       "<div>\n",
       "<style scoped>\n",
       "    .dataframe tbody tr th:only-of-type {\n",
       "        vertical-align: middle;\n",
       "    }\n",
       "\n",
       "    .dataframe tbody tr th {\n",
       "        vertical-align: top;\n",
       "    }\n",
       "\n",
       "    .dataframe thead th {\n",
       "        text-align: right;\n",
       "    }\n",
       "</style>\n",
       "<table border=\"1\" class=\"dataframe\">\n",
       "  <thead>\n",
       "    <tr style=\"text-align: right;\">\n",
       "      <th></th>\n",
       "      <th>bat_landing_to_food</th>\n",
       "      <th>seconds_after_rat_arrival</th>\n",
       "      <th>risk</th>\n",
       "      <th>reward</th>\n",
       "      <th>month</th>\n",
       "      <th>hours_after_sunset</th>\n",
       "      <th>season</th>\n",
       "    </tr>\n",
       "  </thead>\n",
       "  <tbody>\n",
       "    <tr>\n",
       "      <th>count</th>\n",
       "      <td>866.000000</td>\n",
       "      <td>866.000000</td>\n",
       "      <td>866.000000</td>\n",
       "      <td>866.000000</td>\n",
       "      <td>866.000000</td>\n",
       "      <td>866.000000</td>\n",
       "      <td>866.000000</td>\n",
       "    </tr>\n",
       "    <tr>\n",
       "      <th>mean</th>\n",
       "      <td>11.860369</td>\n",
       "      <td>279.555427</td>\n",
       "      <td>0.518476</td>\n",
       "      <td>0.558891</td>\n",
       "      <td>3.810624</td>\n",
       "      <td>5.544141</td>\n",
       "      <td>0.838337</td>\n",
       "    </tr>\n",
       "    <tr>\n",
       "      <th>std</th>\n",
       "      <td>27.774913</td>\n",
       "      <td>237.088266</td>\n",
       "      <td>0.499947</td>\n",
       "      <td>0.496807</td>\n",
       "      <td>1.182210</td>\n",
       "      <td>2.383457</td>\n",
       "      <td>0.368354</td>\n",
       "    </tr>\n",
       "    <tr>\n",
       "      <th>min</th>\n",
       "      <td>0.010238</td>\n",
       "      <td>0.000000</td>\n",
       "      <td>0.000000</td>\n",
       "      <td>0.000000</td>\n",
       "      <td>0.000000</td>\n",
       "      <td>-0.198611</td>\n",
       "      <td>0.000000</td>\n",
       "    </tr>\n",
       "    <tr>\n",
       "      <th>25%</th>\n",
       "      <td>1.000000</td>\n",
       "      <td>89.000000</td>\n",
       "      <td>0.000000</td>\n",
       "      <td>0.000000</td>\n",
       "      <td>4.000000</td>\n",
       "      <td>3.805278</td>\n",
       "      <td>1.000000</td>\n",
       "    </tr>\n",
       "    <tr>\n",
       "      <th>50%</th>\n",
       "      <td>4.000000</td>\n",
       "      <td>206.000000</td>\n",
       "      <td>1.000000</td>\n",
       "      <td>1.000000</td>\n",
       "      <td>4.000000</td>\n",
       "      <td>5.627083</td>\n",
       "      <td>1.000000</td>\n",
       "    </tr>\n",
       "    <tr>\n",
       "      <th>75%</th>\n",
       "      <td>12.000000</td>\n",
       "      <td>436.000000</td>\n",
       "      <td>1.000000</td>\n",
       "      <td>1.000000</td>\n",
       "      <td>5.000000</td>\n",
       "      <td>7.395764</td>\n",
       "      <td>1.000000</td>\n",
       "    </tr>\n",
       "    <tr>\n",
       "      <th>max</th>\n",
       "      <td>443.000000</td>\n",
       "      <td>949.000000</td>\n",
       "      <td>1.000000</td>\n",
       "      <td>1.000000</td>\n",
       "      <td>5.000000</td>\n",
       "      <td>12.091944</td>\n",
       "      <td>1.000000</td>\n",
       "    </tr>\n",
       "  </tbody>\n",
       "</table>\n",
       "</div>"
      ],
      "text/plain": [
       "       bat_landing_to_food  seconds_after_rat_arrival        risk      reward  \\\n",
       "count           866.000000                 866.000000  866.000000  866.000000   \n",
       "mean             11.860369                 279.555427    0.518476    0.558891   \n",
       "std              27.774913                 237.088266    0.499947    0.496807   \n",
       "min               0.010238                   0.000000    0.000000    0.000000   \n",
       "25%               1.000000                  89.000000    0.000000    0.000000   \n",
       "50%               4.000000                 206.000000    1.000000    1.000000   \n",
       "75%              12.000000                 436.000000    1.000000    1.000000   \n",
       "max             443.000000                 949.000000    1.000000    1.000000   \n",
       "\n",
       "            month  hours_after_sunset      season  \n",
       "count  866.000000          866.000000  866.000000  \n",
       "mean     3.810624            5.544141    0.838337  \n",
       "std      1.182210            2.383457    0.368354  \n",
       "min      0.000000           -0.198611    0.000000  \n",
       "25%      4.000000            3.805278    1.000000  \n",
       "50%      4.000000            5.627083    1.000000  \n",
       "75%      5.000000            7.395764    1.000000  \n",
       "max      5.000000           12.091944    1.000000  "
      ]
     },
     "execution_count": 6,
     "metadata": {},
     "output_type": "execute_result"
    }
   ],
   "source": [
    "df1.describe()"
   ]
  },
  {
   "cell_type": "markdown",
   "id": "113f7cc8-41e5-4b9d-8612-4384bc5d8df1",
   "metadata": {},
   "source": [
    "**bat_landing_to_food showing extream decimal values in zero**"
   ]
  },
  {
   "cell_type": "code",
   "execution_count": 7,
   "id": "777da932-784b-455b-9073-d4deb2c18882",
   "metadata": {},
   "outputs": [],
   "source": [
    "df1[\"hours_after_sunset\"] = df1['hours_after_sunset'].apply(lambda x: x if x>0 else (-1*x))"
   ]
  },
  {
   "cell_type": "code",
   "execution_count": 8,
   "id": "ea60906e-2491-4d4d-8c51-d4ef66521336",
   "metadata": {},
   "outputs": [
    {
     "data": {
      "text/plain": [
       "bat_landing_to_food\n",
       "1.000000      127\n",
       "2.000000      104\n",
       "3.000000       64\n",
       "4.000000       61\n",
       "5.000000       44\n",
       "             ... \n",
       "0.018396        1\n",
       "76.000000       1\n",
       "45.000000       1\n",
       "0.062233        1\n",
       "120.000000      1\n",
       "Name: count, Length: 191, dtype: int64"
      ]
     },
     "execution_count": 8,
     "metadata": {},
     "output_type": "execute_result"
    }
   ],
   "source": [
    "df1['bat_landing_to_food'].value_counts()"
   ]
  },
  {
   "cell_type": "code",
   "execution_count": 9,
   "id": "9a1c9018-678f-4a70-8cd0-1b8c1cf1fd5b",
   "metadata": {},
   "outputs": [
    {
     "data": {
      "image/png": "[encoded data removed]",
      "text/plain": [
       "<Figure size 640x480 with 1 Axes>"
      ]
     },
     "metadata": {},
     "output_type": "display_data"
    }
   ],
   "source": [
    "plt.hist(df1[\"bat_landing_to_food\"], bins=30, color='yellow', edgecolor='black')\n",
    "plt.xlabel(\"Bat Landing To Food\")\n",
    "plt.ylabel(\"Frequency\")\n",
    "plt.title(\"Distribution of Bat Landing To Food\")\n",
    "plt.show()"
   ]
  },
  {
   "cell_type": "code",
   "execution_count": 10,
   "id": "fa8a2293-ba05-426a-a667-5b3924522c58",
   "metadata": {},
   "outputs": [
    {
     "name": "stdout",
     "output_type": "stream",
     "text": [
      "Mean: 11.860369096964202\n",
      "Median: 4.00\n",
      "Mode value: 1.00\n",
      "Range: 442.99\n",
      "Sample variance: 771.45. Population variance: 770.55.\n",
      "Sample std. dev.: 27.77. Population std. dev.: 27.76.\n",
      "IQR: 11.00. 25th percentile: 1.00. 75th percentile: 12.00\n"
     ]
    }
   ],
   "source": [
    "sample = df1['bat_landing_to_food'].values\n",
    "x_bar = stats.mean(sample)\n",
    "print(\"Mean:\", x_bar)\n",
    "\n",
    "median = stats.median(sample)\n",
    "print(\"Median: %.2f\" % median)\n",
    "\n",
    "mode = stats.mode(sample)\n",
    "print(\"Mode value: %.2f\" % mode)\n",
    "\n",
    "the_range = np.max(sample) - np.min(sample)\n",
    "print(\"Range: %.2f\" % the_range)\n",
    "\n",
    "sample_array = np.array(sample)\n",
    "s_square = sample_array.var(ddof=1)\n",
    "sigma_square = sample_array.var()\n",
    "print(\"Sample variance: %.2f. Population variance: %.2f.\" % (s_square, sigma_square))\n",
    "\n",
    "s = sample_array.std(ddof=1)\n",
    "sigma = sample_array.std()\n",
    "print(\"Sample std. dev.: %.2f. Population std. dev.: %.2f.\" % (s, sigma))\n",
    "\n",
    "pct25 = np.percentile(sample, 25)\n",
    "pct75 = np.percentile(sample, 75)\n",
    "iqr = pct75 - pct25\n",
    "print(\"IQR: %.2f. 25th percentile: %.2f. 75th percentile: %.2f\" % (iqr, pct25, pct75))\n"
   ]
  },
  {
   "cell_type": "code",
   "execution_count": 11,
   "id": "606cecb5-bb39-4a4a-a9f5-b9ba1bd91e95",
   "metadata": {},
   "outputs": [
    {
     "data": {
      "text/plain": [
       "seconds_after_rat_arrival\n",
       "22     7\n",
       "105    7\n",
       "0      6\n",
       "187    6\n",
       "9      5\n",
       "      ..\n",
       "293    1\n",
       "790    1\n",
       "117    1\n",
       "237    1\n",
       "233    1\n",
       "Name: count, Length: 486, dtype: int64"
      ]
     },
     "execution_count": 11,
     "metadata": {},
     "output_type": "execute_result"
    }
   ],
   "source": [
    "df1['seconds_after_rat_arrival'].value_counts()"
   ]
  },
  {
   "cell_type": "code",
   "execution_count": 12,
   "id": "c6b2b59e-58fa-4c20-bddb-880f52cbcf54",
   "metadata": {},
   "outputs": [
    {
     "data": {
      "image/png": "[encoded data removed]",
      "text/plain": [
       "<Figure size 640x480 with 1 Axes>"
      ]
     },
     "metadata": {},
     "output_type": "display_data"
    }
   ],
   "source": [
    "plt.hist(df1[\"seconds_after_rat_arrival\"], bins=100, color='yellow', edgecolor='black')\n",
    "plt.xlabel(\"seconds_after_rat_arrival\")\n",
    "plt.ylabel(\"Frequency\")\n",
    "plt.title(\"Distribution of seconds_after_rat_arrival\")\n",
    "plt.show()\n"
   ]
  },
  {
   "cell_type": "code",
   "execution_count": 13,
   "id": "527dbda4-dbe6-49de-a249-5463772c1c55",
   "metadata": {},
   "outputs": [
    {
     "name": "stdout",
     "output_type": "stream",
     "text": [
      "Mean: 279\n",
      "Median: 206.00\n",
      "Mode value: 22\n",
      "Range: 949\n",
      "Sample variance: 56210.85. Population variance: 56145.94.\n",
      "Sample std. dev.: 237.09. Population std. dev.: 236.95.\n",
      "IQR: 347.00. 25th percentile: 89.00. 75th percentile: 436.00\n"
     ]
    }
   ],
   "source": [
    "sample = df1['seconds_after_rat_arrival'].values\n",
    "x_bar = stats.mean(sample)\n",
    "print(\"Mean:\", x_bar)\n",
    "\n",
    "median = stats.median(sample)\n",
    "print(\"Median: %.2f\" % median)\n",
    "\n",
    "mode = stats.mode(sample)\n",
    "print(\"Mode value: %d\" % mode)\n",
    "\n",
    "the_range = np.max(sample) - np.min(sample)\n",
    "print(\"Range: %d\" % the_range)\n",
    "\n",
    "sample_array = np.array(sample)\n",
    "s_square = sample_array.var(ddof=1)\n",
    "sigma_square = sample_array.var()\n",
    "print(\"Sample variance: %.2f. Population variance: %.2f.\" % (s_square, sigma_square))\n",
    "\n",
    "s = sample_array.std(ddof=1)\n",
    "sigma = sample_array.std()\n",
    "print(\"Sample std. dev.: %.2f. Population std. dev.: %.2f.\" % (s, sigma))\n",
    "\n",
    "pct25 = np.percentile(sample, 25)\n",
    "pct75 = np.percentile(sample, 75)\n",
    "iqr = pct75 - pct25\n",
    "print(\"IQR: %.2f. 25th percentile: %.2f. 75th percentile: %.2f\" % (iqr, pct25, pct75))\n"
   ]
  },
  {
   "cell_type": "code",
   "execution_count": 14,
   "id": "9b79656f-b32c-408a-90b1-f19adf0bbdbb",
   "metadata": {},
   "outputs": [],
   "source": [
    "bins = [0, 200, 400, df1['seconds_after_rat_arrival'].max()]\n",
    "labels = [\"immediate\", \"short_delay\", \"long_delay\"]\n",
    "df1[\"bat_rat_after_rat_arrive_bin\"] = pd.cut(df1[\"seconds_after_rat_arrival\"], bins=bins, labels=labels)\n"
   ]
  },
  {
   "cell_type": "code",
   "execution_count": 15,
   "id": "3ff3928a-ce14-42fb-b1b9-0ada5956520b",
   "metadata": {},
   "outputs": [
    {
     "data": {
      "text/plain": [
       "bat_rat_after_rat_arrive_bin\n",
       "immediate      417\n",
       "long_delay     238\n",
       "short_delay    205\n",
       "Name: count, dtype: int64"
      ]
     },
     "execution_count": 15,
     "metadata": {},
     "output_type": "execute_result"
    }
   ],
   "source": [
    "df1['bat_rat_after_rat_arrive_bin'].value_counts()"
   ]
  },
  {
   "cell_type": "code",
   "execution_count": 16,
   "id": "1b70471d-d24c-4a98-824a-a1bf3038a471",
   "metadata": {},
   "outputs": [
    {
     "name": "stdout",
     "output_type": "stream",
     "text": [
      "Risk-taking approach times:\n",
      "  Count: 449\n",
      "  Mean: 6.98 seconds\n",
      "  Median: 2.00 seconds\n",
      "  Std Dev: 20.08 seconds\n",
      "\n",
      "Risk-avoidance approach times:\n",
      "  Count: 417\n",
      "  Mean: 6.98 seconds\n",
      "  Median: 2.00 seconds\n",
      "  Std Dev: 20.08 seconds\n"
     ]
    }
   ],
   "source": [
    "risk_taking_times = df1[df1['risk'] == 1]['bat_landing_to_food']\n",
    "risk_avoidance_times = df1[df1['risk'] == 0]['bat_landing_to_food']\n",
    "\n",
    "\n",
    "print(f\"Risk-taking approach times:\")\n",
    "print(f\"  Count: {len(risk_taking_times)}\")\n",
    "print(f\"  Mean: {stats.mean(risk_avoidance_times):.2f} seconds\")\n",
    "print(f\"  Median: {np.median(risk_avoidance_times):.2f} seconds\")\n",
    "print(f\"  Std Dev: {np.std(risk_avoidance_times, ddof=1):.2f} seconds\")\n",
    "\n",
    "print(f\"\\nRisk-avoidance approach times:\")\n",
    "print(f\"  Count: {len(risk_avoidance_times)}\")\n",
    "print(f\"  Mean: {stats.mean(risk_avoidance_times):.2f} seconds\")\n",
    "print(f\"  Median: {np.median(risk_avoidance_times):.2f} seconds\")\n",
    "print(f\"  Std Dev: {np.std(risk_avoidance_times, ddof=1):.2f} seconds\")"
   ]
  },
  {
   "cell_type": "code",
   "execution_count": 17,
   "id": "301caf9f-60e2-44a3-9601-d133d142fbc4",
   "metadata": {},
   "outputs": [
    {
     "name": "stdout",
     "output_type": "stream",
     "text": [
      "Overall foraging attempts: 866\n",
      "Successful attempts: 484\n",
      "Overall success rate: 0.559 (55.9%)\n",
      "\n",
      "Success rates by risk behavior:\n",
      "Risk-taking success rate: 0.218 (21.8%)\n",
      "Risk-avoidance success rate: 0.926 (92.6%)\n"
     ]
    }
   ],
   "source": [
    "total_attempts = len(df1)\n",
    "successful_attempts = len(df1[df1['reward'] == 1])\n",
    "overall_success_rate = successful_attempts / total_attempts\n",
    "\n",
    "print(f\"Overall foraging attempts: {total_attempts}\")\n",
    "print(f\"Successful attempts: {successful_attempts}\")\n",
    "print(f\"Overall success rate: {overall_success_rate:.3f} ({overall_success_rate*100:.1f}%)\")\n",
    "\n",
    "# Success rates by risk behavior\n",
    "risk_taking_success = df1[df1['risk'] == 1]['reward'].mean()\n",
    "risk_avoidance_success = df1[df1['risk'] == 0]['reward'].mean()\n",
    "\n",
    "print(f\"\\nSuccess rates by risk behavior:\")\n",
    "print(f\"Risk-taking success rate: {risk_taking_success:.3f} ({risk_taking_success*100:.1f}%)\")\n",
    "print(f\"Risk-avoidance success rate: {risk_avoidance_success:.3f} ({risk_avoidance_success*100:.1f}%)\")\n"
   ]
  },
  {
   "cell_type": "markdown",
   "id": "369147c3-26b1-4e02-a7ce-e691ff3b486c",
   "metadata": {},
   "source": [
    "##  Key columns in dataset1\n",
    "\n",
    "For investigating whether bats perceive rats as predators, we focus on:\n",
    "- **Risk Column**: \n",
    "- **bat_landing_to_food**: \n",
    "- **Rewards**: \n",
    "- **Habit**:"
   ]
  },
  {
   "cell_type": "code",
   "execution_count": 18,
   "id": "0cd85480-fba9-4326-a6dc-e2eec3c61b63",
   "metadata": {},
   "outputs": [
    {
     "data": {
      "text/html": [
       "<div>\n",
       "<style scoped>\n",
       "    .dataframe tbody tr th:only-of-type {\n",
       "        vertical-align: middle;\n",
       "    }\n",
       "\n",
       "    .dataframe tbody tr th {\n",
       "        vertical-align: top;\n",
       "    }\n",
       "\n",
       "    .dataframe thead th {\n",
       "        text-align: right;\n",
       "    }\n",
       "</style>\n",
       "<table border=\"1\" class=\"dataframe\">\n",
       "  <thead>\n",
       "    <tr style=\"text-align: right;\">\n",
       "      <th></th>\n",
       "      <th>time</th>\n",
       "      <th>month</th>\n",
       "      <th>hours_after_sunset</th>\n",
       "      <th>bat_landing_number</th>\n",
       "      <th>food_availability</th>\n",
       "      <th>rat_minutes</th>\n",
       "      <th>rat_arrival_number</th>\n",
       "    </tr>\n",
       "  </thead>\n",
       "  <tbody>\n",
       "    <tr>\n",
       "      <th>0</th>\n",
       "      <td>26/12/2017 16:13</td>\n",
       "      <td>0</td>\n",
       "      <td>-0.5</td>\n",
       "      <td>20</td>\n",
       "      <td>4.000000</td>\n",
       "      <td>0.0</td>\n",
       "      <td>0</td>\n",
       "    </tr>\n",
       "    <tr>\n",
       "      <th>1</th>\n",
       "      <td>26/12/2017 16:43</td>\n",
       "      <td>0</td>\n",
       "      <td>0.0</td>\n",
       "      <td>28</td>\n",
       "      <td>4.000000</td>\n",
       "      <td>0.0</td>\n",
       "      <td>0</td>\n",
       "    </tr>\n",
       "    <tr>\n",
       "      <th>2</th>\n",
       "      <td>26/12/2017 17:13</td>\n",
       "      <td>0</td>\n",
       "      <td>0.5</td>\n",
       "      <td>25</td>\n",
       "      <td>4.000000</td>\n",
       "      <td>0.0</td>\n",
       "      <td>0</td>\n",
       "    </tr>\n",
       "    <tr>\n",
       "      <th>3</th>\n",
       "      <td>26/12/2017 17:43</td>\n",
       "      <td>0</td>\n",
       "      <td>1.0</td>\n",
       "      <td>71</td>\n",
       "      <td>4.000000</td>\n",
       "      <td>0.0</td>\n",
       "      <td>0</td>\n",
       "    </tr>\n",
       "    <tr>\n",
       "      <th>4</th>\n",
       "      <td>26/12/2017 18:13</td>\n",
       "      <td>0</td>\n",
       "      <td>1.5</td>\n",
       "      <td>44</td>\n",
       "      <td>3.753857</td>\n",
       "      <td>0.0</td>\n",
       "      <td>0</td>\n",
       "    </tr>\n",
       "  </tbody>\n",
       "</table>\n",
       "</div>"
      ],
      "text/plain": [
       "               time  month  hours_after_sunset  bat_landing_number  \\\n",
       "0  26/12/2017 16:13      0                -0.5                  20   \n",
       "1  26/12/2017 16:43      0                 0.0                  28   \n",
       "2  26/12/2017 17:13      0                 0.5                  25   \n",
       "3  26/12/2017 17:43      0                 1.0                  71   \n",
       "4  26/12/2017 18:13      0                 1.5                  44   \n",
       "\n",
       "   food_availability  rat_minutes  rat_arrival_number  \n",
       "0           4.000000          0.0                   0  \n",
       "1           4.000000          0.0                   0  \n",
       "2           4.000000          0.0                   0  \n",
       "3           4.000000          0.0                   0  \n",
       "4           3.753857          0.0                   0  "
      ]
     },
     "execution_count": 18,
     "metadata": {},
     "output_type": "execute_result"
    }
   ],
   "source": [
    "df2.head()"
   ]
  },
  {
   "cell_type": "code",
   "execution_count": 19,
   "id": "1dcf5e1f-0a71-46bc-b14a-7f921b8433b0",
   "metadata": {},
   "outputs": [
    {
     "name": "stdout",
     "output_type": "stream",
     "text": [
      "<class 'pandas.core.frame.DataFrame'>\n",
      "RangeIndex: 2123 entries, 0 to 2122\n",
      "Data columns (total 7 columns):\n",
      " #   Column              Non-Null Count  Dtype  \n",
      "---  ------              --------------  -----  \n",
      " 0   time                2123 non-null   object \n",
      " 1   month               2123 non-null   int64  \n",
      " 2   hours_after_sunset  2123 non-null   float64\n",
      " 3   bat_landing_number  2123 non-null   int64  \n",
      " 4   food_availability   2123 non-null   float64\n",
      " 5   rat_minutes         2123 non-null   float64\n",
      " 6   rat_arrival_number  2123 non-null   int64  \n",
      "dtypes: float64(3), int64(3), object(1)\n",
      "memory usage: 116.2+ KB\n"
     ]
    }
   ],
   "source": [
    "df2.info()"
   ]
  },
  {
   "cell_type": "code",
   "execution_count": 20,
   "id": "5552b0af-f360-492c-9413-e0a7a05f6de4",
   "metadata": {},
   "outputs": [
    {
     "data": {
      "text/html": [
       "<div>\n",
       "<style scoped>\n",
       "    .dataframe tbody tr th:only-of-type {\n",
       "        vertical-align: middle;\n",
       "    }\n",
       "\n",
       "    .dataframe tbody tr th {\n",
       "        vertical-align: top;\n",
       "    }\n",
       "\n",
       "    .dataframe thead th {\n",
       "        text-align: right;\n",
       "    }\n",
       "</style>\n",
       "<table border=\"1\" class=\"dataframe\">\n",
       "  <thead>\n",
       "    <tr style=\"text-align: right;\">\n",
       "      <th></th>\n",
       "      <th>month</th>\n",
       "      <th>hours_after_sunset</th>\n",
       "      <th>bat_landing_number</th>\n",
       "      <th>food_availability</th>\n",
       "      <th>rat_minutes</th>\n",
       "      <th>rat_arrival_number</th>\n",
       "    </tr>\n",
       "  </thead>\n",
       "  <tbody>\n",
       "    <tr>\n",
       "      <th>count</th>\n",
       "      <td>2123.000000</td>\n",
       "      <td>2123.000000</td>\n",
       "      <td>2123.000000</td>\n",
       "      <td>2123.000000</td>\n",
       "      <td>2123.000000</td>\n",
       "      <td>2123.000000</td>\n",
       "    </tr>\n",
       "    <tr>\n",
       "      <th>mean</th>\n",
       "      <td>3.083844</td>\n",
       "      <td>5.265426</td>\n",
       "      <td>32.083373</td>\n",
       "      <td>2.445874</td>\n",
       "      <td>1.994442</td>\n",
       "      <td>0.444654</td>\n",
       "    </tr>\n",
       "    <tr>\n",
       "      <th>std</th>\n",
       "      <td>1.642261</td>\n",
       "      <td>4.076188</td>\n",
       "      <td>25.614431</td>\n",
       "      <td>1.218353</td>\n",
       "      <td>6.793397</td>\n",
       "      <td>1.019195</td>\n",
       "    </tr>\n",
       "    <tr>\n",
       "      <th>min</th>\n",
       "      <td>0.000000</td>\n",
       "      <td>-2.000000</td>\n",
       "      <td>0.000000</td>\n",
       "      <td>0.000000</td>\n",
       "      <td>0.000000</td>\n",
       "      <td>0.000000</td>\n",
       "    </tr>\n",
       "    <tr>\n",
       "      <th>25%</th>\n",
       "      <td>2.000000</td>\n",
       "      <td>2.000000</td>\n",
       "      <td>11.000000</td>\n",
       "      <td>1.962206</td>\n",
       "      <td>0.000000</td>\n",
       "      <td>0.000000</td>\n",
       "    </tr>\n",
       "    <tr>\n",
       "      <th>50%</th>\n",
       "      <td>4.000000</td>\n",
       "      <td>5.000000</td>\n",
       "      <td>27.000000</td>\n",
       "      <td>2.951877</td>\n",
       "      <td>0.000000</td>\n",
       "      <td>0.000000</td>\n",
       "    </tr>\n",
       "    <tr>\n",
       "      <th>75%</th>\n",
       "      <td>4.000000</td>\n",
       "      <td>8.500000</td>\n",
       "      <td>48.000000</td>\n",
       "      <td>3.105873</td>\n",
       "      <td>0.158333</td>\n",
       "      <td>1.000000</td>\n",
       "    </tr>\n",
       "    <tr>\n",
       "      <th>max</th>\n",
       "      <td>6.000000</td>\n",
       "      <td>13.500000</td>\n",
       "      <td>178.000000</td>\n",
       "      <td>4.000000</td>\n",
       "      <td>120.000000</td>\n",
       "      <td>17.000000</td>\n",
       "    </tr>\n",
       "  </tbody>\n",
       "</table>\n",
       "</div>"
      ],
      "text/plain": [
       "             month  hours_after_sunset  bat_landing_number  food_availability  \\\n",
       "count  2123.000000         2123.000000         2123.000000        2123.000000   \n",
       "mean      3.083844            5.265426           32.083373           2.445874   \n",
       "std       1.642261            4.076188           25.614431           1.218353   \n",
       "min       0.000000           -2.000000            0.000000           0.000000   \n",
       "25%       2.000000            2.000000           11.000000           1.962206   \n",
       "50%       4.000000            5.000000           27.000000           2.951877   \n",
       "75%       4.000000            8.500000           48.000000           3.105873   \n",
       "max       6.000000           13.500000          178.000000           4.000000   \n",
       "\n",
       "       rat_minutes  rat_arrival_number  \n",
       "count  2123.000000         2123.000000  \n",
       "mean      1.994442            0.444654  \n",
       "std       6.793397            1.019195  \n",
       "min       0.000000            0.000000  \n",
       "25%       0.000000            0.000000  \n",
       "50%       0.000000            0.000000  \n",
       "75%       0.158333            1.000000  \n",
       "max     120.000000           17.000000  "
      ]
     },
     "execution_count": 20,
     "metadata": {},
     "output_type": "execute_result"
    }
   ],
   "source": [
    "df2.describe()"
   ]
  },
  {
   "cell_type": "markdown",
   "id": "68a2b935-3739-4e17-909e-68d2d5ff4a8a",
   "metadata": {},
   "source": [
    "**hours_after_sunset showing negetive values**"
   ]
  },
  {
   "cell_type": "code",
   "execution_count": 21,
   "id": "771d2d43-f72e-4b25-a838-72e9c12b7027",
   "metadata": {},
   "outputs": [],
   "source": [
    "df2[\"hours_after_sunset\"] = df2['hours_after_sunset'].apply(lambda x: x if x>=0 else (-1*x))"
   ]
  },
  {
   "cell_type": "code",
   "execution_count": 22,
   "id": "a4cbfae3-fe58-4ccc-bce8-1d51513e8082",
   "metadata": {},
   "outputs": [
    {
     "data": {
      "text/plain": [
       "bat_landing_number\n",
       "2      73\n",
       "1      72\n",
       "3      68\n",
       "5      46\n",
       "14     45\n",
       "       ..\n",
       "116     1\n",
       "151     1\n",
       "158     1\n",
       "110     1\n",
       "97      1\n",
       "Name: count, Length: 119, dtype: int64"
      ]
     },
     "execution_count": 22,
     "metadata": {},
     "output_type": "execute_result"
    }
   ],
   "source": [
    "df2['bat_landing_number'].value_counts()"
   ]
  },
  {
   "cell_type": "code",
   "execution_count": 23,
   "id": "303be4c7-7f7d-4dae-bba5-956cb07ede63",
   "metadata": {},
   "outputs": [
    {
     "data": {
      "image/png": "[encoded data removed]",
      "text/plain": [
       "<Figure size 640x480 with 1 Axes>"
      ]
     },
     "metadata": {},
     "output_type": "display_data"
    }
   ],
   "source": [
    "plt.hist(df2[\"bat_landing_number\"], bins=100, color='green', edgecolor='black')\n",
    "plt.xlabel(\"Bat Landing Number\")\n",
    "plt.ylabel(\"Frequency\")\n",
    "plt.title(\"Distribution of Bat Landing Number\")\n",
    "plt.show()"
   ]
  },
  {
   "cell_type": "code",
   "execution_count": 24,
   "id": "395630c8-785c-4c07-8bf8-7d7cd1c35758",
   "metadata": {},
   "outputs": [
    {
     "name": "stdout",
     "output_type": "stream",
     "text": [
      "Mean: 32\n",
      "Median: 27.00\n",
      "Mode value: 2\n",
      "Range: 178\n",
      "Sample variance: 656.10. Population variance: 655.79.\n",
      "Sample std. dev.: 25.61. Population std. dev.: 25.61.\n",
      "IQR: 37.00. 25th percentile: 11.00. 75th percentile: 48.00\n"
     ]
    }
   ],
   "source": [
    "sample = df2['bat_landing_number'].values\n",
    "x_bar = stats.mean(sample)\n",
    "print(\"Mean:\", x_bar)\n",
    "\n",
    "median = stats.median(sample)\n",
    "print(\"Median: %.2f\" % median)\n",
    "\n",
    "mode = stats.mode(sample)\n",
    "print(\"Mode value: %d\" % mode)\n",
    "\n",
    "the_range = np.max(sample) - np.min(sample)\n",
    "print(\"Range: %d\" % the_range)\n",
    "\n",
    "sample_array = np.array(sample)\n",
    "s_square = sample_array.var(ddof=1)\n",
    "sigma_square = sample_array.var()\n",
    "print(\"Sample variance: %.2f. Population variance: %.2f.\" % (s_square, sigma_square))\n",
    "\n",
    "s = sample_array.std(ddof=1)\n",
    "sigma = sample_array.std()\n",
    "print(\"Sample std. dev.: %.2f. Population std. dev.: %.2f.\" % (s, sigma))\n",
    "\n",
    "pct25 = np.percentile(sample, 25)\n",
    "pct75 = np.percentile(sample, 75)\n",
    "iqr = pct75 - pct25\n",
    "print(\"IQR: %.2f. 25th percentile: %.2f. 75th percentile: %.2f\" % (iqr, pct25, pct75))\n"
   ]
  },
  {
   "cell_type": "code",
   "execution_count": 25,
   "id": "e3abb605-2a1a-4267-8870-d151e88bb488",
   "metadata": {},
   "outputs": [
    {
     "data": {
      "text/plain": [
       "food_availability\n",
       "3.000000    453\n",
       "4.000000    353\n",
       "2.000000    312\n",
       "0.000000    185\n",
       "1.000000    143\n",
       "           ... \n",
       "1.888948      1\n",
       "1.426230      1\n",
       "1.034902      1\n",
       "3.989705      1\n",
       "3.438596      1\n",
       "Name: count, Length: 600, dtype: int64"
      ]
     },
     "execution_count": 25,
     "metadata": {},
     "output_type": "execute_result"
    }
   ],
   "source": [
    "df2['food_availability'].value_counts()"
   ]
  },
  {
   "cell_type": "code",
   "execution_count": 26,
   "id": "c04a94ed-41b4-4601-a665-da68490a4641",
   "metadata": {},
   "outputs": [
    {
     "data": {
      "image/png": "[encoded data removed]",
      "text/plain": [
       "<Figure size 640x480 with 1 Axes>"
      ]
     },
     "metadata": {},
     "output_type": "display_data"
    }
   ],
   "source": [
    "plt.hist(df2[\"food_availability\"], bins=100, color='green', edgecolor='black')\n",
    "plt.xlabel(\"Food Availability\")\n",
    "plt.ylabel(\"Frequency\")\n",
    "plt.title(\"Distribution of Food Availability\")\n",
    "plt.show()"
   ]
  },
  {
   "cell_type": "code",
   "execution_count": 27,
   "id": "65d60ca6-9b9a-45d7-a08a-6145b617d4c0",
   "metadata": {},
   "outputs": [
    {
     "data": {
      "text/plain": [
       "rat_minutes\n",
       "0.000000     1578\n",
       "2.766667        4\n",
       "1.550000        4\n",
       "1.050000        4\n",
       "5.550000        4\n",
       "             ... \n",
       "4.383333        1\n",
       "1.733333        1\n",
       "23.433333       1\n",
       "2.516667        1\n",
       "5.650000        1\n",
       "Name: count, Length: 401, dtype: int64"
      ]
     },
     "execution_count": 27,
     "metadata": {},
     "output_type": "execute_result"
    }
   ],
   "source": [
    "df2['rat_minutes'].value_counts()"
   ]
  },
  {
   "cell_type": "code",
   "execution_count": 28,
   "id": "6ab4ad1a-6ec9-424e-b92c-d24adf500621",
   "metadata": {},
   "outputs": [
    {
     "data": {
      "image/png": "[encoded data removed]",
      "text/plain": [
       "<Figure size 640x480 with 1 Axes>"
      ]
     },
     "metadata": {},
     "output_type": "display_data"
    }
   ],
   "source": [
    "plt.hist(df2[\"rat_minutes\"], bins=10, color='green', edgecolor='black')\n",
    "plt.xlabel(\"Rat Minutes\")\n",
    "plt.ylabel(\"Frequency\")\n",
    "plt.title(\"Distribution of Rat Minutes\")\n",
    "plt.show()\n"
   ]
  },
  {
   "cell_type": "code",
   "execution_count": 29,
   "id": "1571b98c-bb08-4a5c-94c3-3ef7f9d1e07d",
   "metadata": {},
   "outputs": [
    {
     "name": "stdout",
     "output_type": "stream",
     "text": [
      "Mean: 1.9944418275581723\n",
      "Median: 0.00\n",
      "Mode value: 0.00\n",
      "Range: 120.00\n",
      "Sample variance: 46.15. Population variance: 46.13.\n",
      "Sample std. dev.: 6.79. Population std. dev.: 6.79.\n",
      "IQR: 0.16. 25th percentile: 0.00. 75th percentile: 0.16\n"
     ]
    }
   ],
   "source": [
    "sample = df2['rat_minutes'].values\n",
    "x_bar = stats.mean(sample)\n",
    "print(\"Mean:\", x_bar)\n",
    "\n",
    "median = stats.median(sample)\n",
    "print(\"Median: %.2f\" % median)\n",
    "\n",
    "mode = stats.mode(sample)\n",
    "print(\"Mode value: %.2f\" % mode)\n",
    "\n",
    "the_range = np.max(sample) - np.min(sample)\n",
    "print(\"Range: %.2f\" % the_range)\n",
    "\n",
    "sample_array = np.array(sample)\n",
    "s_square = sample_array.var(ddof=1)\n",
    "sigma_square = sample_array.var()\n",
    "print(\"Sample variance: %.2f. Population variance: %.2f.\" % (s_square, sigma_square))\n",
    "\n",
    "s = sample_array.std(ddof=1)\n",
    "sigma = sample_array.std()\n",
    "print(\"Sample std. dev.: %.2f. Population std. dev.: %.2f.\" % (s, sigma))\n",
    "\n",
    "pct25 = np.percentile(sample, 25)\n",
    "pct75 = np.percentile(sample, 75)\n",
    "iqr = pct75 - pct25\n",
    "print(\"IQR: %.2f. 25th percentile: %.2f. 75th percentile: %.2f\" % (iqr, pct25, pct75))\n"
   ]
  },
  {
   "cell_type": "code",
   "execution_count": 30,
   "id": "d47abab8-4572-4827-ae2a-134bb41f07f6",
   "metadata": {},
   "outputs": [
    {
     "data": {
      "text/plain": [
       "rat_arrival_number\n",
       "0     1578\n",
       "1      335\n",
       "2      118\n",
       "3       45\n",
       "4       27\n",
       "5        8\n",
       "6        6\n",
       "7        3\n",
       "8        2\n",
       "17       1\n",
       "Name: count, dtype: int64"
      ]
     },
     "execution_count": 30,
     "metadata": {},
     "output_type": "execute_result"
    }
   ],
   "source": [
    "df2['rat_arrival_number'].value_counts()"
   ]
  },
  {
   "cell_type": "code",
   "execution_count": 31,
   "id": "f9a7e73b-334b-45f1-9673-e4ca662ceebc",
   "metadata": {},
   "outputs": [
    {
     "data": {
      "image/png": "[encoded data removed]",
      "text/plain": [
       "<Figure size 640x480 with 1 Axes>"
      ]
     },
     "metadata": {},
     "output_type": "display_data"
    }
   ],
   "source": [
    "plt.hist(df2[\"rat_arrival_number\"], bins=25, color='green', edgecolor='black')\n",
    "plt.xlabel(\"Rat Arrival Number\")\n",
    "plt.ylabel(\"Frequency\")\n",
    "plt.title(\"Distribution of Rat Arrival Number\")\n",
    "plt.show()"
   ]
  },
  {
   "cell_type": "code",
   "execution_count": 32,
   "id": "d563febe-33b3-4767-aad0-904cbce5d5bd",
   "metadata": {},
   "outputs": [
    {
     "name": "stdout",
     "output_type": "stream",
     "text": [
      "Mean: 0\n",
      "Median: 0.00\n",
      "Mode value: 0\n",
      "Range: 17\n",
      "Sample variance: 1.04. Population variance: 1.04.\n",
      "Sample std. dev.: 1.02. Population std. dev.: 1.02.\n",
      "IQR: 1.00. 25th percentile: 0.00. 75th percentile: 1.00\n"
     ]
    }
   ],
   "source": [
    "sample = df2['rat_arrival_number'].values\n",
    "x_bar = stats.mean(sample)\n",
    "print(\"Mean:\", x_bar)\n",
    "\n",
    "median = stats.median(sample)\n",
    "print(\"Median: %.2f\" % median)\n",
    "\n",
    "mode = stats.mode(sample)\n",
    "print(\"Mode value: %d\" % mode)\n",
    "\n",
    "the_range = np.max(sample) - np.min(sample)\n",
    "print(\"Range: %d\" % the_range)\n",
    "\n",
    "sample_array = np.array(sample)\n",
    "s_square = sample_array.var(ddof=1)\n",
    "sigma_square = sample_array.var()\n",
    "print(\"Sample variance: %.2f. Population variance: %.2f.\" % (s_square, sigma_square))\n",
    "\n",
    "s = sample_array.std(ddof=1)\n",
    "sigma = sample_array.std()\n",
    "print(\"Sample std. dev.: %.2f. Population std. dev.: %.2f.\" % (s, sigma))\n",
    "\n",
    "pct25 = np.percentile(sample, 25)\n",
    "pct75 = np.percentile(sample, 75)\n",
    "iqr = pct75 - pct25\n",
    "print(\"IQR: %.2f. 25th percentile: %.2f. 75th percentile: %.2f\" % (iqr, pct25, pct75))\n"
   ]
  },
  {
   "cell_type": "code",
   "execution_count": 33,
   "id": "f0fd7f0d-9279-4f8d-8c99-10aa15d0bccc",
   "metadata": {},
   "outputs": [
    {
     "name": "stdout",
     "output_type": "stream",
     "text": [
      "Observation periods with rats: 545\n",
      "Observation periods without rats: 1578\n",
      "\n",
      "Bat activity comparison:\n",
      "Average bat landings with rats present: 27.67\n",
      "Average bat landings without rats: 33.61\n",
      "\n",
      "Median bat landings with rats present: 21.00\n",
      "Median bat landings without rats: 29.00\n",
      "\n",
      "Standard deviation with rats: 22.39\n",
      "Standard deviation without rats: 26.47\n"
     ]
    }
   ],
   "source": [
    "\n",
    "with_rats = df2[df2['rat_arrival_number'] > 0]\n",
    "without_rats = df2[df2['rat_arrival_number'] == 0]\n",
    "\n",
    "print(f\"Observation periods with rats: {len(with_rats)}\")\n",
    "print(f\"Observation periods without rats: {len(without_rats)}\")\n",
    "\n",
    "# Compare bat landing numbers\n",
    "print(f\"\\nBat activity comparison:\")\n",
    "print(f\"Average bat landings with rats present: {stats.mean(with_rats['bat_landing_number']):.2f}\")\n",
    "print(f\"Average bat landings without rats: {stats.mean(without_rats['bat_landing_number']):.2f}\")\n",
    "\n",
    "print(f\"\\nMedian bat landings with rats present: {np.median(with_rats['bat_landing_number']):.2f}\")\n",
    "print(f\"Median bat landings without rats: {np.median(without_rats['bat_landing_number']):.2f}\")\n",
    "\n",
    "# Standard deviation\n",
    "print(f\"\\nStandard deviation with rats: {np.std(with_rats['bat_landing_number'], ddof=1):.2f}\")\n",
    "print(f\"Standard deviation without rats: {np.std(without_rats['bat_landing_number'], ddof=1):.2f}\")"
   ]
  },
  {
   "cell_type": "code",
   "execution_count": 34,
   "id": "8d57f22a-3b40-46be-b30c-f702f15300cb",
   "metadata": {},
   "outputs": [
    {
     "name": "stdout",
     "output_type": "stream",
     "text": [
      "\n",
      "=== Rat Intensity vs Bat Activity ===\n",
      "Bat activity by rat presence intensity:\n"
     ]
    },
    {
     "data": {
      "text/html": [
       "<div>\n",
       "<style scoped>\n",
       "    .dataframe tbody tr th:only-of-type {\n",
       "        vertical-align: middle;\n",
       "    }\n",
       "\n",
       "    .dataframe tbody tr th {\n",
       "        vertical-align: top;\n",
       "    }\n",
       "\n",
       "    .dataframe thead tr th {\n",
       "        text-align: left;\n",
       "    }\n",
       "\n",
       "    .dataframe thead tr:last-of-type th {\n",
       "        text-align: right;\n",
       "    }\n",
       "</style>\n",
       "<table border=\"1\" class=\"dataframe\">\n",
       "  <thead>\n",
       "    <tr>\n",
       "      <th></th>\n",
       "      <th colspan=\"3\" halign=\"left\">bat_landing_number</th>\n",
       "      <th>food_availability</th>\n",
       "      <th>rat_minutes</th>\n",
       "    </tr>\n",
       "    <tr>\n",
       "      <th></th>\n",
       "      <th>count</th>\n",
       "      <th>mean</th>\n",
       "      <th>median</th>\n",
       "      <th>mean</th>\n",
       "      <th>mean</th>\n",
       "    </tr>\n",
       "    <tr>\n",
       "      <th>rat_intensity</th>\n",
       "      <th></th>\n",
       "      <th></th>\n",
       "      <th></th>\n",
       "      <th></th>\n",
       "      <th></th>\n",
       "    </tr>\n",
       "  </thead>\n",
       "  <tbody>\n",
       "    <tr>\n",
       "      <th>No rats</th>\n",
       "      <td>1578</td>\n",
       "      <td>33.61</td>\n",
       "      <td>29.0</td>\n",
       "      <td>2.50</td>\n",
       "      <td>0.00</td>\n",
       "    </tr>\n",
       "    <tr>\n",
       "      <th>Low (1)</th>\n",
       "      <td>335</td>\n",
       "      <td>28.66</td>\n",
       "      <td>22.0</td>\n",
       "      <td>2.24</td>\n",
       "      <td>4.88</td>\n",
       "    </tr>\n",
       "    <tr>\n",
       "      <th>Medium (2)</th>\n",
       "      <td>118</td>\n",
       "      <td>26.56</td>\n",
       "      <td>22.0</td>\n",
       "      <td>2.42</td>\n",
       "      <td>7.49</td>\n",
       "    </tr>\n",
       "    <tr>\n",
       "      <th>High (3+)</th>\n",
       "      <td>92</td>\n",
       "      <td>25.49</td>\n",
       "      <td>16.0</td>\n",
       "      <td>2.34</td>\n",
       "      <td>18.65</td>\n",
       "    </tr>\n",
       "  </tbody>\n",
       "</table>\n",
       "</div>"
      ],
      "text/plain": [
       "              bat_landing_number               food_availability rat_minutes\n",
       "                           count   mean median              mean        mean\n",
       "rat_intensity                                                               \n",
       "No rats                     1578  33.61   29.0              2.50        0.00\n",
       "Low (1)                      335  28.66   22.0              2.24        4.88\n",
       "Medium (2)                   118  26.56   22.0              2.42        7.49\n",
       "High (3+)                     92  25.49   16.0              2.34       18.65"
      ]
     },
     "execution_count": 34,
     "metadata": {},
     "output_type": "execute_result"
    }
   ],
   "source": [
    "\n",
    "print(\"\\n=== Rat Intensity vs Bat Activity ===\")\n",
    "\n",
    "# Categorize rat presence intensity\n",
    "df2['rat_intensity'] = pd.cut(df2['rat_arrival_number'], \n",
    "                                      bins=[-1, 0, 1, 2, float('inf')], \n",
    "                                      labels=['No rats', 'Low (1)', 'Medium (2)', 'High (3+)'])\n",
    "\n",
    "rat_intensity_analysis = df2.groupby('rat_intensity').agg({\n",
    "    'bat_landing_number': ['count', 'mean', 'median'],\n",
    "    'food_availability': 'mean',\n",
    "    'rat_minutes': 'mean'\n",
    "}).round(2)\n",
    "\n",
    "print(\"Bat activity by rat presence intensity:\")\n",
    "rat_intensity_analysis"
   ]
  },
  {
   "cell_type": "code",
   "execution_count": 35,
   "id": "02bad1be-eb84-4fd6-bda7-0c4798de1efe",
   "metadata": {},
   "outputs": [
    {
     "name": "stdout",
     "output_type": "stream",
     "text": [
      "Approach time ranges:\n",
      "Minimum: 0.01 seconds\n",
      "25rd percentile: 1.00 seconds\n",
      "75th percentile: 12.00 seconds\n",
      "Maximum: 443.00 seconds\n"
     ]
    }
   ],
   "source": [
    "approach_times = df1['bat_landing_to_food']\n",
    "min_time = approach_times.min()\n",
    "q25 = np.percentile(approach_times, 25)\n",
    "q75 = np.percentile(approach_times, 75)\n",
    "max_time = approach_times.max()\n",
    "\n",
    "print(f\"Approach time ranges:\")\n",
    "print(f\"Minimum: {min_time:.2f} seconds\")\n",
    "print(f\"25rd percentile: {q25:.2f} seconds\")\n",
    "print(f\"75th percentile: {q75:.2f} seconds\")\n",
    "print(f\"Maximum: {max_time:.2f} seconds\")\n"
   ]
  },
  {
   "cell_type": "code",
   "execution_count": 36,
   "id": "9e6454ad-713d-4b42-9c18-292f1dae0332",
   "metadata": {},
   "outputs": [],
   "source": [
    "\n",
    "time_bins = [0.01, q25, q75, max_time + 1]\n",
    "vigilance_labels = ['Low_Vigilance', 'Medium_Vigilance', 'High_Vigilance']\n",
    "\n",
    "df1['vigilance_level'] = pd.cut(df1['bat_landing_to_food'], \n",
    "                                             bins=time_bins, \n",
    "                                             labels=vigilance_labels)\n",
    "\n"
   ]
  },
  {
   "cell_type": "code",
   "execution_count": 37,
   "id": "64b1f276-6ade-4ae0-8d20-d46bf09d6ed9",
   "metadata": {},
   "outputs": [
    {
     "data": {
      "text/plain": [
       "vigilance_level\n",
       "Medium_Vigilance    415\n",
       "Low_Vigilance       238\n",
       "High_Vigilance      213\n",
       "Name: count, dtype: int64"
      ]
     },
     "execution_count": 37,
     "metadata": {},
     "output_type": "execute_result"
    }
   ],
   "source": [
    "df1['vigilance_level'].value_counts()"
   ]
  },
  {
   "cell_type": "markdown",
   "id": "6a88b4bd-26e3-4bb2-b9c2-74c81916d3ff",
   "metadata": {},
   "source": [
    "##  Key columns For Investigation A\n",
    "\n",
    "For investigating whether bats perceive rats as predators, we focus on features from both dataset:\n",
    "- **Risk Column**\n",
    "- **bat_landing_to_food** \n",
    "- **Rewards** \n",
    "- **Habit**\n",
    "- **Bat landing Number** \n",
    "- **Rat arrival number**\n",
    "- **Rat Minutes**\n",
    "- *Food avialability* "
   ]
  },
  {
   "cell_type": "markdown",
   "id": "5211994c-34c2-4174-a18e-30216fe627af",
   "metadata": {},
   "source": [
    "****"
   ]
  },
  {
   "cell_type": "markdown",
   "id": "09ab4c3e-b993-4e31-b857-d080590a4de5",
   "metadata": {},
   "source": [
    "**Inferential Data Analysis**"
   ]
  },
  {
   "cell_type": "code",
   "execution_count": 38,
   "id": "e483164d-b1cf-4114-b3b3-e83f1baba395",
   "metadata": {},
   "outputs": [
    {
     "data": {
      "text/plain": [
       "risk\n",
       "1    51.847575\n",
       "0    48.152425\n",
       "Name: count, dtype: float64"
      ]
     },
     "execution_count": 38,
     "metadata": {},
     "output_type": "execute_result"
    }
   ],
   "source": [
    "df1['risk'].value_counts()/(len(df1)) *100"
   ]
  },
  {
   "cell_type": "code",
   "execution_count": 39,
   "id": "79ae458f-ad74-40cb-8166-1145a316e3ed",
   "metadata": {},
   "outputs": [
    {
     "name": "stdout",
     "output_type": "stream",
     "text": [
      "Z-statistic: 1.96\n",
      "0.9438299714489559\n",
      "Confidence Interval of the mean: 10.01 to 13.71\n"
     ]
    }
   ],
   "source": [
    "# vigilance confidence interval 95%\n",
    "sample_vigilance = df1['bat_landing_to_food']\n",
    "vigilance_bar = sample_vigilance.mean()\n",
    "vigilance_std = sample_vigilance.std()\n",
    "vigilance_size=len(sample_vigilance)\n",
    "# z-score (assuming 95% Confidence Level)\n",
    "z_score = st.norm.ppf(q = 0.975)\n",
    "print(\"Z-statistic: %.2f\" % z_score)\n",
    "\n",
    "# compute standard error\n",
    "std_err = vigilance_std / math.sqrt(vigilance_size)\n",
    "print(std_err)\n",
    "\n",
    "ci_low_stm, ci_upp_stm = stw._zconfint_generic(vigilance_bar,std_err,alpha=0.05, alternative=\"two-sided\")\n",
    "print(\"Confidence Interval of the mean: %.2f to %.2f\" % (ci_low_stm, ci_upp_stm))"
   ]
  },
  {
   "cell_type": "code",
   "execution_count": 40,
   "id": "bc4255ef-53a2-4a64-b8ff-388c8f6e419c",
   "metadata": {},
   "outputs": [],
   "source": [
    "bats_risk_taking = df1[df1['risk']==1]\n",
    "bats_risk_avoiding = df1[df1['risk']==0]"
   ]
  },
  {
   "cell_type": "code",
   "execution_count": 41,
   "id": "d98d47f8-bb90-4511-b085-d3dd1df5ae4f",
   "metadata": {},
   "outputs": [
    {
     "name": "stdout",
     "output_type": "stream",
     "text": [
      "C.I. of proportion at 95% confidence level is 0.485 (48.5%) and 0.552 (55.2%).\n"
     ]
    }
   ],
   "source": [
    "# risk taking proportion, risk=1\n",
    "prop = len(bats_risk_taking)\n",
    "\n",
    "# sample size\n",
    "total =len(df1['risk'])\n",
    "\n",
    "# confidence level\n",
    "conf_lvl = 0.95\n",
    "\n",
    "# significance level (alpha)\n",
    "sig_lvl = 1 - conf_lvl\n",
    "# compute confidence interval for proportion (confidence level=95%)\n",
    "ci_low, ci_upp = stp.proportion_confint(prop, total, alpha=sig_lvl, method=\"normal\")\n",
    "print(\"C.I. of proportion at %d%% confidence level is %.3f (%.1f%%) and %.3f (%.1f%%).\" % \n",
    "      (conf_lvl*100, ci_low, ci_low*100, ci_upp, ci_upp*100))"
   ]
  },
  {
   "cell_type": "code",
   "execution_count": 42,
   "id": "bf4677e6-5aaa-4d6d-9fe9-78abc3867c6a",
   "metadata": {},
   "outputs": [
    {
     "name": "stdout",
     "output_type": "stream",
     "text": [
      "\t Sample mean: 11.86\n",
      "\t Sample std. dev.: 27.77\n"
     ]
    }
   ],
   "source": [
    "sample = df1[\"bat_landing_to_food\"]\n",
    "x_bar = st.tmean(sample)\n",
    "s = st.tstd(sample)\n",
    "print(\"\\t Sample mean: %.2f\" % x_bar)\n",
    "print(\"\\t Sample std. dev.: %.2f\" % s)"
   ]
  },
  {
   "cell_type": "code",
   "execution_count": 43,
   "id": "5543d504-9f72-4e7d-8c88-872f990d358a",
   "metadata": {},
   "outputs": [
    {
     "name": "stdout",
     "output_type": "stream",
     "text": [
      "\n",
      " Computing t* ...\n",
      "\t t-statistic (t*): 1.97\n",
      "\n",
      " Computing p-value ...\n",
      "\t p-value: 0.0245\n",
      "\n",
      " Conclusion:\n",
      "\t We reject the null hypothesis.\n"
     ]
    }
   ],
   "source": [
    "# perform one-sample t-test\n",
    "# null hypothesis: population mean = 10\n",
    "# alternative hypothesis: population mean > 10 (in the function below, note the argument 'greater')\n",
    "t_stat, p_val = st.ttest_1samp(sample, 10, alternative=\"greater\")\n",
    "print(\"\\n Computing t* ...\")\n",
    "print(\"\\t t-statistic (t*): %.2f\" % t_stat)\n",
    "\n",
    "print(\"\\n Computing p-value ...\")\n",
    "print(\"\\t p-value: %.4f\" % p_val)\n",
    "\n",
    "print(\"\\n Conclusion:\")\n",
    "if p_val < 0.05:\n",
    "    print(\"\\t We reject the null hypothesis.\")\n",
    "else:\n",
    "    print(\"\\t We accept the null hypothesis.\")"
   ]
  },
  {
   "cell_type": "code",
   "execution_count": 44,
   "id": "7b0a01d8-7f60-4a64-b2f0-616b92c04328",
   "metadata": {},
   "outputs": [
    {
     "name": "stdout",
     "output_type": "stream",
     "text": [
      "\t Statistics of sample 1: 16.394 (mean), 32.746 (std. dev.), and 449 (n).\n",
      "\t Statistics of sample 2: 6.979 (mean), 20.081 (std. dev.), and 417 (n).\n",
      "\n",
      " Computing t* ...\n",
      "\t t-statistic (t*): 5.14\n",
      "\n",
      " Computing p-value ...\n",
      "\t p-value: 0.0000\n",
      "\n",
      " Conclusion:\n",
      "\t We reject the null hypothesis.\n"
     ]
    }
   ],
   "source": [
    "sample1 = bats_risk_taking['bat_landing_to_food'].to_numpy()\n",
    "sample2 = bats_risk_avoiding['bat_landing_to_food'].to_numpy()\n",
    "\n",
    "x_bar1 = st.tmean(sample1)\n",
    "s1 = st.tstd(sample1)\n",
    "n1 = len(sample1)\n",
    "print(\"\\t Statistics of sample 1: %.3f (mean), %.3f (std. dev.), and %d (n).\" % (x_bar1, s1, n1))\n",
    "\n",
    "\n",
    "# the basic statistics of sample 2:\n",
    "x_bar2 = st.tmean(sample2)\n",
    "s2 = st.tstd(sample2)\n",
    "n2 = len(sample2)\n",
    "print(\"\\t Statistics of sample 2: %.3f (mean), %.3f (std. dev.), and %d (n).\" % (x_bar2, s2, n2))\n",
    "\n",
    "\n",
    "\n",
    "# perform two-sample t-test\n",
    "# null hypothesis: mean of sample 1 = mean of sample 2\n",
    "# alternative hypothesis: mean of sample 1 is greater than mean of sample 2 (one-sided test)\n",
    "# note the argument equal_var=False, which assumes that two populations do not have equal variance\n",
    "t_stats, p_val = st.ttest_ind_from_stats(x_bar1, s1, n1, x_bar2, s2, n2, equal_var=False, alternative='greater')\n",
    "print(\"\\n Computing t* ...\")\n",
    "print(\"\\t t-statistic (t*): %.2f\" % t_stats)\n",
    "\n",
    "print(\"\\n Computing p-value ...\")\n",
    "print(\"\\t p-value: %.4f\" % p_val)\n",
    "\n",
    "print(\"\\n Conclusion:\")\n",
    "if p_val < 0.05:\n",
    "    print(\"\\t We reject the null hypothesis.\")\n",
    "else:\n",
    "    print(\"\\t We accept the null hypothesis.\")\n"
   ]
  },
  {
   "cell_type": "code",
   "execution_count": 45,
   "id": "62198fb7-2954-4be3-a8f3-98ce82f3e132",
   "metadata": {},
   "outputs": [],
   "source": [
    "bins = [0, 1, 3, 10, df2[\"rat_arrival_number\"].max()]\n",
    "labels = [\"no_rat\", \"low\", \"medium\", \"high\"]\n",
    "df2[\"rat_density\"] = pd.cut(df2[\"rat_arrival_number\"], bins=bins, labels=labels, include_lowest=True)\n"
   ]
  },
  {
   "cell_type": "code",
   "execution_count": 46,
   "id": "7fffc7de-d491-421e-a122-2665324f6e2d",
   "metadata": {},
   "outputs": [
    {
     "name": "stdout",
     "output_type": "stream",
     "text": [
      "Z-statistic: 1.96\n",
      "Confidence Interval of the mean: 33.22 to 30.94\n"
     ]
    }
   ],
   "source": [
    "\n",
    "mean = df2[\"bat_landing_number\"].mean()\n",
    "s = df2[\"bat_landing_number\"].std(ddof=1)\n",
    "n = len(df2[\"bat_landing_number\"])\n",
    "se = s / math.sqrt(n)\n",
    "\n",
    "\n",
    "z_score = st.norm.ppf(q = 0.975)\n",
    "print(\"Z-statistic: %.2f\" % z_score)\n",
    "\n",
    "\n",
    "ci_low_stm, ci_upp_stm = stw._zconfint_generic(mean,se,z_score, alternative=\"two-sided\")\n",
    "print(\"Confidence Interval of the mean: %.2f to %.2f\" % (ci_low_stm, ci_upp_stm))"
   ]
  },
  {
   "cell_type": "code",
   "execution_count": 47,
   "id": "9b05664e-688d-493b-bee8-1658e0b0b3e8",
   "metadata": {},
   "outputs": [
    {
     "name": "stdout",
     "output_type": "stream",
     "text": [
      "\t Sample mean: 32.08\n",
      "\t Sample std. dev.: 25.61\n"
     ]
    }
   ],
   "source": [
    "sample = df2[\"bat_landing_number\"]\n",
    "x_bar = st.tmean(sample)\n",
    "s = st.tstd(sample)\n",
    "print(\"\\t Sample mean: %.2f\" % x_bar)\n",
    "print(\"\\t Sample std. dev.: %.2f\" % s)\n"
   ]
  },
  {
   "cell_type": "code",
   "execution_count": 48,
   "id": "386b959f-b2cc-412f-b1ac-d8b08fabf35c",
   "metadata": {},
   "outputs": [
    {
     "name": "stdout",
     "output_type": "stream",
     "text": [
      "\n",
      " Computing t* ...\n",
      "\t t-statistic (t*): -32.23\n",
      "\n",
      " Computing p-value ...\n",
      "\t p-value: 0.0000\n",
      "\n",
      " Conclusion:\n",
      "\t We reject the null hypothesis.\n"
     ]
    }
   ],
   "source": [
    "\n",
    "# perform one-sample t-test\n",
    "# null hypothesis: population mean = 50\n",
    "# alternative hypothesis: population mean < 50 (in the function below, note the argument 'greater')\n",
    "t_stat, p_val = st.ttest_1samp(sample, 50, alternative=\"less\")\n",
    "print(\"\\n Computing t* ...\")\n",
    "print(\"\\t t-statistic (t*): %.2f\" % t_stat)\n",
    "\n",
    "print(\"\\n Computing p-value ...\")\n",
    "print(\"\\t p-value: %.4f\" % p_val)\n",
    "\n",
    "print(\"\\n Conclusion:\")\n",
    "if p_val < 0.05:\n",
    "    print(\"\\t We reject the null hypothesis.\")\n",
    "else:\n",
    "    print(\"\\t We accept the null hypothesis.\")"
   ]
  },
  {
   "cell_type": "code",
   "execution_count": 49,
   "id": "464c9693-dbb7-4a00-b3a4-ddfb743e3c3e",
   "metadata": {},
   "outputs": [
    {
     "name": "stdout",
     "output_type": "stream",
     "text": [
      "\t Statistics of sample 1: 32.083 (mean), 25.614 (std. dev.), and 2123 (n).\n",
      "\t Statistics of sample 2: 0.445 (mean), 1.019 (std. dev.), and 2123 (n).\n"
     ]
    }
   ],
   "source": [
    "sample1 = df2['bat_landing_number'].to_numpy()\n",
    "sample2 = df2['rat_arrival_number'].to_numpy()\n",
    "\n",
    "x_bar1 = st.tmean(sample1)\n",
    "s1 = st.tstd(sample1)\n",
    "n1 = len(sample1)\n",
    "print(\"\\t Statistics of sample 1: %.3f (mean), %.3f (std. dev.), and %d (n).\" % (x_bar1, s1, n1))\n",
    "\n",
    "\n",
    "# the basic statistics of sample 2:\n",
    "x_bar2 = st.tmean(sample2)\n",
    "s2 = st.tstd(sample2)\n",
    "n2 = len(sample2)\n",
    "print(\"\\t Statistics of sample 2: %.3f (mean), %.3f (std. dev.), and %d (n).\" % (x_bar2, s2, n2))\n"
   ]
  },
  {
   "cell_type": "code",
   "execution_count": 50,
   "id": "2307e338-3e30-4c23-91a8-8d51f34557ba",
   "metadata": {},
   "outputs": [
    {
     "name": "stdout",
     "output_type": "stream",
     "text": [
      "\n",
      " Computing t* ...\n",
      "\t t-statistic (t*): 56.87\n",
      "\n",
      " Computing p-value ...\n",
      "\t p-value: 0.0000\n",
      "\n",
      " Conclusion:\n",
      "\t We reject the null hypothesis.\n"
     ]
    }
   ],
   "source": [
    "# perform two-sample t-test\n",
    "# null hypothesis: mean of sample 1 = mean of sample 2\n",
    "# alternative hypothesis: mean of sample 1 is greater than mean of sample 2 (one-sided test)\n",
    "# note the argument equal_var=False, which assumes that two populations do not have equal variance\n",
    "t_stats, p_val = st.ttest_ind_from_stats(x_bar1, s1, n1, x_bar2, s2, n2, equal_var=False, alternative='greater')\n",
    "print(\"\\n Computing t* ...\")\n",
    "print(\"\\t t-statistic (t*): %.2f\" % t_stats)\n",
    "\n",
    "print(\"\\n Computing p-value ...\")\n",
    "print(\"\\t p-value: %.4f\" % p_val)\n",
    "\n",
    "print(\"\\n Conclusion:\")\n",
    "if p_val < 0.05:\n",
    "    print(\"\\t We reject the null hypothesis.\")\n",
    "else:\n",
    "    print(\"\\t We accept the null hypothesis.\")\n"
   ]
  },
  {
   "cell_type": "code",
   "execution_count": 51,
   "id": "57015ae5-3a0a-48ba-992c-8ceebccbd501",
   "metadata": {},
   "outputs": [
    {
     "data": {
      "image/png": "[encoded data removed]",
      "text/plain": [
       "<Figure size 640x480 with 1 Axes>"
      ]
     },
     "metadata": {},
     "output_type": "display_data"
    },
    {
     "name": "stdout",
     "output_type": "stream",
     "text": [
      "Model with intercept:\n",
      "Intercept:  32.90514435372475\n",
      "Coefficient:  [-1.84811596]\n"
     ]
    },
    {
     "data": {
      "image/png": "[encoded data removed]",
      "text/plain": [
       "<Figure size 640x480 with 1 Axes>"
      ]
     },
     "metadata": {},
     "output_type": "display_data"
    }
   ],
   "source": [
    "# Bats landing correlate to rats arrival \n",
    "X = df2['rat_arrival_number'].values\n",
    "y = df2['bat_landing_number'].values\n",
    "\n",
    "\n",
    "# Plot data points as a scatterplot \n",
    "plt.scatter(X,y)\n",
    "plt.title(\"Rat arrival vs Bat landing\")\n",
    "plt.xlabel(\"Rat Arrival Number\")\n",
    "plt.ylabel(\"Bat Landing Number\")\n",
    "plt.grid()\n",
    "plt.show()\n",
    "\n",
    "\n",
    "# Model 1 #\n",
    "# Initialise a linear regression model\n",
    "model = LinearRegression()\n",
    "\n",
    "# Fit the linear regression model on the data\n",
    "model.fit(X.reshape(-1,1), y)\n",
    "\n",
    "# Get the intercept and coefficient values\n",
    "intercept = model.intercept_\n",
    "coeff_intercept = model.coef_ \n",
    "print(\"Model with intercept:\")\n",
    "print(\"Intercept: \", intercept)\n",
    "print(\"Coefficient: \", coeff_intercept)\n",
    "\n",
    "# Visualise the regression line over all data points\n",
    "x_line1 = X\n",
    "y_line1 = x_line1 * coeff_intercept + intercept\n",
    "\n",
    "plt.scatter(X,y)\n",
    "plt.title(\"Rat arrival vs Bat landing\")\n",
    "plt.xlabel(\"Rat Arrival Number\")\n",
    "plt.ylabel(\"Bat Landing Number\")\n",
    "plt.plot(x_line1, y_line1, \":r\", label=f\"y={intercept} + {coeff_intercept}*X\")\n",
    "plt.legend(loc='upper left')\n",
    "plt.grid()\n",
    "plt.show()\n"
   ]
  },
  {
   "cell_type": "markdown",
   "id": "b95ea6d1-87cf-47cc-bf35-6e72cb29184d",
   "metadata": {},
   "source": [
    "**The Regression Plot showing decreasing bat landing while Rat arrival Number are increasing**"
   ]
  },
  {
   "cell_type": "code",
   "execution_count": 52,
   "id": "ea2c9438-063c-45f2-9a67-df37b799e9ae",
   "metadata": {},
   "outputs": [
    {
     "data": {
      "image/png": "[encoded data removed]",
      "text/plain": [
       "<Figure size 640x480 with 1 Axes>"
      ]
     },
     "metadata": {},
     "output_type": "display_data"
    },
    {
     "name": "stdout",
     "output_type": "stream",
     "text": [
      "Model with intercept:\n",
      "Intercept:  33.18300650358429\n",
      "Coefficient:  [-0.55134921]\n"
     ]
    },
    {
     "data": {
      "image/png": "[encoded data removed]",
      "text/plain": [
       "<Figure size 640x480 with 1 Axes>"
      ]
     },
     "metadata": {},
     "output_type": "display_data"
    }
   ],
   "source": [
    "# Bats landing correlate to rats arrival \n",
    "X = df2['rat_minutes'].values\n",
    "y = df2['bat_landing_number'].values\n",
    "\n",
    "\n",
    "# Plot data points as a scatterplot \n",
    "plt.scatter(X,y)\n",
    "plt.title(\"Rat arrival vs Bat landing\")\n",
    "plt.xlabel(\"Rat Arrival Minutes\")\n",
    "plt.ylabel(\"Bat Landing Number\")\n",
    "plt.grid()\n",
    "plt.show()\n",
    "\n",
    "\n",
    "# Model 1 #\n",
    "# Initialise a linear regression model\n",
    "model = LinearRegression()\n",
    "\n",
    "# Fit the linear regression model on the data\n",
    "model.fit(X.reshape(-1,1), y)\n",
    "\n",
    "# Get the intercept and coefficient values\n",
    "intercept = model.intercept_\n",
    "coeff_intercept = model.coef_ \n",
    "print(\"Model with intercept:\")\n",
    "print(\"Intercept: \", intercept)\n",
    "print(\"Coefficient: \", coeff_intercept)\n",
    "\n",
    "# Visualise the regression line over all data points\n",
    "x_line1 = X\n",
    "y_line1 = x_line1 * coeff_intercept + intercept\n",
    "\n",
    "plt.scatter(X,y)\n",
    "plt.title(\"Rat arrival vs Bat landing\")\n",
    "plt.xlabel(\"Rat Arrival Minutes\")\n",
    "plt.ylabel(\"Bat Landing Number\")\n",
    "plt.plot(x_line1, y_line1, \":r\", label=f\"y={intercept} + {coeff_intercept}*X\")\n",
    "plt.legend(loc='upper left')\n",
    "plt.grid()\n",
    "plt.show()\n"
   ]
  },
  {
   "cell_type": "markdown",
   "id": "977e48d8-8a7f-49df-9a07-b84c0f701ed7",
   "metadata": {},
   "source": [
    "**If Rats were present in the food platform Bats were less landing**"
   ]
  },
  {
   "cell_type": "markdown",
   "id": "a8d0e284-f22a-4e84-ab0c-94d6e6cc0ff7",
   "metadata": {},
   "source": [
    "**Bats Perceive Rats not just as competitors for food but also as potential predator.**"
   ]
  }
 ],
 "metadata": {
  "kernelspec": {
   "display_name": "Python 3 (ipykernel)",
   "language": "python",
   "name": "python3"
  },
  "language_info": {
   "codemirror_mode": {
    "name": "ipython",
    "version": 3
   },
   "file_extension": ".py",
   "mimetype": "text/x-python",
   "name": "python",
   "nbconvert_exporter": "python",
   "pygments_lexer": "ipython3",
   "version": "3.13.5"
  }
 },
 "nbformat": 4,
 "nbformat_minor": 5
}
