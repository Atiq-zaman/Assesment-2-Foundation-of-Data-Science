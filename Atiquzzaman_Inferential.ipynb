{
 "cells": [
  {
   "cell_type": "code",
   "execution_count": 86,
   "id": "23d03919-2bf1-41c0-b447-3b0c8de0da63",
   "metadata": {},
   "outputs": [],
   "source": [
    "import pandas as pd\n",
    "import numpy as np\n",
    "import matplotlib.pyplot as plt\n",
    "import statistics as stats\n",
    "import math\n",
    "import scipy.stats as st\n",
    "import statsmodels.stats.proportion as stp\n",
    "import statsmodels.stats.weightstats as stw\n",
    "from sklearn.linear_model import LinearRegression"
   ]
  },
  {
   "cell_type": "code",
   "execution_count": 87,
   "id": "d641a6db-f432-4297-87b1-5199bbc80e1a",
   "metadata": {},
   "outputs": [],
   "source": [
    "df1 = pd.read_csv(\"dataset1.csv\")\n",
    "df2 = pd.read_csv(\"dataset2.csv\")"
   ]
  },
  {
   "cell_type": "code",
   "execution_count": 88,
   "id": "d101633c-c82a-4770-b680-13684e67715b",
   "metadata": {},
   "outputs": [
    {
     "data": {
      "text/html": [
       "<div>\n",
       "<style scoped>\n",
       "    .dataframe tbody tr th:only-of-type {\n",
       "        vertical-align: middle;\n",
       "    }\n",
       "\n",
       "    .dataframe tbody tr th {\n",
       "        vertical-align: top;\n",
       "    }\n",
       "\n",
       "    .dataframe thead th {\n",
       "        text-align: right;\n",
       "    }\n",
       "</style>\n",
       "<table border=\"1\" class=\"dataframe\">\n",
       "  <thead>\n",
       "    <tr style=\"text-align: right;\">\n",
       "      <th></th>\n",
       "      <th>start_time</th>\n",
       "      <th>bat_landing_to_food</th>\n",
       "      <th>habit</th>\n",
       "      <th>rat_period_start</th>\n",
       "      <th>rat_period_end</th>\n",
       "      <th>seconds_after_rat_arrival</th>\n",
       "      <th>risk</th>\n",
       "      <th>reward</th>\n",
       "      <th>month</th>\n",
       "      <th>sunset_time</th>\n",
       "      <th>hours_after_sunset</th>\n",
       "      <th>season</th>\n",
       "    </tr>\n",
       "  </thead>\n",
       "  <tbody>\n",
       "    <tr>\n",
       "      <th>0</th>\n",
       "      <td>30/12/2017 18:37</td>\n",
       "      <td>16.000000</td>\n",
       "      <td>rat</td>\n",
       "      <td>30/12/2017 18:35</td>\n",
       "      <td>30/12/2017 18:38</td>\n",
       "      <td>108</td>\n",
       "      <td>1</td>\n",
       "      <td>0</td>\n",
       "      <td>0</td>\n",
       "      <td>30/12/2017 16:45</td>\n",
       "      <td>1.870833</td>\n",
       "      <td>0</td>\n",
       "    </tr>\n",
       "    <tr>\n",
       "      <th>1</th>\n",
       "      <td>30/12/2017 19:51</td>\n",
       "      <td>0.074016</td>\n",
       "      <td>fast</td>\n",
       "      <td>30/12/2017 19:50</td>\n",
       "      <td>30/12/2017 19:55</td>\n",
       "      <td>17</td>\n",
       "      <td>0</td>\n",
       "      <td>1</td>\n",
       "      <td>0</td>\n",
       "      <td>30/12/2017 16:45</td>\n",
       "      <td>3.100833</td>\n",
       "      <td>0</td>\n",
       "    </tr>\n",
       "    <tr>\n",
       "      <th>2</th>\n",
       "      <td>30/12/2017 19:51</td>\n",
       "      <td>4.000000</td>\n",
       "      <td>fast</td>\n",
       "      <td>30/12/2017 19:50</td>\n",
       "      <td>30/12/2017 19:55</td>\n",
       "      <td>41</td>\n",
       "      <td>0</td>\n",
       "      <td>1</td>\n",
       "      <td>0</td>\n",
       "      <td>30/12/2017 16:45</td>\n",
       "      <td>3.107500</td>\n",
       "      <td>0</td>\n",
       "    </tr>\n",
       "    <tr>\n",
       "      <th>3</th>\n",
       "      <td>30/12/2017 19:52</td>\n",
       "      <td>10.000000</td>\n",
       "      <td>rat</td>\n",
       "      <td>30/12/2017 19:50</td>\n",
       "      <td>30/12/2017 19:55</td>\n",
       "      <td>111</td>\n",
       "      <td>1</td>\n",
       "      <td>0</td>\n",
       "      <td>0</td>\n",
       "      <td>30/12/2017 16:45</td>\n",
       "      <td>3.126944</td>\n",
       "      <td>0</td>\n",
       "    </tr>\n",
       "    <tr>\n",
       "      <th>4</th>\n",
       "      <td>30/12/2017 19:54</td>\n",
       "      <td>15.000000</td>\n",
       "      <td>rat</td>\n",
       "      <td>30/12/2017 19:50</td>\n",
       "      <td>30/12/2017 19:55</td>\n",
       "      <td>194</td>\n",
       "      <td>1</td>\n",
       "      <td>0</td>\n",
       "      <td>0</td>\n",
       "      <td>30/12/2017 16:45</td>\n",
       "      <td>3.150000</td>\n",
       "      <td>0</td>\n",
       "    </tr>\n",
       "  </tbody>\n",
       "</table>\n",
       "</div>"
      ],
      "text/plain": [
       "         start_time  bat_landing_to_food habit  rat_period_start  \\\n",
       "0  30/12/2017 18:37            16.000000   rat  30/12/2017 18:35   \n",
       "1  30/12/2017 19:51             0.074016  fast  30/12/2017 19:50   \n",
       "2  30/12/2017 19:51             4.000000  fast  30/12/2017 19:50   \n",
       "3  30/12/2017 19:52            10.000000   rat  30/12/2017 19:50   \n",
       "4  30/12/2017 19:54            15.000000   rat  30/12/2017 19:50   \n",
       "\n",
       "     rat_period_end  seconds_after_rat_arrival  risk  reward  month  \\\n",
       "0  30/12/2017 18:38                        108     1       0      0   \n",
       "1  30/12/2017 19:55                         17     0       1      0   \n",
       "2  30/12/2017 19:55                         41     0       1      0   \n",
       "3  30/12/2017 19:55                        111     1       0      0   \n",
       "4  30/12/2017 19:55                        194     1       0      0   \n",
       "\n",
       "        sunset_time  hours_after_sunset  season  \n",
       "0  30/12/2017 16:45            1.870833       0  \n",
       "1  30/12/2017 16:45            3.100833       0  \n",
       "2  30/12/2017 16:45            3.107500       0  \n",
       "3  30/12/2017 16:45            3.126944       0  \n",
       "4  30/12/2017 16:45            3.150000       0  "
      ]
     },
     "execution_count": 88,
     "metadata": {},
     "output_type": "execute_result"
    }
   ],
   "source": [
    "df1.head()"
   ]
  },
  {
   "cell_type": "code",
   "execution_count": 89,
   "id": "b18ff79e-4844-4fda-9872-d4cd3a8a70b8",
   "metadata": {},
   "outputs": [
    {
     "data": {
      "text/plain": [
       "risk\n",
       "0    50.496141\n",
       "1    49.503859\n",
       "Name: count, dtype: float64"
      ]
     },
     "execution_count": 89,
     "metadata": {},
     "output_type": "execute_result"
    }
   ],
   "source": [
    "df1['risk'].value_counts()/(len(df1)) *100"
   ]
  },
  {
   "cell_type": "code",
   "execution_count": 90,
   "id": "8798eb1e-0913-4d88-9a90-b380c98302ae",
   "metadata": {},
   "outputs": [
    {
     "name": "stdout",
     "output_type": "stream",
     "text": [
      "Z-statistic: 1.96\n",
      "0.9179175574639998\n",
      "Confidence Interval of the mean: 9.91 to 13.51\n"
     ]
    }
   ],
   "source": [
    "# vigilance confidence interval 95%\n",
    "sample_vigilance = df1['bat_landing_to_food']\n",
    "vigilance_bar = sample_vigilance.mean()\n",
    "vigilance_std = sample_vigilance.std()\n",
    "vigilance_size=len(sample_vigilance)\n",
    "# z-score (assuming 95% Confidence Level)\n",
    "z_score = st.norm.ppf(q = 0.975)\n",
    "print(\"Z-statistic: %.2f\" % z_score)\n",
    "\n",
    "# compute standard error\n",
    "std_err = vigilance_std / math.sqrt(vigilance_size)\n",
    "print(std_err)\n",
    "\n",
    "ci_low_stm, ci_upp_stm = stw._zconfint_generic(vigilance_bar,std_err,alpha=0.05, alternative=\"two-sided\")\n",
    "print(\"Confidence Interval of the mean: %.2f to %.2f\" % (ci_low_stm, ci_upp_stm))"
   ]
  },
  {
   "cell_type": "markdown",
   "id": "505da646-1748-4e04-bea6-92f82887c10a",
   "metadata": {},
   "source": [
    " **We are 95% confident that the true population mean approach time is between 9.91 and 13.51 seconds**"
   ]
  },
  {
   "cell_type": "code",
   "execution_count": 91,
   "id": "10e1c5fe-8767-4cb1-a777-a464e2f4c4e8",
   "metadata": {},
   "outputs": [],
   "source": [
    "bats_risk_taking = df1[df1['risk']==1]\n",
    "bats_risk_avoiding = df1[df1['risk']==0]"
   ]
  },
  {
   "cell_type": "code",
   "execution_count": 92,
   "id": "441150b0-c4d9-4594-bb75-f220b2227fbb",
   "metadata": {},
   "outputs": [
    {
     "name": "stdout",
     "output_type": "stream",
     "text": [
      "C.I. of proportion at 95% confidence level is 0.463 (46.3%) and 0.528 (52.8%).\n"
     ]
    }
   ],
   "source": [
    "# risk taking proportion, risk=1\n",
    "prop = len(bats_risk_taking)\n",
    "\n",
    "# sample size\n",
    "total =len(df1['risk'])\n",
    "\n",
    "# confidence level\n",
    "conf_lvl = 0.95\n",
    "\n",
    "# significance level (alpha)\n",
    "sig_lvl = 1 - conf_lvl\n",
    "# compute confidence interval for proportion (confidence level=95%)\n",
    "ci_low, ci_upp = stp.proportion_confint(prop, total, alpha=sig_lvl, method=\"normal\")\n",
    "print(\"C.I. of proportion at %d%% confidence level is %.3f (%.1f%%) and %.3f (%.1f%%).\" % \n",
    "      (conf_lvl*100, ci_low, ci_low*100, ci_upp, ci_upp*100))"
   ]
  },
  {
   "cell_type": "code",
   "execution_count": 93,
   "id": "1c563bcb-715e-42da-937b-5ec4f2c46f14",
   "metadata": {},
   "outputs": [
    {
     "name": "stdout",
     "output_type": "stream",
     "text": [
      "\t Sample mean: 11.71\n",
      "\t Sample std. dev.: 27.64\n"
     ]
    }
   ],
   "source": [
    "sample = df1[\"bat_landing_to_food\"]\n",
    "x_bar = st.tmean(sample)\n",
    "s = st.tstd(sample)\n",
    "print(\"\\t Sample mean: %.2f\" % x_bar)\n",
    "print(\"\\t Sample std. dev.: %.2f\" % s)"
   ]
  },
  {
   "cell_type": "code",
   "execution_count": 94,
   "id": "93974a2d-ff1e-493c-aacd-95ff56262c82",
   "metadata": {},
   "outputs": [
    {
     "name": "stdout",
     "output_type": "stream",
     "text": [
      "\n",
      " Computing t* ...\n",
      "\t t-statistic (t*): 1.87\n",
      "\n",
      " Computing p-value ...\n",
      "\t p-value: 0.0312\n",
      "\n",
      " Conclusion:\n",
      "\t We reject the null hypothesis.\n"
     ]
    }
   ],
   "source": [
    "# perform one-sample t-test\n",
    "# null hypothesis: population mean = 10\n",
    "# alternative hypothesis: population mean > 10 (in the function below, note the argument 'greater')\n",
    "t_stat, p_val = st.ttest_1samp(sample, 10, alternative=\"greater\")\n",
    "print(\"\\n Computing t* ...\")\n",
    "print(\"\\t t-statistic (t*): %.2f\" % t_stat)\n",
    "\n",
    "print(\"\\n Computing p-value ...\")\n",
    "print(\"\\t p-value: %.4f\" % p_val)\n",
    "\n",
    "print(\"\\n Conclusion:\")\n",
    "if p_val < 0.05:\n",
    "    print(\"\\t We reject the null hypothesis.\")\n",
    "else:\n",
    "    print(\"\\t We accept the null hypothesis.\")"
   ]
  },
  {
   "cell_type": "code",
   "execution_count": 95,
   "id": "c603d184-a4e5-4a24-a0ba-a1c07d3ca5ea",
   "metadata": {},
   "outputs": [
    {
     "name": "stdout",
     "output_type": "stream",
     "text": [
      "\t Statistics of sample 1: 16.394 (mean), 32.746 (std. dev.), and 449 (n).\n",
      "\t Statistics of sample 2: 7.124 (mean), 20.525 (std. dev.), and 458 (n).\n",
      "\n",
      " Computing t* ...\n",
      "\t t-statistic (t*): 5.10\n",
      "\n",
      " Computing p-value ...\n",
      "\t p-value: 0.0000\n",
      "\n",
      " Conclusion:\n",
      "\t We reject the null hypothesis.\n"
     ]
    }
   ],
   "source": [
    "sample1 = bats_risk_taking['bat_landing_to_food'].to_numpy()\n",
    "sample2 = bats_risk_avoiding['bat_landing_to_food'].to_numpy()\n",
    "\n",
    "x_bar1 = st.tmean(sample1)\n",
    "s1 = st.tstd(sample1)\n",
    "n1 = len(sample1)\n",
    "print(\"\\t Statistics of sample 1: %.3f (mean), %.3f (std. dev.), and %d (n).\" % (x_bar1, s1, n1))\n",
    "\n",
    "\n",
    "# the basic statistics of sample 2:\n",
    "x_bar2 = st.tmean(sample2)\n",
    "s2 = st.tstd(sample2)\n",
    "n2 = len(sample2)\n",
    "print(\"\\t Statistics of sample 2: %.3f (mean), %.3f (std. dev.), and %d (n).\" % (x_bar2, s2, n2))\n",
    "\n",
    "\n",
    "\n",
    "# perform two-sample t-test\n",
    "# null hypothesis: mean of sample 1 = mean of sample 2\n",
    "# alternative hypothesis: mean of sample 1 is greater than mean of sample 2 (one-sided test)\n",
    "# note the argument equal_var=False, which assumes that two populations do not have equal variance\n",
    "t_stats, p_val = st.ttest_ind_from_stats(x_bar1, s1, n1, x_bar2, s2, n2, equal_var=False, alternative='greater')\n",
    "print(\"\\n Computing t* ...\")\n",
    "print(\"\\t t-statistic (t*): %.2f\" % t_stats)\n",
    "\n",
    "print(\"\\n Computing p-value ...\")\n",
    "print(\"\\t p-value: %.4f\" % p_val)\n",
    "\n",
    "print(\"\\n Conclusion:\")\n",
    "if p_val < 0.05:\n",
    "    print(\"\\t We reject the null hypothesis.\")\n",
    "else:\n",
    "    print(\"\\t We accept the null hypothesis.\")\n"
   ]
  },
  {
   "cell_type": "code",
   "execution_count": 96,
   "id": "6ea632b2-d836-4b21-9d85-e547a860219d",
   "metadata": {},
   "outputs": [
    {
     "data": {
      "image/png": "[encoded data removed]",
      "text/plain": [
       "<Figure size 640x480 with 1 Axes>"
      ]
     },
     "metadata": {},
     "output_type": "display_data"
    },
    {
     "name": "stdout",
     "output_type": "stream",
     "text": [
      "Model with intercept:\n",
      "Intercept:  32.90514435372475\n",
      "Coefficient:  [-1.84811596]\n"
     ]
    },
    {
     "data": {
      "image/png": "[encoded data removed]",
      "text/plain": [
       "<Figure size 640x480 with 1 Axes>"
      ]
     },
     "metadata": {},
     "output_type": "display_data"
    }
   ],
   "source": [
    "# Bats landing correlate to rats arrival \n",
    "X = df2['rat_arrival_number'].values\n",
    "y = df2['bat_landing_number'].values\n",
    "\n",
    "\n",
    "# Plot data points as a scatterplot \n",
    "plt.scatter(X,y)\n",
    "plt.title(\"Rat arrival vs Bat landing\")\n",
    "plt.xlabel(\"Rat Arrival Number\")\n",
    "plt.ylabel(\"Bat Landing Number\")\n",
    "plt.grid()\n",
    "plt.show()\n",
    "\n",
    "\n",
    "# Model 1 #\n",
    "# Initialise a linear regression model\n",
    "model = LinearRegression()\n",
    "\n",
    "# Fit the linear regression model on the data\n",
    "model.fit(X.reshape(-1,1), y)\n",
    "\n",
    "# Get the intercept and coefficient values\n",
    "intercept = model.intercept_\n",
    "coeff_intercept = model.coef_ \n",
    "print(\"Model with intercept:\")\n",
    "print(\"Intercept: \", intercept)\n",
    "print(\"Coefficient: \", coeff_intercept)\n",
    "\n",
    "# Visualise the regression line over all data points\n",
    "x_line1 = X\n",
    "y_line1 = x_line1 * coeff_intercept + intercept\n",
    "\n",
    "plt.scatter(X,y)\n",
    "plt.title(\"Rat arrival vs Bat landing\")\n",
    "plt.xlabel(\"Rat Arrival Number\")\n",
    "plt.ylabel(\"Bat Landing Number\")\n",
    "plt.plot(x_line1, y_line1, \":r\", label=f\"y={intercept} + {coeff_intercept}*X\")\n",
    "plt.legend(loc='upper left')\n",
    "plt.grid()\n",
    "plt.show()\n"
   ]
  },
  {
   "cell_type": "markdown",
   "id": "54628be1-0373-4dfd-97e7-b3cffb20b149",
   "metadata": {},
   "source": [
    "**The Regression Plot showing decreasing bat landing while Rat arrival Number are increasing**"
   ]
  }
 ],
 "metadata": {
  "kernelspec": {
   "display_name": "Python 3 (ipykernel)",
   "language": "python",
   "name": "python3"
  },
  "language_info": {
   "codemirror_mode": {
    "name": "ipython",
    "version": 3
   },
   "file_extension": ".py",
   "mimetype": "text/x-python",
   "name": "python",
   "nbconvert_exporter": "python",
   "pygments_lexer": "ipython3",
   "version": "3.13.5"
  }
 },
 "nbformat": 4,
 "nbformat_minor": 5
}
