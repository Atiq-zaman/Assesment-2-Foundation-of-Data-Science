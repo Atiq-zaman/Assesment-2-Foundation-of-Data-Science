{
 "cells": [
  {
   "cell_type": "code",
   "execution_count": 180,
   "id": "56262f4f-c6b5-4214-9b41-d3260df6ec49",
   "metadata": {},
   "outputs": [],
   "source": [
    "import pandas as pd\n",
    "import numpy as np\n",
    "import matplotlib.pyplot as plt\n",
    "import statistics as stats\n",
    "import math"
   ]
  },
  {
   "cell_type": "code",
   "execution_count": 181,
   "id": "fb0fea4e-8e14-4f50-bf25-8b2c9a186df3",
   "metadata": {},
   "outputs": [],
   "source": [
    "df1 = pd.read_csv(\"dataset1.csv\")\n",
    "df2 = pd.read_csv(\"dataset2.csv\")"
   ]
  },
  {
   "cell_type": "code",
   "execution_count": 182,
   "id": "142e255c-5db1-42ac-8c05-36ae7abf39ec",
   "metadata": {},
   "outputs": [
    {
     "data": {
      "text/html": [
       "<div>\n",
       "<style scoped>\n",
       "    .dataframe tbody tr th:only-of-type {\n",
       "        vertical-align: middle;\n",
       "    }\n",
       "\n",
       "    .dataframe tbody tr th {\n",
       "        vertical-align: top;\n",
       "    }\n",
       "\n",
       "    .dataframe thead th {\n",
       "        text-align: right;\n",
       "    }\n",
       "</style>\n",
       "<table border=\"1\" class=\"dataframe\">\n",
       "  <thead>\n",
       "    <tr style=\"text-align: right;\">\n",
       "      <th></th>\n",
       "      <th>start_time</th>\n",
       "      <th>bat_landing_to_food</th>\n",
       "      <th>habit</th>\n",
       "      <th>rat_period_start</th>\n",
       "      <th>rat_period_end</th>\n",
       "      <th>seconds_after_rat_arrival</th>\n",
       "      <th>risk</th>\n",
       "      <th>reward</th>\n",
       "      <th>month</th>\n",
       "      <th>sunset_time</th>\n",
       "      <th>hours_after_sunset</th>\n",
       "      <th>season</th>\n",
       "    </tr>\n",
       "  </thead>\n",
       "  <tbody>\n",
       "    <tr>\n",
       "      <th>0</th>\n",
       "      <td>30/12/2017 18:37</td>\n",
       "      <td>16.000000</td>\n",
       "      <td>rat</td>\n",
       "      <td>30/12/2017 18:35</td>\n",
       "      <td>30/12/2017 18:38</td>\n",
       "      <td>108</td>\n",
       "      <td>1</td>\n",
       "      <td>0</td>\n",
       "      <td>0</td>\n",
       "      <td>30/12/2017 16:45</td>\n",
       "      <td>1.870833</td>\n",
       "      <td>0</td>\n",
       "    </tr>\n",
       "    <tr>\n",
       "      <th>1</th>\n",
       "      <td>30/12/2017 19:51</td>\n",
       "      <td>0.074016</td>\n",
       "      <td>fast</td>\n",
       "      <td>30/12/2017 19:50</td>\n",
       "      <td>30/12/2017 19:55</td>\n",
       "      <td>17</td>\n",
       "      <td>0</td>\n",
       "      <td>1</td>\n",
       "      <td>0</td>\n",
       "      <td>30/12/2017 16:45</td>\n",
       "      <td>3.100833</td>\n",
       "      <td>0</td>\n",
       "    </tr>\n",
       "    <tr>\n",
       "      <th>2</th>\n",
       "      <td>30/12/2017 19:51</td>\n",
       "      <td>4.000000</td>\n",
       "      <td>fast</td>\n",
       "      <td>30/12/2017 19:50</td>\n",
       "      <td>30/12/2017 19:55</td>\n",
       "      <td>41</td>\n",
       "      <td>0</td>\n",
       "      <td>1</td>\n",
       "      <td>0</td>\n",
       "      <td>30/12/2017 16:45</td>\n",
       "      <td>3.107500</td>\n",
       "      <td>0</td>\n",
       "    </tr>\n",
       "    <tr>\n",
       "      <th>3</th>\n",
       "      <td>30/12/2017 19:52</td>\n",
       "      <td>10.000000</td>\n",
       "      <td>rat</td>\n",
       "      <td>30/12/2017 19:50</td>\n",
       "      <td>30/12/2017 19:55</td>\n",
       "      <td>111</td>\n",
       "      <td>1</td>\n",
       "      <td>0</td>\n",
       "      <td>0</td>\n",
       "      <td>30/12/2017 16:45</td>\n",
       "      <td>3.126944</td>\n",
       "      <td>0</td>\n",
       "    </tr>\n",
       "    <tr>\n",
       "      <th>4</th>\n",
       "      <td>30/12/2017 19:54</td>\n",
       "      <td>15.000000</td>\n",
       "      <td>rat</td>\n",
       "      <td>30/12/2017 19:50</td>\n",
       "      <td>30/12/2017 19:55</td>\n",
       "      <td>194</td>\n",
       "      <td>1</td>\n",
       "      <td>0</td>\n",
       "      <td>0</td>\n",
       "      <td>30/12/2017 16:45</td>\n",
       "      <td>3.150000</td>\n",
       "      <td>0</td>\n",
       "    </tr>\n",
       "  </tbody>\n",
       "</table>\n",
       "</div>"
      ],
      "text/plain": [
       "         start_time  bat_landing_to_food habit  rat_period_start  \\\n",
       "0  30/12/2017 18:37            16.000000   rat  30/12/2017 18:35   \n",
       "1  30/12/2017 19:51             0.074016  fast  30/12/2017 19:50   \n",
       "2  30/12/2017 19:51             4.000000  fast  30/12/2017 19:50   \n",
       "3  30/12/2017 19:52            10.000000   rat  30/12/2017 19:50   \n",
       "4  30/12/2017 19:54            15.000000   rat  30/12/2017 19:50   \n",
       "\n",
       "     rat_period_end  seconds_after_rat_arrival  risk  reward  month  \\\n",
       "0  30/12/2017 18:38                        108     1       0      0   \n",
       "1  30/12/2017 19:55                         17     0       1      0   \n",
       "2  30/12/2017 19:55                         41     0       1      0   \n",
       "3  30/12/2017 19:55                        111     1       0      0   \n",
       "4  30/12/2017 19:55                        194     1       0      0   \n",
       "\n",
       "        sunset_time  hours_after_sunset  season  \n",
       "0  30/12/2017 16:45            1.870833       0  \n",
       "1  30/12/2017 16:45            3.100833       0  \n",
       "2  30/12/2017 16:45            3.107500       0  \n",
       "3  30/12/2017 16:45            3.126944       0  \n",
       "4  30/12/2017 16:45            3.150000       0  "
      ]
     },
     "execution_count": 182,
     "metadata": {},
     "output_type": "execute_result"
    }
   ],
   "source": [
    "df1.head()"
   ]
  },
  {
   "cell_type": "code",
   "execution_count": 183,
   "id": "53820b0b-34e6-47f2-bfd5-d3175933fee3",
   "metadata": {},
   "outputs": [
    {
     "name": "stdout",
     "output_type": "stream",
     "text": [
      "<class 'pandas.core.frame.DataFrame'>\n",
      "RangeIndex: 907 entries, 0 to 906\n",
      "Data columns (total 12 columns):\n",
      " #   Column                     Non-Null Count  Dtype  \n",
      "---  ------                     --------------  -----  \n",
      " 0   start_time                 907 non-null    object \n",
      " 1   bat_landing_to_food        907 non-null    float64\n",
      " 2   habit                      866 non-null    object \n",
      " 3   rat_period_start           907 non-null    object \n",
      " 4   rat_period_end             907 non-null    object \n",
      " 5   seconds_after_rat_arrival  907 non-null    int64  \n",
      " 6   risk                       907 non-null    int64  \n",
      " 7   reward                     907 non-null    int64  \n",
      " 8   month                      907 non-null    int64  \n",
      " 9   sunset_time                907 non-null    object \n",
      " 10  hours_after_sunset         907 non-null    float64\n",
      " 11  season                     907 non-null    int64  \n",
      "dtypes: float64(2), int64(5), object(5)\n",
      "memory usage: 85.2+ KB\n"
     ]
    }
   ],
   "source": [
    "df1.info()"
   ]
  },
  {
   "cell_type": "markdown",
   "id": "9a117dda-abee-4011-beac-907fee5e4538",
   "metadata": {},
   "source": [
    "**habit showing null values**"
   ]
  },
  {
   "cell_type": "code",
   "execution_count": 184,
   "id": "1623a127-177c-475b-bb7f-a7c43a2b719b",
   "metadata": {},
   "outputs": [
    {
     "data": {
      "text/plain": [
       "habit\n",
       "fast                                                245\n",
       "rat                                                 221\n",
       "pick                                                139\n",
       "bat                                                  30\n",
       "bat_fight                                            26\n",
       "                                                   ... \n",
       "bat_fight_and_rat                                     1\n",
       "rat_and_rat                                           1\n",
       "not_sure_rat                                          1\n",
       "501.0,358.4,636.2,423.4; 476.0,103.0,634.0,206.0      1\n",
       "rat_and_bat_and_pick                                  1\n",
       "Name: count, Length: 81, dtype: int64"
      ]
     },
     "execution_count": 184,
     "metadata": {},
     "output_type": "execute_result"
    }
   ],
   "source": [
    "df1['habit'].value_counts()"
   ]
  },
  {
   "cell_type": "markdown",
   "id": "b2a85f56-8081-41e2-9be0-321599b3eb9c",
   "metadata": {},
   "source": [
    "**Habit column showing some Garbage Value**"
   ]
  },
  {
   "cell_type": "code",
   "execution_count": null,
   "id": "b0019a68-bb0e-42cc-8fe3-79cf640fe84c",
   "metadata": {},
   "outputs": [],
   "source": []
  },
  {
   "cell_type": "code",
   "execution_count": 185,
   "id": "9954956d-087d-48b4-b28b-7c814255e3c7",
   "metadata": {},
   "outputs": [
    {
     "data": {
      "text/html": [
       "<div>\n",
       "<style scoped>\n",
       "    .dataframe tbody tr th:only-of-type {\n",
       "        vertical-align: middle;\n",
       "    }\n",
       "\n",
       "    .dataframe tbody tr th {\n",
       "        vertical-align: top;\n",
       "    }\n",
       "\n",
       "    .dataframe thead th {\n",
       "        text-align: right;\n",
       "    }\n",
       "</style>\n",
       "<table border=\"1\" class=\"dataframe\">\n",
       "  <thead>\n",
       "    <tr style=\"text-align: right;\">\n",
       "      <th></th>\n",
       "      <th>bat_landing_to_food</th>\n",
       "      <th>seconds_after_rat_arrival</th>\n",
       "      <th>risk</th>\n",
       "      <th>reward</th>\n",
       "      <th>month</th>\n",
       "      <th>hours_after_sunset</th>\n",
       "      <th>season</th>\n",
       "    </tr>\n",
       "  </thead>\n",
       "  <tbody>\n",
       "    <tr>\n",
       "      <th>count</th>\n",
       "      <td>907.000000</td>\n",
       "      <td>907.000000</td>\n",
       "      <td>907.000000</td>\n",
       "      <td>907.000000</td>\n",
       "      <td>907.000000</td>\n",
       "      <td>907.000000</td>\n",
       "      <td>907.000000</td>\n",
       "    </tr>\n",
       "    <tr>\n",
       "      <th>mean</th>\n",
       "      <td>11.713134</td>\n",
       "      <td>282.877619</td>\n",
       "      <td>0.495039</td>\n",
       "      <td>0.533627</td>\n",
       "      <td>3.800441</td>\n",
       "      <td>5.531863</td>\n",
       "      <td>0.833517</td>\n",
       "    </tr>\n",
       "    <tr>\n",
       "      <th>std</th>\n",
       "      <td>27.644410</td>\n",
       "      <td>240.974918</td>\n",
       "      <td>0.500251</td>\n",
       "      <td>0.499143</td>\n",
       "      <td>1.199190</td>\n",
       "      <td>2.414146</td>\n",
       "      <td>0.372719</td>\n",
       "    </tr>\n",
       "    <tr>\n",
       "      <th>min</th>\n",
       "      <td>0.010238</td>\n",
       "      <td>0.000000</td>\n",
       "      <td>0.000000</td>\n",
       "      <td>0.000000</td>\n",
       "      <td>0.000000</td>\n",
       "      <td>-0.261667</td>\n",
       "      <td>0.000000</td>\n",
       "    </tr>\n",
       "    <tr>\n",
       "      <th>25%</th>\n",
       "      <td>1.000000</td>\n",
       "      <td>89.500000</td>\n",
       "      <td>0.000000</td>\n",
       "      <td>0.000000</td>\n",
       "      <td>4.000000</td>\n",
       "      <td>3.779028</td>\n",
       "      <td>1.000000</td>\n",
       "    </tr>\n",
       "    <tr>\n",
       "      <th>50%</th>\n",
       "      <td>4.000000</td>\n",
       "      <td>206.000000</td>\n",
       "      <td>0.000000</td>\n",
       "      <td>1.000000</td>\n",
       "      <td>4.000000</td>\n",
       "      <td>5.622778</td>\n",
       "      <td>1.000000</td>\n",
       "    </tr>\n",
       "    <tr>\n",
       "      <th>75%</th>\n",
       "      <td>11.500000</td>\n",
       "      <td>446.500000</td>\n",
       "      <td>1.000000</td>\n",
       "      <td>1.000000</td>\n",
       "      <td>5.000000</td>\n",
       "      <td>7.402778</td>\n",
       "      <td>1.000000</td>\n",
       "    </tr>\n",
       "    <tr>\n",
       "      <th>max</th>\n",
       "      <td>443.000000</td>\n",
       "      <td>949.000000</td>\n",
       "      <td>1.000000</td>\n",
       "      <td>1.000000</td>\n",
       "      <td>5.000000</td>\n",
       "      <td>12.091944</td>\n",
       "      <td>1.000000</td>\n",
       "    </tr>\n",
       "  </tbody>\n",
       "</table>\n",
       "</div>"
      ],
      "text/plain": [
       "       bat_landing_to_food  seconds_after_rat_arrival        risk      reward  \\\n",
       "count           907.000000                 907.000000  907.000000  907.000000   \n",
       "mean             11.713134                 282.877619    0.495039    0.533627   \n",
       "std              27.644410                 240.974918    0.500251    0.499143   \n",
       "min               0.010238                   0.000000    0.000000    0.000000   \n",
       "25%               1.000000                  89.500000    0.000000    0.000000   \n",
       "50%               4.000000                 206.000000    0.000000    1.000000   \n",
       "75%              11.500000                 446.500000    1.000000    1.000000   \n",
       "max             443.000000                 949.000000    1.000000    1.000000   \n",
       "\n",
       "            month  hours_after_sunset      season  \n",
       "count  907.000000          907.000000  907.000000  \n",
       "mean     3.800441            5.531863    0.833517  \n",
       "std      1.199190            2.414146    0.372719  \n",
       "min      0.000000           -0.261667    0.000000  \n",
       "25%      4.000000            3.779028    1.000000  \n",
       "50%      4.000000            5.622778    1.000000  \n",
       "75%      5.000000            7.402778    1.000000  \n",
       "max      5.000000           12.091944    1.000000  "
      ]
     },
     "execution_count": 185,
     "metadata": {},
     "output_type": "execute_result"
    }
   ],
   "source": [
    "df1.describe()"
   ]
  },
  {
   "cell_type": "markdown",
   "id": "ae40017f-d11e-4ddb-b686-8910ddff1799",
   "metadata": {},
   "source": [
    "**hours_after_sunset showing negetive value**"
   ]
  },
  {
   "cell_type": "code",
   "execution_count": 186,
   "id": "463c4632-227b-4a67-ab5c-17fb4a7d0e4e",
   "metadata": {},
   "outputs": [],
   "source": [
    "df1[\"hours_after_sunset\"] = df1['hours_after_sunset'].apply(lambda x: x if x>0 else (-1*x))"
   ]
  },
  {
   "cell_type": "markdown",
   "id": "1048a301-cabe-4cb4-ba5b-fc4a8f381c2c",
   "metadata": {},
   "source": [
    "**bat_landing_to_food showing extream decimal values in zero**"
   ]
  },
  {
   "cell_type": "code",
   "execution_count": 187,
   "id": "230fa8c3-40b7-43d0-a7b4-274a80b5cd18",
   "metadata": {},
   "outputs": [],
   "source": [
    "df1[\"bat_landing_to_food\"] = df1['bat_landing_to_food'].apply(lambda x: x if x>=1 else 0)"
   ]
  },
  {
   "cell_type": "code",
   "execution_count": 188,
   "id": "0070e283-7f1a-4379-bdb3-18274381db2f",
   "metadata": {},
   "outputs": [
    {
     "data": {
      "text/html": [
       "<div>\n",
       "<style scoped>\n",
       "    .dataframe tbody tr th:only-of-type {\n",
       "        vertical-align: middle;\n",
       "    }\n",
       "\n",
       "    .dataframe tbody tr th {\n",
       "        vertical-align: top;\n",
       "    }\n",
       "\n",
       "    .dataframe thead th {\n",
       "        text-align: right;\n",
       "    }\n",
       "</style>\n",
       "<table border=\"1\" class=\"dataframe\">\n",
       "  <thead>\n",
       "    <tr style=\"text-align: right;\">\n",
       "      <th></th>\n",
       "      <th>bat_landing_to_food</th>\n",
       "      <th>seconds_after_rat_arrival</th>\n",
       "      <th>risk</th>\n",
       "      <th>reward</th>\n",
       "      <th>month</th>\n",
       "      <th>hours_after_sunset</th>\n",
       "      <th>season</th>\n",
       "    </tr>\n",
       "  </thead>\n",
       "  <tbody>\n",
       "    <tr>\n",
       "      <th>count</th>\n",
       "      <td>907.000000</td>\n",
       "      <td>907.000000</td>\n",
       "      <td>907.000000</td>\n",
       "      <td>907.000000</td>\n",
       "      <td>907.000000</td>\n",
       "      <td>907.000000</td>\n",
       "      <td>907.000000</td>\n",
       "    </tr>\n",
       "    <tr>\n",
       "      <th>mean</th>\n",
       "      <td>11.705623</td>\n",
       "      <td>282.877619</td>\n",
       "      <td>0.495039</td>\n",
       "      <td>0.533627</td>\n",
       "      <td>3.800441</td>\n",
       "      <td>5.535934</td>\n",
       "      <td>0.833517</td>\n",
       "    </tr>\n",
       "    <tr>\n",
       "      <th>std</th>\n",
       "      <td>27.647585</td>\n",
       "      <td>240.974918</td>\n",
       "      <td>0.500251</td>\n",
       "      <td>0.499143</td>\n",
       "      <td>1.199190</td>\n",
       "      <td>2.404785</td>\n",
       "      <td>0.372719</td>\n",
       "    </tr>\n",
       "    <tr>\n",
       "      <th>min</th>\n",
       "      <td>0.000000</td>\n",
       "      <td>0.000000</td>\n",
       "      <td>0.000000</td>\n",
       "      <td>0.000000</td>\n",
       "      <td>0.000000</td>\n",
       "      <td>0.015278</td>\n",
       "      <td>0.000000</td>\n",
       "    </tr>\n",
       "    <tr>\n",
       "      <th>25%</th>\n",
       "      <td>1.000000</td>\n",
       "      <td>89.500000</td>\n",
       "      <td>0.000000</td>\n",
       "      <td>0.000000</td>\n",
       "      <td>4.000000</td>\n",
       "      <td>3.779028</td>\n",
       "      <td>1.000000</td>\n",
       "    </tr>\n",
       "    <tr>\n",
       "      <th>50%</th>\n",
       "      <td>4.000000</td>\n",
       "      <td>206.000000</td>\n",
       "      <td>0.000000</td>\n",
       "      <td>1.000000</td>\n",
       "      <td>4.000000</td>\n",
       "      <td>5.622778</td>\n",
       "      <td>1.000000</td>\n",
       "    </tr>\n",
       "    <tr>\n",
       "      <th>75%</th>\n",
       "      <td>11.500000</td>\n",
       "      <td>446.500000</td>\n",
       "      <td>1.000000</td>\n",
       "      <td>1.000000</td>\n",
       "      <td>5.000000</td>\n",
       "      <td>7.402778</td>\n",
       "      <td>1.000000</td>\n",
       "    </tr>\n",
       "    <tr>\n",
       "      <th>max</th>\n",
       "      <td>443.000000</td>\n",
       "      <td>949.000000</td>\n",
       "      <td>1.000000</td>\n",
       "      <td>1.000000</td>\n",
       "      <td>5.000000</td>\n",
       "      <td>12.091944</td>\n",
       "      <td>1.000000</td>\n",
       "    </tr>\n",
       "  </tbody>\n",
       "</table>\n",
       "</div>"
      ],
      "text/plain": [
       "       bat_landing_to_food  seconds_after_rat_arrival        risk      reward  \\\n",
       "count           907.000000                 907.000000  907.000000  907.000000   \n",
       "mean             11.705623                 282.877619    0.495039    0.533627   \n",
       "std              27.647585                 240.974918    0.500251    0.499143   \n",
       "min               0.000000                   0.000000    0.000000    0.000000   \n",
       "25%               1.000000                  89.500000    0.000000    0.000000   \n",
       "50%               4.000000                 206.000000    0.000000    1.000000   \n",
       "75%              11.500000                 446.500000    1.000000    1.000000   \n",
       "max             443.000000                 949.000000    1.000000    1.000000   \n",
       "\n",
       "            month  hours_after_sunset      season  \n",
       "count  907.000000          907.000000  907.000000  \n",
       "mean     3.800441            5.535934    0.833517  \n",
       "std      1.199190            2.404785    0.372719  \n",
       "min      0.000000            0.015278    0.000000  \n",
       "25%      4.000000            3.779028    1.000000  \n",
       "50%      4.000000            5.622778    1.000000  \n",
       "75%      5.000000            7.402778    1.000000  \n",
       "max      5.000000           12.091944    1.000000  "
      ]
     },
     "execution_count": 188,
     "metadata": {},
     "output_type": "execute_result"
    }
   ],
   "source": [
    "df1.describe()"
   ]
  },
  {
   "cell_type": "code",
   "execution_count": 190,
   "id": "16969ccd-1264-4d69-a07b-d66e2b30fa6a",
   "metadata": {},
   "outputs": [
    {
     "data": {
      "text/plain": [
       "bat_landing_to_food\n",
       "1.0      140\n",
       "0.0      123\n",
       "2.0      104\n",
       "3.0       64\n",
       "4.0       62\n",
       "        ... \n",
       "195.0      1\n",
       "38.0       1\n",
       "76.0       1\n",
       "45.0       1\n",
       "120.0      1\n",
       "Name: count, Length: 82, dtype: int64"
      ]
     },
     "execution_count": 190,
     "metadata": {},
     "output_type": "execute_result"
    }
   ],
   "source": [
    "df1['bat_landing_to_food'].value_counts()"
   ]
  },
  {
   "cell_type": "code",
   "execution_count": 191,
   "id": "899eb0be-2df3-485e-b231-4ae25761d936",
   "metadata": {},
   "outputs": [
    {
     "data": {
      "image/png": "[encoded data removed]",
      "text/plain": [
       "<Figure size 640x480 with 1 Axes>"
      ]
     },
     "metadata": {},
     "output_type": "display_data"
    }
   ],
   "source": [
    "plt.hist(df1[\"bat_landing_to_food\"], bins=30, color='yellow', edgecolor='black')\n",
    "plt.xlabel(\"Bat Landing To Food\")\n",
    "plt.ylabel(\"Frequency\")\n",
    "plt.title(\"Distribution of Bat Landing To Food\")\n",
    "plt.show()"
   ]
  },
  {
   "cell_type": "code",
   "execution_count": 192,
   "id": "d40231fb-b869-4408-abdb-1214b892be74",
   "metadata": {},
   "outputs": [
    {
     "name": "stdout",
     "output_type": "stream",
     "text": [
      "Mean: 11.705622932745314\n",
      "Median: 4.00\n",
      "Mode value: 1.00\n",
      "Range: 443.00\n",
      "Sample variance: 764.39. Population variance: 763.55.\n",
      "Sample std. dev.: 27.65. Population std. dev.: 27.63.\n",
      "IQR: 10.50. 25th percentile: 1.00. 75th percentile: 11.50\n"
     ]
    }
   ],
   "source": [
    "sample = df1['bat_landing_to_food'].values\n",
    "x_bar = stats.mean(sample)\n",
    "print(\"Mean:\", x_bar)\n",
    "\n",
    "median = stats.median(sample)\n",
    "print(\"Median: %.2f\" % median)\n",
    "\n",
    "mode = stats.mode(sample)\n",
    "print(\"Mode value: %.2f\" % mode)\n",
    "\n",
    "the_range = np.max(sample) - np.min(sample)\n",
    "print(\"Range: %.2f\" % the_range)\n",
    "\n",
    "sample_array = np.array(sample)\n",
    "s_square = sample_array.var(ddof=1)\n",
    "sigma_square = sample_array.var()\n",
    "print(\"Sample variance: %.2f. Population variance: %.2f.\" % (s_square, sigma_square))\n",
    "\n",
    "s = sample_array.std(ddof=1)\n",
    "sigma = sample_array.std()\n",
    "print(\"Sample std. dev.: %.2f. Population std. dev.: %.2f.\" % (s, sigma))\n",
    "\n",
    "pct25 = np.percentile(sample, 25)\n",
    "pct75 = np.percentile(sample, 75)\n",
    "iqr = pct75 - pct25\n",
    "print(\"IQR: %.2f. 25th percentile: %.2f. 75th percentile: %.2f\" % (iqr, pct25, pct75))\n"
   ]
  },
  {
   "cell_type": "code",
   "execution_count": null,
   "id": "9a548372-cf77-4606-ab6d-60fc18313e8a",
   "metadata": {},
   "outputs": [],
   "source": []
  },
  {
   "cell_type": "code",
   "execution_count": null,
   "id": "dc05a84b-434b-442d-b566-f8b204b69c7f",
   "metadata": {},
   "outputs": [],
   "source": []
  },
  {
   "cell_type": "code",
   "execution_count": 193,
   "id": "cc0f58c0-6a14-4965-99cf-ce311466dbaf",
   "metadata": {},
   "outputs": [
    {
     "data": {
      "text/plain": [
       "seconds_after_rat_arrival\n",
       "105    7\n",
       "22     7\n",
       "187    6\n",
       "139    6\n",
       "0      6\n",
       "      ..\n",
       "448    1\n",
       "293    1\n",
       "317    1\n",
       "51     1\n",
       "774    1\n",
       "Name: count, Length: 501, dtype: int64"
      ]
     },
     "execution_count": 193,
     "metadata": {},
     "output_type": "execute_result"
    }
   ],
   "source": [
    "df1['seconds_after_rat_arrival'].value_counts()"
   ]
  },
  {
   "cell_type": "code",
   "execution_count": 194,
   "id": "751ca4fe-f787-4ede-b4e2-db7ee2844e55",
   "metadata": {},
   "outputs": [
    {
     "data": {
      "image/png": "[encoded data removed]",
      "text/plain": [
       "<Figure size 640x480 with 1 Axes>"
      ]
     },
     "metadata": {},
     "output_type": "display_data"
    }
   ],
   "source": [
    "plt.hist(df1[\"seconds_after_rat_arrival\"], bins=100, color='yellow', edgecolor='black')\n",
    "plt.xlabel(\"seconds_after_rat_arrival\")\n",
    "plt.ylabel(\"Frequency\")\n",
    "plt.title(\"Distribution of seconds_after_rat_arrival\")\n",
    "plt.show()\n"
   ]
  },
  {
   "cell_type": "code",
   "execution_count": 195,
   "id": "fae78176-67fe-4d78-8909-6c5e9b5864dd",
   "metadata": {},
   "outputs": [
    {
     "name": "stdout",
     "output_type": "stream",
     "text": [
      "Mean: 282\n",
      "Median: 206.00\n",
      "Mode value: 22\n",
      "Range: 949\n",
      "Sample variance: 58068.91. Population variance: 58004.89.\n",
      "Sample std. dev.: 240.97. Population std. dev.: 240.84.\n",
      "IQR: 357.00. 25th percentile: 89.50. 75th percentile: 446.50\n"
     ]
    }
   ],
   "source": [
    "sample = df1['seconds_after_rat_arrival'].values\n",
    "x_bar = stats.mean(sample)\n",
    "print(\"Mean:\", x_bar)\n",
    "\n",
    "median = stats.median(sample)\n",
    "print(\"Median: %.2f\" % median)\n",
    "\n",
    "mode = stats.mode(sample)\n",
    "print(\"Mode value: %d\" % mode)\n",
    "\n",
    "the_range = np.max(sample) - np.min(sample)\n",
    "print(\"Range: %d\" % the_range)\n",
    "\n",
    "sample_array = np.array(sample)\n",
    "s_square = sample_array.var(ddof=1)\n",
    "sigma_square = sample_array.var()\n",
    "print(\"Sample variance: %.2f. Population variance: %.2f.\" % (s_square, sigma_square))\n",
    "\n",
    "s = sample_array.std(ddof=1)\n",
    "sigma = sample_array.std()\n",
    "print(\"Sample std. dev.: %.2f. Population std. dev.: %.2f.\" % (s, sigma))\n",
    "\n",
    "pct25 = np.percentile(sample, 25)\n",
    "pct75 = np.percentile(sample, 75)\n",
    "iqr = pct75 - pct25\n",
    "print(\"IQR: %.2f. 25th percentile: %.2f. 75th percentile: %.2f\" % (iqr, pct25, pct75))\n"
   ]
  },
  {
   "cell_type": "code",
   "execution_count": null,
   "id": "f2c41b22-42e8-4bfe-98ea-caecdb5b6925",
   "metadata": {},
   "outputs": [],
   "source": []
  },
  {
   "cell_type": "code",
   "execution_count": null,
   "id": "abad0b1a-bfae-4538-a70f-cd1137bd97d7",
   "metadata": {},
   "outputs": [],
   "source": []
  },
  {
   "cell_type": "code",
   "execution_count": 196,
   "id": "f8904a06-167f-4269-a4a8-20806d43e6a0",
   "metadata": {},
   "outputs": [
    {
     "data": {
      "text/plain": [
       "risk\n",
       "0    458\n",
       "1    449\n",
       "Name: count, dtype: int64"
      ]
     },
     "execution_count": 196,
     "metadata": {},
     "output_type": "execute_result"
    }
   ],
   "source": [
    "df1['risk'].value_counts()"
   ]
  },
  {
   "cell_type": "code",
   "execution_count": 197,
   "id": "39e9cad6-37c4-4c7b-80e0-dc124b333204",
   "metadata": {
    "scrolled": true
   },
   "outputs": [
    {
     "data": {
      "image/png": "[encoded data removed]",
      "text/plain": [
       "<Figure size 640x480 with 1 Axes>"
      ]
     },
     "metadata": {},
     "output_type": "display_data"
    }
   ],
   "source": [
    "plt.hist(df1[\"risk\"], color='yellow', edgecolor='black')\n",
    "plt.xlabel(\"Risk\")\n",
    "plt.ylabel(\"Frequency\")\n",
    "plt.title(\"Distribution of Risk\")\n",
    "plt.show()"
   ]
  },
  {
   "cell_type": "markdown",
   "id": "cb91ef22-dbfe-44a6-a414-190094b5f408",
   "metadata": {},
   "source": [
    "**bat avoding is slightly higher than taking risk**"
   ]
  },
  {
   "cell_type": "code",
   "execution_count": 198,
   "id": "fbe0c616-273c-47f6-97b3-ec2c2c9551bb",
   "metadata": {},
   "outputs": [
    {
     "data": {
      "text/plain": [
       "reward\n",
       "1    484\n",
       "0    423\n",
       "Name: count, dtype: int64"
      ]
     },
     "execution_count": 198,
     "metadata": {},
     "output_type": "execute_result"
    }
   ],
   "source": [
    "df1['reward'].value_counts()"
   ]
  },
  {
   "cell_type": "code",
   "execution_count": 199,
   "id": "4acbc83c-a00c-41eb-b9f4-c16e7ef9d6be",
   "metadata": {},
   "outputs": [
    {
     "data": {
      "image/png": "[encoded data removed]",
      "text/plain": [
       "<Figure size 640x480 with 1 Axes>"
      ]
     },
     "metadata": {},
     "output_type": "display_data"
    }
   ],
   "source": [
    "plt.hist(df1[\"reward\"], color='yellow', edgecolor='black')\n",
    "plt.xlabel(\"Reward\")\n",
    "plt.ylabel(\"Frequency\")\n",
    "plt.title(\"Distribution of Reward\")\n",
    "plt.show()"
   ]
  },
  {
   "cell_type": "code",
   "execution_count": 200,
   "id": "921268e3-6e8b-487c-b012-f046223b561e",
   "metadata": {},
   "outputs": [
    {
     "data": {
      "text/plain": [
       "hours_after_sunset\n",
       "6.658056    2\n",
       "7.415278    2\n",
       "3.166111    2\n",
       "4.894722    2\n",
       "8.554722    2\n",
       "           ..\n",
       "6.936667    1\n",
       "6.966111    1\n",
       "6.986111    1\n",
       "6.999444    1\n",
       "5.187500    1\n",
       "Name: count, Length: 895, dtype: int64"
      ]
     },
     "execution_count": 200,
     "metadata": {},
     "output_type": "execute_result"
    }
   ],
   "source": [
    "df1['hours_after_sunset'].value_counts()"
   ]
  },
  {
   "cell_type": "code",
   "execution_count": 201,
   "id": "2dfc701a-3956-490e-988b-1bbee2a30917",
   "metadata": {},
   "outputs": [
    {
     "data": {
      "image/png": "[encoded data removed]",
      "text/plain": [
       "<Figure size 640x480 with 1 Axes>"
      ]
     },
     "metadata": {},
     "output_type": "display_data"
    }
   ],
   "source": [
    "plt.hist(df1[\"hours_after_sunset\"],bins=100, color='yellow', edgecolor='black')\n",
    "plt.xlabel(\"Reward\")\n",
    "plt.ylabel(\"Frequency\")\n",
    "plt.title(\"Distribution of Reward\")\n",
    "plt.show()"
   ]
  },
  {
   "cell_type": "markdown",
   "id": "d7b1c6fb-1405-42e2-be1f-a8ad0dcfe14e",
   "metadata": {},
   "source": [
    "##  Key columns in dataset1\n",
    "\n",
    "For investigating whether bats perceive rats as predators, we focus on:\n",
    "- **Risk Column**: \n",
    "- **bat_landing_to_food**: \n",
    "- **Rewards**: \n",
    "- **Habit**:"
   ]
  },
  {
   "cell_type": "code",
   "execution_count": null,
   "id": "d5c1eb74-8436-4271-bf56-8782e705b703",
   "metadata": {},
   "outputs": [],
   "source": []
  },
  {
   "cell_type": "code",
   "execution_count": 202,
   "id": "4d97c7d1-fefd-440d-98f1-42b62d4759ec",
   "metadata": {},
   "outputs": [
    {
     "name": "stdout",
     "output_type": "stream",
     "text": [
      "Risk-taking approach times:\n",
      "  Count: 449\n",
      "  Mean: 7.12 seconds\n",
      "  Median: 2.00 seconds\n",
      "  Std Dev: 20.53 seconds\n",
      "\n",
      "Risk-avoidance approach times:\n",
      "  Count: 458\n",
      "  Mean: 7.12 seconds\n",
      "  Median: 2.00 seconds\n",
      "  Std Dev: 20.53 seconds\n"
     ]
    }
   ],
   "source": [
    "risk_taking_times = df1[df1['risk'] == 1]['bat_landing_to_food']\n",
    "risk_avoidance_times = df1[df1['risk'] == 0]['bat_landing_to_food']\n",
    "\n",
    "\n",
    "print(f\"Risk-taking approach times:\")\n",
    "print(f\"  Count: {len(risk_taking_times)}\")\n",
    "print(f\"  Mean: {stats.mean(risk_avoidance_times):.2f} seconds\")\n",
    "print(f\"  Median: {np.median(risk_avoidance_times):.2f} seconds\")\n",
    "print(f\"  Std Dev: {np.std(risk_avoidance_times, ddof=1):.2f} seconds\")\n",
    "\n",
    "print(f\"\\nRisk-avoidance approach times:\")\n",
    "print(f\"  Count: {len(risk_avoidance_times)}\")\n",
    "print(f\"  Mean: {stats.mean(risk_avoidance_times):.2f} seconds\")\n",
    "print(f\"  Median: {np.median(risk_avoidance_times):.2f} seconds\")\n",
    "print(f\"  Std Dev: {np.std(risk_avoidance_times, ddof=1):.2f} seconds\")"
   ]
  },
  {
   "cell_type": "code",
   "execution_count": 203,
   "id": "e16d465c-55a4-45df-89c4-51179b7849cb",
   "metadata": {},
   "outputs": [
    {
     "name": "stdout",
     "output_type": "stream",
     "text": [
      "Overall foraging attempts: 907\n",
      "Successful attempts: 484\n",
      "Overall success rate: 0.534 (53.4%)\n",
      "\n",
      "Success rates by risk behavior:\n",
      "Risk-taking success rate: 0.218 (21.8%)\n",
      "Risk-avoidance success rate: 0.843 (84.3%)\n"
     ]
    }
   ],
   "source": [
    "total_attempts = len(df1)\n",
    "successful_attempts = len(df1[df1['reward'] == 1])\n",
    "overall_success_rate = successful_attempts / total_attempts\n",
    "\n",
    "print(f\"Overall foraging attempts: {total_attempts}\")\n",
    "print(f\"Successful attempts: {successful_attempts}\")\n",
    "print(f\"Overall success rate: {overall_success_rate:.3f} ({overall_success_rate*100:.1f}%)\")\n",
    "\n",
    "# Success rates by risk behavior\n",
    "risk_taking_success = df1[df1['risk'] == 1]['reward'].mean()\n",
    "risk_avoidance_success = df1[df1['risk'] == 0]['reward'].mean()\n",
    "\n",
    "print(f\"\\nSuccess rates by risk behavior:\")\n",
    "print(f\"Risk-taking success rate: {risk_taking_success:.3f} ({risk_taking_success*100:.1f}%)\")\n",
    "print(f\"Risk-avoidance success rate: {risk_avoidance_success:.3f} ({risk_avoidance_success*100:.1f}%)\")\n"
   ]
  },
  {
   "cell_type": "code",
   "execution_count": 204,
   "id": "344eebe6-50ec-4728-9779-5012eafa99df",
   "metadata": {},
   "outputs": [
    {
     "data": {
      "text/plain": [
       "0    fast\n",
       "Name: habit, dtype: object"
      ]
     },
     "execution_count": 204,
     "metadata": {},
     "output_type": "execute_result"
    }
   ],
   "source": [
    "df1['habit'].mode()"
   ]
  },
  {
   "cell_type": "code",
   "execution_count": 205,
   "id": "3bc27386-1bc9-4caf-b301-06c2b997bf76",
   "metadata": {},
   "outputs": [],
   "source": [
    "df1.dropna(subset=['habit'], inplace=True)"
   ]
  },
  {
   "cell_type": "code",
   "execution_count": 206,
   "id": "6e21fe35-8adc-4adb-9da8-a649432ea297",
   "metadata": {},
   "outputs": [
    {
     "data": {
      "text/plain": [
       "np.int64(0)"
      ]
     },
     "execution_count": 206,
     "metadata": {},
     "output_type": "execute_result"
    }
   ],
   "source": [
    "df1['habit'].isna().sum()"
   ]
  },
  {
   "cell_type": "code",
   "execution_count": 209,
   "id": "3ad65595-c34c-41da-b938-f8eab996043a",
   "metadata": {},
   "outputs": [],
   "source": [
    "bins = [0, 200, 400, df1['seconds_after_rat_arrival'].max()]\n",
    "labels = [\"immediate\", \"short_delay\", \"long_delay\"]\n",
    "df1[\"bat_rat_after_rat_arrive_bin\"] = pd.cut(df1[\"seconds_after_rat_arrival\"], bins=bins, labels=labels)\n"
   ]
  },
  {
   "cell_type": "code",
   "execution_count": 211,
   "id": "3ddfac70-b9ee-4f55-88ba-dc35b0715848",
   "metadata": {},
   "outputs": [
    {
     "data": {
      "text/plain": [
       "bat_rat_after_rat_arrive_bin\n",
       "immediate      417\n",
       "long_delay     238\n",
       "short_delay    205\n",
       "Name: count, dtype: int64"
      ]
     },
     "execution_count": 211,
     "metadata": {},
     "output_type": "execute_result"
    }
   ],
   "source": [
    "df1['bat_rat_after_rat_arrive_bin'].value_counts()"
   ]
  }
 ],
 "metadata": {
  "kernelspec": {
   "display_name": "Python 3 (ipykernel)",
   "language": "python",
   "name": "python3"
  },
  "language_info": {
   "codemirror_mode": {
    "name": "ipython",
    "version": 3
   },
   "file_extension": ".py",
   "mimetype": "text/x-python",
   "name": "python",
   "nbconvert_exporter": "python",
   "pygments_lexer": "ipython3",
   "version": "3.13.5"
  }
 },
 "nbformat": 4,
 "nbformat_minor": 5
}
