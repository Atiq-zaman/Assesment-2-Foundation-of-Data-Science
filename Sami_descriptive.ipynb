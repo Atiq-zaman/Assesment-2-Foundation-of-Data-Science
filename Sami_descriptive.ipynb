{
 "cells": [
  {
   "cell_type": "code",
   "execution_count": 80,
   "id": "bbd57a19-0e96-4a76-85c5-eb01db26db35",
   "metadata": {},
   "outputs": [],
   "source": [
    "import pandas as pd\n",
    "import numpy as np\n",
    "import matplotlib.pyplot as plt\n",
    "import statistics as stats\n",
    "import math\n",
    "import warnings\n",
    "warnings.filterwarnings(\"ignore\")"
   ]
  },
  {
   "cell_type": "code",
   "execution_count": 81,
   "id": "dbf2c891-da5f-4180-a0c3-7ee248899a9f",
   "metadata": {},
   "outputs": [],
   "source": [
    "df1 = pd.read_csv(\"dataset1.csv\")\n",
    "df2 = pd.read_csv(\"dataset2.csv\")"
   ]
  },
  {
   "cell_type": "code",
   "execution_count": 82,
   "id": "ee8e0777-90ef-4959-8eaf-487ad243c5be",
   "metadata": {},
   "outputs": [
    {
     "data": {
      "text/html": [
       "<div>\n",
       "<style scoped>\n",
       "    .dataframe tbody tr th:only-of-type {\n",
       "        vertical-align: middle;\n",
       "    }\n",
       "\n",
       "    .dataframe tbody tr th {\n",
       "        vertical-align: top;\n",
       "    }\n",
       "\n",
       "    .dataframe thead th {\n",
       "        text-align: right;\n",
       "    }\n",
       "</style>\n",
       "<table border=\"1\" class=\"dataframe\">\n",
       "  <thead>\n",
       "    <tr style=\"text-align: right;\">\n",
       "      <th></th>\n",
       "      <th>time</th>\n",
       "      <th>month</th>\n",
       "      <th>hours_after_sunset</th>\n",
       "      <th>bat_landing_number</th>\n",
       "      <th>food_availability</th>\n",
       "      <th>rat_minutes</th>\n",
       "      <th>rat_arrival_number</th>\n",
       "    </tr>\n",
       "  </thead>\n",
       "  <tbody>\n",
       "    <tr>\n",
       "      <th>0</th>\n",
       "      <td>26/12/2017 16:13</td>\n",
       "      <td>0</td>\n",
       "      <td>-0.5</td>\n",
       "      <td>20</td>\n",
       "      <td>4.000000</td>\n",
       "      <td>0.0</td>\n",
       "      <td>0</td>\n",
       "    </tr>\n",
       "    <tr>\n",
       "      <th>1</th>\n",
       "      <td>26/12/2017 16:43</td>\n",
       "      <td>0</td>\n",
       "      <td>0.0</td>\n",
       "      <td>28</td>\n",
       "      <td>4.000000</td>\n",
       "      <td>0.0</td>\n",
       "      <td>0</td>\n",
       "    </tr>\n",
       "    <tr>\n",
       "      <th>2</th>\n",
       "      <td>26/12/2017 17:13</td>\n",
       "      <td>0</td>\n",
       "      <td>0.5</td>\n",
       "      <td>25</td>\n",
       "      <td>4.000000</td>\n",
       "      <td>0.0</td>\n",
       "      <td>0</td>\n",
       "    </tr>\n",
       "    <tr>\n",
       "      <th>3</th>\n",
       "      <td>26/12/2017 17:43</td>\n",
       "      <td>0</td>\n",
       "      <td>1.0</td>\n",
       "      <td>71</td>\n",
       "      <td>4.000000</td>\n",
       "      <td>0.0</td>\n",
       "      <td>0</td>\n",
       "    </tr>\n",
       "    <tr>\n",
       "      <th>4</th>\n",
       "      <td>26/12/2017 18:13</td>\n",
       "      <td>0</td>\n",
       "      <td>1.5</td>\n",
       "      <td>44</td>\n",
       "      <td>3.753857</td>\n",
       "      <td>0.0</td>\n",
       "      <td>0</td>\n",
       "    </tr>\n",
       "  </tbody>\n",
       "</table>\n",
       "</div>"
      ],
      "text/plain": [
       "               time  month  hours_after_sunset  bat_landing_number  \\\n",
       "0  26/12/2017 16:13      0                -0.5                  20   \n",
       "1  26/12/2017 16:43      0                 0.0                  28   \n",
       "2  26/12/2017 17:13      0                 0.5                  25   \n",
       "3  26/12/2017 17:43      0                 1.0                  71   \n",
       "4  26/12/2017 18:13      0                 1.5                  44   \n",
       "\n",
       "   food_availability  rat_minutes  rat_arrival_number  \n",
       "0           4.000000          0.0                   0  \n",
       "1           4.000000          0.0                   0  \n",
       "2           4.000000          0.0                   0  \n",
       "3           4.000000          0.0                   0  \n",
       "4           3.753857          0.0                   0  "
      ]
     },
     "execution_count": 82,
     "metadata": {},
     "output_type": "execute_result"
    }
   ],
   "source": [
    "df2.head()"
   ]
  },
  {
   "cell_type": "markdown",
   "id": "e313eebc-3f54-4f37-9b35-44a28c6234bb",
   "metadata": {},
   "source": [
    "**hours after sunset has negetive values**"
   ]
  },
  {
   "cell_type": "code",
   "execution_count": 83,
   "id": "5f0ef6b3-4225-4b19-ae0f-fc7340d5525b",
   "metadata": {},
   "outputs": [
    {
     "name": "stdout",
     "output_type": "stream",
     "text": [
      "<class 'pandas.core.frame.DataFrame'>\n",
      "RangeIndex: 2123 entries, 0 to 2122\n",
      "Data columns (total 7 columns):\n",
      " #   Column              Non-Null Count  Dtype  \n",
      "---  ------              --------------  -----  \n",
      " 0   time                2123 non-null   object \n",
      " 1   month               2123 non-null   int64  \n",
      " 2   hours_after_sunset  2123 non-null   float64\n",
      " 3   bat_landing_number  2123 non-null   int64  \n",
      " 4   food_availability   2123 non-null   float64\n",
      " 5   rat_minutes         2123 non-null   float64\n",
      " 6   rat_arrival_number  2123 non-null   int64  \n",
      "dtypes: float64(3), int64(3), object(1)\n",
      "memory usage: 116.2+ KB\n"
     ]
    }
   ],
   "source": [
    "df2.info()"
   ]
  },
  {
   "cell_type": "code",
   "execution_count": 84,
   "id": "43617645-6ccd-4cea-b614-727e9a2080da",
   "metadata": {},
   "outputs": [
    {
     "data": {
      "text/html": [
       "<div>\n",
       "<style scoped>\n",
       "    .dataframe tbody tr th:only-of-type {\n",
       "        vertical-align: middle;\n",
       "    }\n",
       "\n",
       "    .dataframe tbody tr th {\n",
       "        vertical-align: top;\n",
       "    }\n",
       "\n",
       "    .dataframe thead th {\n",
       "        text-align: right;\n",
       "    }\n",
       "</style>\n",
       "<table border=\"1\" class=\"dataframe\">\n",
       "  <thead>\n",
       "    <tr style=\"text-align: right;\">\n",
       "      <th></th>\n",
       "      <th>month</th>\n",
       "      <th>hours_after_sunset</th>\n",
       "      <th>bat_landing_number</th>\n",
       "      <th>food_availability</th>\n",
       "      <th>rat_minutes</th>\n",
       "      <th>rat_arrival_number</th>\n",
       "    </tr>\n",
       "  </thead>\n",
       "  <tbody>\n",
       "    <tr>\n",
       "      <th>count</th>\n",
       "      <td>2123.000000</td>\n",
       "      <td>2123.000000</td>\n",
       "      <td>2123.000000</td>\n",
       "      <td>2123.000000</td>\n",
       "      <td>2123.000000</td>\n",
       "      <td>2123.000000</td>\n",
       "    </tr>\n",
       "    <tr>\n",
       "      <th>mean</th>\n",
       "      <td>3.083844</td>\n",
       "      <td>5.265426</td>\n",
       "      <td>32.083373</td>\n",
       "      <td>2.445874</td>\n",
       "      <td>1.994442</td>\n",
       "      <td>0.444654</td>\n",
       "    </tr>\n",
       "    <tr>\n",
       "      <th>std</th>\n",
       "      <td>1.642261</td>\n",
       "      <td>4.076188</td>\n",
       "      <td>25.614431</td>\n",
       "      <td>1.218353</td>\n",
       "      <td>6.793397</td>\n",
       "      <td>1.019195</td>\n",
       "    </tr>\n",
       "    <tr>\n",
       "      <th>min</th>\n",
       "      <td>0.000000</td>\n",
       "      <td>-2.000000</td>\n",
       "      <td>0.000000</td>\n",
       "      <td>0.000000</td>\n",
       "      <td>0.000000</td>\n",
       "      <td>0.000000</td>\n",
       "    </tr>\n",
       "    <tr>\n",
       "      <th>25%</th>\n",
       "      <td>2.000000</td>\n",
       "      <td>2.000000</td>\n",
       "      <td>11.000000</td>\n",
       "      <td>1.962206</td>\n",
       "      <td>0.000000</td>\n",
       "      <td>0.000000</td>\n",
       "    </tr>\n",
       "    <tr>\n",
       "      <th>50%</th>\n",
       "      <td>4.000000</td>\n",
       "      <td>5.000000</td>\n",
       "      <td>27.000000</td>\n",
       "      <td>2.951877</td>\n",
       "      <td>0.000000</td>\n",
       "      <td>0.000000</td>\n",
       "    </tr>\n",
       "    <tr>\n",
       "      <th>75%</th>\n",
       "      <td>4.000000</td>\n",
       "      <td>8.500000</td>\n",
       "      <td>48.000000</td>\n",
       "      <td>3.105873</td>\n",
       "      <td>0.158333</td>\n",
       "      <td>1.000000</td>\n",
       "    </tr>\n",
       "    <tr>\n",
       "      <th>max</th>\n",
       "      <td>6.000000</td>\n",
       "      <td>13.500000</td>\n",
       "      <td>178.000000</td>\n",
       "      <td>4.000000</td>\n",
       "      <td>120.000000</td>\n",
       "      <td>17.000000</td>\n",
       "    </tr>\n",
       "  </tbody>\n",
       "</table>\n",
       "</div>"
      ],
      "text/plain": [
       "             month  hours_after_sunset  bat_landing_number  food_availability  \\\n",
       "count  2123.000000         2123.000000         2123.000000        2123.000000   \n",
       "mean      3.083844            5.265426           32.083373           2.445874   \n",
       "std       1.642261            4.076188           25.614431           1.218353   \n",
       "min       0.000000           -2.000000            0.000000           0.000000   \n",
       "25%       2.000000            2.000000           11.000000           1.962206   \n",
       "50%       4.000000            5.000000           27.000000           2.951877   \n",
       "75%       4.000000            8.500000           48.000000           3.105873   \n",
       "max       6.000000           13.500000          178.000000           4.000000   \n",
       "\n",
       "       rat_minutes  rat_arrival_number  \n",
       "count  2123.000000         2123.000000  \n",
       "mean      1.994442            0.444654  \n",
       "std       6.793397            1.019195  \n",
       "min       0.000000            0.000000  \n",
       "25%       0.000000            0.000000  \n",
       "50%       0.000000            0.000000  \n",
       "75%       0.158333            1.000000  \n",
       "max     120.000000           17.000000  "
      ]
     },
     "execution_count": 84,
     "metadata": {},
     "output_type": "execute_result"
    }
   ],
   "source": [
    "df2.describe()"
   ]
  },
  {
   "cell_type": "markdown",
   "id": "8fcb0a7d-7e79-4685-91cb-d1ef9dcb0809",
   "metadata": {},
   "source": [
    "**hours_after_sunset showing negetive values**"
   ]
  },
  {
   "cell_type": "code",
   "execution_count": 85,
   "id": "68b1cf77-4696-47e1-8265-34a22d02d982",
   "metadata": {},
   "outputs": [],
   "source": [
    "df2[\"hours_after_sunset\"] = df2['hours_after_sunset'].apply(lambda x: x if x>=0 else (-1*x))"
   ]
  },
  {
   "cell_type": "code",
   "execution_count": 86,
   "id": "9f97cb2e-b910-4198-89bb-3f7992e68204",
   "metadata": {},
   "outputs": [
    {
     "data": {
      "text/html": [
       "<div>\n",
       "<style scoped>\n",
       "    .dataframe tbody tr th:only-of-type {\n",
       "        vertical-align: middle;\n",
       "    }\n",
       "\n",
       "    .dataframe tbody tr th {\n",
       "        vertical-align: top;\n",
       "    }\n",
       "\n",
       "    .dataframe thead th {\n",
       "        text-align: right;\n",
       "    }\n",
       "</style>\n",
       "<table border=\"1\" class=\"dataframe\">\n",
       "  <thead>\n",
       "    <tr style=\"text-align: right;\">\n",
       "      <th></th>\n",
       "      <th>month</th>\n",
       "      <th>hours_after_sunset</th>\n",
       "      <th>bat_landing_number</th>\n",
       "      <th>food_availability</th>\n",
       "      <th>rat_minutes</th>\n",
       "      <th>rat_arrival_number</th>\n",
       "    </tr>\n",
       "  </thead>\n",
       "  <tbody>\n",
       "    <tr>\n",
       "      <th>count</th>\n",
       "      <td>2123.000000</td>\n",
       "      <td>2123.000000</td>\n",
       "      <td>2123.000000</td>\n",
       "      <td>2123.000000</td>\n",
       "      <td>2123.000000</td>\n",
       "      <td>2123.000000</td>\n",
       "    </tr>\n",
       "    <tr>\n",
       "      <th>mean</th>\n",
       "      <td>3.083844</td>\n",
       "      <td>5.488695</td>\n",
       "      <td>32.083373</td>\n",
       "      <td>2.445874</td>\n",
       "      <td>1.994442</td>\n",
       "      <td>0.444654</td>\n",
       "    </tr>\n",
       "    <tr>\n",
       "      <th>std</th>\n",
       "      <td>1.642261</td>\n",
       "      <td>3.770028</td>\n",
       "      <td>25.614431</td>\n",
       "      <td>1.218353</td>\n",
       "      <td>6.793397</td>\n",
       "      <td>1.019195</td>\n",
       "    </tr>\n",
       "    <tr>\n",
       "      <th>min</th>\n",
       "      <td>0.000000</td>\n",
       "      <td>0.000000</td>\n",
       "      <td>0.000000</td>\n",
       "      <td>0.000000</td>\n",
       "      <td>0.000000</td>\n",
       "      <td>0.000000</td>\n",
       "    </tr>\n",
       "    <tr>\n",
       "      <th>25%</th>\n",
       "      <td>2.000000</td>\n",
       "      <td>2.000000</td>\n",
       "      <td>11.000000</td>\n",
       "      <td>1.962206</td>\n",
       "      <td>0.000000</td>\n",
       "      <td>0.000000</td>\n",
       "    </tr>\n",
       "    <tr>\n",
       "      <th>50%</th>\n",
       "      <td>4.000000</td>\n",
       "      <td>5.000000</td>\n",
       "      <td>27.000000</td>\n",
       "      <td>2.951877</td>\n",
       "      <td>0.000000</td>\n",
       "      <td>0.000000</td>\n",
       "    </tr>\n",
       "    <tr>\n",
       "      <th>75%</th>\n",
       "      <td>4.000000</td>\n",
       "      <td>8.500000</td>\n",
       "      <td>48.000000</td>\n",
       "      <td>3.105873</td>\n",
       "      <td>0.158333</td>\n",
       "      <td>1.000000</td>\n",
       "    </tr>\n",
       "    <tr>\n",
       "      <th>max</th>\n",
       "      <td>6.000000</td>\n",
       "      <td>13.500000</td>\n",
       "      <td>178.000000</td>\n",
       "      <td>4.000000</td>\n",
       "      <td>120.000000</td>\n",
       "      <td>17.000000</td>\n",
       "    </tr>\n",
       "  </tbody>\n",
       "</table>\n",
       "</div>"
      ],
      "text/plain": [
       "             month  hours_after_sunset  bat_landing_number  food_availability  \\\n",
       "count  2123.000000         2123.000000         2123.000000        2123.000000   \n",
       "mean      3.083844            5.488695           32.083373           2.445874   \n",
       "std       1.642261            3.770028           25.614431           1.218353   \n",
       "min       0.000000            0.000000            0.000000           0.000000   \n",
       "25%       2.000000            2.000000           11.000000           1.962206   \n",
       "50%       4.000000            5.000000           27.000000           2.951877   \n",
       "75%       4.000000            8.500000           48.000000           3.105873   \n",
       "max       6.000000           13.500000          178.000000           4.000000   \n",
       "\n",
       "       rat_minutes  rat_arrival_number  \n",
       "count  2123.000000         2123.000000  \n",
       "mean      1.994442            0.444654  \n",
       "std       6.793397            1.019195  \n",
       "min       0.000000            0.000000  \n",
       "25%       0.000000            0.000000  \n",
       "50%       0.000000            0.000000  \n",
       "75%       0.158333            1.000000  \n",
       "max     120.000000           17.000000  "
      ]
     },
     "execution_count": 86,
     "metadata": {},
     "output_type": "execute_result"
    }
   ],
   "source": [
    "df2.describe()"
   ]
  },
  {
   "cell_type": "code",
   "execution_count": 87,
   "id": "c6ec7b41-93da-4748-b877-04bd6d6fd80c",
   "metadata": {},
   "outputs": [
    {
     "data": {
      "text/plain": [
       "hours_after_sunset\n",
       "0.5     147\n",
       "1.0     134\n",
       "1.5     125\n",
       "2.0     116\n",
       "5.0      80\n",
       "5.5      80\n",
       "6.5      80\n",
       "6.0      80\n",
       "4.5      79\n",
       "3.0      79\n",
       "3.5      79\n",
       "2.5      79\n",
       "7.0      78\n",
       "4.0      78\n",
       "7.5      77\n",
       "8.0      75\n",
       "9.0      75\n",
       "8.5      75\n",
       "9.5      75\n",
       "0.0      73\n",
       "10.0     71\n",
       "10.5     66\n",
       "11.0     56\n",
       "11.5     48\n",
       "12.0     40\n",
       "13.0     31\n",
       "12.5     30\n",
       "13.5     17\n",
       "Name: count, dtype: int64"
      ]
     },
     "execution_count": 87,
     "metadata": {},
     "output_type": "execute_result"
    }
   ],
   "source": [
    "df2['hours_after_sunset'].value_counts()"
   ]
  },
  {
   "cell_type": "code",
   "execution_count": 88,
   "id": "b57af8d3-1986-4c92-8e4f-67e498ee6cd5",
   "metadata": {},
   "outputs": [
    {
     "data": {
      "image/png": "[encoded data removed]",
      "text/plain": [
       "<Figure size 640x480 with 1 Axes>"
      ]
     },
     "metadata": {},
     "output_type": "display_data"
    }
   ],
   "source": [
    "plt.hist(df2[\"hours_after_sunset\"], bins=100, color='green', edgecolor='black')\n",
    "plt.xlabel(\"Hours After Sunset\")\n",
    "plt.ylabel(\"Frequency\")\n",
    "plt.title(\"Distribution of Activity Relative to Sunset\")\n",
    "plt.show()\n"
   ]
  },
  {
   "cell_type": "code",
   "execution_count": 89,
   "id": "3db28b5c-45b6-4544-8303-c3e7160fb2b4",
   "metadata": {},
   "outputs": [
    {
     "data": {
      "text/plain": [
       "bat_landing_number\n",
       "2      73\n",
       "1      72\n",
       "3      68\n",
       "5      46\n",
       "14     45\n",
       "       ..\n",
       "116     1\n",
       "151     1\n",
       "158     1\n",
       "110     1\n",
       "97      1\n",
       "Name: count, Length: 119, dtype: int64"
      ]
     },
     "execution_count": 89,
     "metadata": {},
     "output_type": "execute_result"
    }
   ],
   "source": [
    "df2['bat_landing_number'].value_counts()"
   ]
  },
  {
   "cell_type": "code",
   "execution_count": 90,
   "id": "01d71445-94d3-4908-bf95-764816a84f6b",
   "metadata": {},
   "outputs": [
    {
     "data": {
      "image/png": "[encoded data removed]",
      "text/plain": [
       "<Figure size 640x480 with 1 Axes>"
      ]
     },
     "metadata": {},
     "output_type": "display_data"
    }
   ],
   "source": [
    "plt.hist(df2[\"bat_landing_number\"], bins=100, color='green', edgecolor='black')\n",
    "plt.xlabel(\"Bat Landing Number\")\n",
    "plt.ylabel(\"Frequency\")\n",
    "plt.title(\"Distribution of Bat Landing Number\")\n",
    "plt.show()"
   ]
  },
  {
   "cell_type": "code",
   "execution_count": 91,
   "id": "3245e44e-8824-487d-8ff0-360096784583",
   "metadata": {},
   "outputs": [
    {
     "name": "stdout",
     "output_type": "stream",
     "text": [
      "Mean: 32\n",
      "Median: 27.00\n",
      "Mode value: 2\n",
      "Range: 178\n",
      "Sample variance: 656.10. Population variance: 655.79.\n",
      "Sample std. dev.: 25.61. Population std. dev.: 25.61.\n",
      "IQR: 37.00. 25th percentile: 11.00. 75th percentile: 48.00\n"
     ]
    }
   ],
   "source": [
    "sample = df2['bat_landing_number'].values\n",
    "x_bar = stats.mean(sample)\n",
    "print(\"Mean:\", x_bar)\n",
    "\n",
    "median = stats.median(sample)\n",
    "print(\"Median: %.2f\" % median)\n",
    "\n",
    "mode = stats.mode(sample)\n",
    "print(\"Mode value: %d\" % mode)\n",
    "\n",
    "the_range = np.max(sample) - np.min(sample)\n",
    "print(\"Range: %d\" % the_range)\n",
    "\n",
    "sample_array = np.array(sample)\n",
    "s_square = sample_array.var(ddof=1)\n",
    "sigma_square = sample_array.var()\n",
    "print(\"Sample variance: %.2f. Population variance: %.2f.\" % (s_square, sigma_square))\n",
    "\n",
    "s = sample_array.std(ddof=1)\n",
    "sigma = sample_array.std()\n",
    "print(\"Sample std. dev.: %.2f. Population std. dev.: %.2f.\" % (s, sigma))\n",
    "\n",
    "pct25 = np.percentile(sample, 25)\n",
    "pct75 = np.percentile(sample, 75)\n",
    "iqr = pct75 - pct25\n",
    "print(\"IQR: %.2f. 25th percentile: %.2f. 75th percentile: %.2f\" % (iqr, pct25, pct75))\n"
   ]
  },
  {
   "cell_type": "code",
   "execution_count": 92,
   "id": "518ea23b-44c1-430b-bca4-bd36d158e0ea",
   "metadata": {},
   "outputs": [
    {
     "data": {
      "text/plain": [
       "food_availability\n",
       "3.000000    453\n",
       "4.000000    353\n",
       "2.000000    312\n",
       "0.000000    185\n",
       "1.000000    143\n",
       "           ... \n",
       "1.888948      1\n",
       "1.426230      1\n",
       "1.034902      1\n",
       "3.989705      1\n",
       "3.438596      1\n",
       "Name: count, Length: 600, dtype: int64"
      ]
     },
     "execution_count": 92,
     "metadata": {},
     "output_type": "execute_result"
    }
   ],
   "source": [
    "df2['food_availability'].value_counts()"
   ]
  },
  {
   "cell_type": "code",
   "execution_count": 93,
   "id": "6a87f472-a321-4c8d-955a-49d36a83faad",
   "metadata": {},
   "outputs": [
    {
     "data": {
      "image/png": "[encoded data removed]",
      "text/plain": [
       "<Figure size 640x480 with 1 Axes>"
      ]
     },
     "metadata": {},
     "output_type": "display_data"
    }
   ],
   "source": [
    "plt.hist(df2[\"food_availability\"], bins=100, color='green', edgecolor='black')\n",
    "plt.xlabel(\"Food Availability\")\n",
    "plt.ylabel(\"Frequency\")\n",
    "plt.title(\"Distribution of Food Availability\")\n",
    "plt.show()"
   ]
  },
  {
   "cell_type": "code",
   "execution_count": 94,
   "id": "705c4bfb-c66c-4672-9135-88924b879d57",
   "metadata": {},
   "outputs": [
    {
     "name": "stdout",
     "output_type": "stream",
     "text": [
      "Mean: 2.4458744278351388\n",
      "Median: 2.95\n",
      "Mode value: 3.00\n",
      "Range: 4.00\n",
      "Sample variance: 1.48. Population variance: 1.48.\n",
      "Sample std. dev.: 1.22. Population std. dev.: 1.22.\n",
      "IQR: 1.14. 25th percentile: 1.96. 75th percentile: 3.11\n"
     ]
    }
   ],
   "source": [
    "\n",
    "sample = df2['food_availability'].values\n",
    "x_bar = stats.mean(sample)\n",
    "print(\"Mean:\", x_bar)\n",
    "\n",
    "median = stats.median(sample)\n",
    "print(\"Median: %.2f\" % median)\n",
    "\n",
    "mode = stats.mode(sample)\n",
    "print(\"Mode value: %.2f\" % mode)\n",
    "\n",
    "the_range = np.max(sample) - np.min(sample)\n",
    "print(\"Range: %.2f\" % the_range)\n",
    "\n",
    "sample_array = np.array(sample)\n",
    "s_square = sample_array.var(ddof=1)\n",
    "sigma_square = sample_array.var()\n",
    "print(\"Sample variance: %.2f. Population variance: %.2f.\" % (s_square, sigma_square))\n",
    "\n",
    "s = sample_array.std(ddof=1)\n",
    "sigma = sample_array.std()\n",
    "print(\"Sample std. dev.: %.2f. Population std. dev.: %.2f.\" % (s, sigma))\n",
    "\n",
    "pct25 = np.percentile(sample, 25)\n",
    "pct75 = np.percentile(sample, 75)\n",
    "iqr = pct75 - pct25\n",
    "print(\"IQR: %.2f. 25th percentile: %.2f. 75th percentile: %.2f\" % (iqr, pct25, pct75))\n"
   ]
  },
  {
   "cell_type": "code",
   "execution_count": 95,
   "id": "f8349e49-a6d4-446d-9470-184c34a57849",
   "metadata": {},
   "outputs": [
    {
     "data": {
      "text/plain": [
       "rat_minutes\n",
       "0.000000     1578\n",
       "2.766667        4\n",
       "1.550000        4\n",
       "1.050000        4\n",
       "5.550000        4\n",
       "             ... \n",
       "4.383333        1\n",
       "1.733333        1\n",
       "23.433333       1\n",
       "2.516667        1\n",
       "5.650000        1\n",
       "Name: count, Length: 401, dtype: int64"
      ]
     },
     "execution_count": 95,
     "metadata": {},
     "output_type": "execute_result"
    }
   ],
   "source": [
    "df2['rat_minutes'].value_counts()"
   ]
  },
  {
   "cell_type": "code",
   "execution_count": 96,
   "id": "8ebd0f1d-d1ed-4722-9cda-66d81ef336dc",
   "metadata": {
    "scrolled": true
   },
   "outputs": [
    {
     "data": {
      "image/png": "[encoded data removed]",
      "text/plain": [
       "<Figure size 640x480 with 1 Axes>"
      ]
     },
     "metadata": {},
     "output_type": "display_data"
    }
   ],
   "source": [
    "plt.hist(df2[\"rat_minutes\"], bins=10, color='green', edgecolor='black')\n",
    "plt.xlabel(\"Rat Minutes\")\n",
    "plt.ylabel(\"Frequency\")\n",
    "plt.title(\"Distribution of Rat Minutes\")\n",
    "plt.show()\n"
   ]
  },
  {
   "cell_type": "code",
   "execution_count": null,
   "id": "4a988ae9-e0fb-410e-9b1f-f01a8347c016",
   "metadata": {},
   "outputs": [],
   "source": []
  },
  {
   "cell_type": "code",
   "execution_count": 97,
   "id": "e15355d6-9c68-40ea-9432-36e4d4a85dd9",
   "metadata": {},
   "outputs": [
    {
     "name": "stdout",
     "output_type": "stream",
     "text": [
      "Mean: 1.9944418275581723\n",
      "Median: 0.00\n",
      "Mode value: 0.00\n",
      "Range: 120.00\n",
      "Sample variance: 46.15. Population variance: 46.13.\n",
      "Sample std. dev.: 6.79. Population std. dev.: 6.79.\n",
      "IQR: 0.16. 25th percentile: 0.00. 75th percentile: 0.16\n"
     ]
    }
   ],
   "source": [
    "sample = df2['rat_minutes'].values\n",
    "x_bar = stats.mean(sample)\n",
    "print(\"Mean:\", x_bar)\n",
    "\n",
    "median = stats.median(sample)\n",
    "print(\"Median: %.2f\" % median)\n",
    "\n",
    "mode = stats.mode(sample)\n",
    "print(\"Mode value: %.2f\" % mode)\n",
    "\n",
    "the_range = np.max(sample) - np.min(sample)\n",
    "print(\"Range: %.2f\" % the_range)\n",
    "\n",
    "sample_array = np.array(sample)\n",
    "s_square = sample_array.var(ddof=1)\n",
    "sigma_square = sample_array.var()\n",
    "print(\"Sample variance: %.2f. Population variance: %.2f.\" % (s_square, sigma_square))\n",
    "\n",
    "s = sample_array.std(ddof=1)\n",
    "sigma = sample_array.std()\n",
    "print(\"Sample std. dev.: %.2f. Population std. dev.: %.2f.\" % (s, sigma))\n",
    "\n",
    "pct25 = np.percentile(sample, 25)\n",
    "pct75 = np.percentile(sample, 75)\n",
    "iqr = pct75 - pct25\n",
    "print(\"IQR: %.2f. 25th percentile: %.2f. 75th percentile: %.2f\" % (iqr, pct25, pct75))\n"
   ]
  },
  {
   "cell_type": "code",
   "execution_count": 98,
   "id": "cdf402e1-e14b-4dfb-a03f-37390002a42c",
   "metadata": {},
   "outputs": [
    {
     "data": {
      "text/plain": [
       "rat_arrival_number\n",
       "0     1578\n",
       "1      335\n",
       "2      118\n",
       "3       45\n",
       "4       27\n",
       "5        8\n",
       "6        6\n",
       "7        3\n",
       "8        2\n",
       "17       1\n",
       "Name: count, dtype: int64"
      ]
     },
     "execution_count": 98,
     "metadata": {},
     "output_type": "execute_result"
    }
   ],
   "source": [
    "df2['rat_arrival_number'].value_counts()"
   ]
  },
  {
   "cell_type": "code",
   "execution_count": 99,
   "id": "fbf5d0f9-67f8-410b-80bd-90b42d565aa4",
   "metadata": {},
   "outputs": [
    {
     "data": {
      "image/png": "[encoded data removed]",
      "text/plain": [
       "<Figure size 640x480 with 1 Axes>"
      ]
     },
     "metadata": {},
     "output_type": "display_data"
    }
   ],
   "source": [
    "plt.hist(df2[\"rat_arrival_number\"], bins=25, color='green', edgecolor='black')\n",
    "plt.xlabel(\"Rat Arrival Number\")\n",
    "plt.ylabel(\"Frequency\")\n",
    "plt.title(\"Distribution of Rat Arrival Number\")\n",
    "plt.show()"
   ]
  },
  {
   "cell_type": "code",
   "execution_count": 100,
   "id": "501bca38-6c07-47d8-addd-d065a28f263e",
   "metadata": {},
   "outputs": [
    {
     "name": "stdout",
     "output_type": "stream",
     "text": [
      "Mean: 0\n",
      "Median: 0.00\n",
      "Mode value: 0\n",
      "Range: 17\n",
      "Sample variance: 1.04. Population variance: 1.04.\n",
      "Sample std. dev.: 1.02. Population std. dev.: 1.02.\n",
      "IQR: 1.00. 25th percentile: 0.00. 75th percentile: 1.00\n"
     ]
    }
   ],
   "source": [
    "sample = df2['rat_arrival_number'].values\n",
    "x_bar = stats.mean(sample)\n",
    "print(\"Mean:\", x_bar)\n",
    "\n",
    "median = stats.median(sample)\n",
    "print(\"Median: %.2f\" % median)\n",
    "\n",
    "mode = stats.mode(sample)\n",
    "print(\"Mode value: %d\" % mode)\n",
    "\n",
    "the_range = np.max(sample) - np.min(sample)\n",
    "print(\"Range: %d\" % the_range)\n",
    "\n",
    "sample_array = np.array(sample)\n",
    "s_square = sample_array.var(ddof=1)\n",
    "sigma_square = sample_array.var()\n",
    "print(\"Sample variance: %.2f. Population variance: %.2f.\" % (s_square, sigma_square))\n",
    "\n",
    "s = sample_array.std(ddof=1)\n",
    "sigma = sample_array.std()\n",
    "print(\"Sample std. dev.: %.2f. Population std. dev.: %.2f.\" % (s, sigma))\n",
    "\n",
    "pct25 = np.percentile(sample, 25)\n",
    "pct75 = np.percentile(sample, 75)\n",
    "iqr = pct75 - pct25\n",
    "print(\"IQR: %.2f. 25th percentile: %.2f. 75th percentile: %.2f\" % (iqr, pct25, pct75))\n"
   ]
  },
  {
   "cell_type": "markdown",
   "id": "7846558c-afa1-4265-9b76-b06203c848e2",
   "metadata": {},
   "source": [
    "##  Key columns in dataset2\n",
    "\n",
    "For investigating whether bats perceive rats as predators, we focus on:\n",
    "- **Bat landing Number** \n",
    "- **Rat arrival number**\n",
    "- *Food avialability* \n",
    "- *Rat Minutes*"
   ]
  },
  {
   "cell_type": "code",
   "execution_count": 101,
   "id": "cb23904f-0419-46a2-8b40-ae66563a3fc6",
   "metadata": {},
   "outputs": [
    {
     "name": "stdout",
     "output_type": "stream",
     "text": [
      "Observation periods with rats: 545\n",
      "Observation periods without rats: 1578\n",
      "\n",
      "Bat activity comparison:\n",
      "Average bat landings with rats present: 27.67\n",
      "Average bat landings without rats: 33.61\n",
      "\n",
      "Median bat landings with rats present: 21.00\n",
      "Median bat landings without rats: 29.00\n",
      "\n",
      "Standard deviation with rats: 22.39\n",
      "Standard deviation without rats: 26.47\n"
     ]
    }
   ],
   "source": [
    "\n",
    "with_rats = df2[df2['rat_arrival_number'] > 0]\n",
    "without_rats = df2[df2['rat_arrival_number'] == 0]\n",
    "\n",
    "print(f\"Observation periods with rats: {len(with_rats)}\")\n",
    "print(f\"Observation periods without rats: {len(without_rats)}\")\n",
    "\n",
    "# Compare bat landing numbers\n",
    "print(f\"\\nBat activity comparison:\")\n",
    "print(f\"Average bat landings with rats present: {stats.mean(with_rats['bat_landing_number']):.2f}\")\n",
    "print(f\"Average bat landings without rats: {stats.mean(without_rats['bat_landing_number']):.2f}\")\n",
    "\n",
    "print(f\"\\nMedian bat landings with rats present: {np.median(with_rats['bat_landing_number']):.2f}\")\n",
    "print(f\"Median bat landings without rats: {np.median(without_rats['bat_landing_number']):.2f}\")\n",
    "\n",
    "# Standard deviation\n",
    "print(f\"\\nStandard deviation with rats: {np.std(with_rats['bat_landing_number'], ddof=1):.2f}\")\n",
    "print(f\"Standard deviation without rats: {np.std(without_rats['bat_landing_number'], ddof=1):.2f}\")"
   ]
  },
  {
   "cell_type": "code",
   "execution_count": 102,
   "id": "1091a981-a6aa-4af7-89e2-f122e5d51ada",
   "metadata": {},
   "outputs": [
    {
     "name": "stdout",
     "output_type": "stream",
     "text": [
      "\n",
      "=== Rat Intensity vs Bat Activity ===\n",
      "Bat activity by rat presence intensity:\n"
     ]
    },
    {
     "data": {
      "text/html": [
       "<div>\n",
       "<style scoped>\n",
       "    .dataframe tbody tr th:only-of-type {\n",
       "        vertical-align: middle;\n",
       "    }\n",
       "\n",
       "    .dataframe tbody tr th {\n",
       "        vertical-align: top;\n",
       "    }\n",
       "\n",
       "    .dataframe thead tr th {\n",
       "        text-align: left;\n",
       "    }\n",
       "\n",
       "    .dataframe thead tr:last-of-type th {\n",
       "        text-align: right;\n",
       "    }\n",
       "</style>\n",
       "<table border=\"1\" class=\"dataframe\">\n",
       "  <thead>\n",
       "    <tr>\n",
       "      <th></th>\n",
       "      <th colspan=\"3\" halign=\"left\">bat_landing_number</th>\n",
       "      <th>food_availability</th>\n",
       "      <th>rat_minutes</th>\n",
       "    </tr>\n",
       "    <tr>\n",
       "      <th></th>\n",
       "      <th>count</th>\n",
       "      <th>mean</th>\n",
       "      <th>median</th>\n",
       "      <th>mean</th>\n",
       "      <th>mean</th>\n",
       "    </tr>\n",
       "    <tr>\n",
       "      <th>rat_intensity</th>\n",
       "      <th></th>\n",
       "      <th></th>\n",
       "      <th></th>\n",
       "      <th></th>\n",
       "      <th></th>\n",
       "    </tr>\n",
       "  </thead>\n",
       "  <tbody>\n",
       "    <tr>\n",
       "      <th>No rats</th>\n",
       "      <td>1578</td>\n",
       "      <td>33.61</td>\n",
       "      <td>29.0</td>\n",
       "      <td>2.50</td>\n",
       "      <td>0.00</td>\n",
       "    </tr>\n",
       "    <tr>\n",
       "      <th>Low (1)</th>\n",
       "      <td>335</td>\n",
       "      <td>28.66</td>\n",
       "      <td>22.0</td>\n",
       "      <td>2.24</td>\n",
       "      <td>4.88</td>\n",
       "    </tr>\n",
       "    <tr>\n",
       "      <th>Medium (2)</th>\n",
       "      <td>118</td>\n",
       "      <td>26.56</td>\n",
       "      <td>22.0</td>\n",
       "      <td>2.42</td>\n",
       "      <td>7.49</td>\n",
       "    </tr>\n",
       "    <tr>\n",
       "      <th>High (3+)</th>\n",
       "      <td>92</td>\n",
       "      <td>25.49</td>\n",
       "      <td>16.0</td>\n",
       "      <td>2.34</td>\n",
       "      <td>18.65</td>\n",
       "    </tr>\n",
       "  </tbody>\n",
       "</table>\n",
       "</div>"
      ],
      "text/plain": [
       "              bat_landing_number               food_availability rat_minutes\n",
       "                           count   mean median              mean        mean\n",
       "rat_intensity                                                               \n",
       "No rats                     1578  33.61   29.0              2.50        0.00\n",
       "Low (1)                      335  28.66   22.0              2.24        4.88\n",
       "Medium (2)                   118  26.56   22.0              2.42        7.49\n",
       "High (3+)                     92  25.49   16.0              2.34       18.65"
      ]
     },
     "execution_count": 102,
     "metadata": {},
     "output_type": "execute_result"
    }
   ],
   "source": [
    "\n",
    "print(\"\\n=== Rat Intensity vs Bat Activity ===\")\n",
    "\n",
    "# Categorize rat presence intensity\n",
    "df2['rat_intensity'] = pd.cut(df2['rat_arrival_number'], \n",
    "                                      bins=[-1, 0, 1, 2, float('inf')], \n",
    "                                      labels=['No rats', 'Low (1)', 'Medium (2)', 'High (3+)'])\n",
    "\n",
    "rat_intensity_analysis = df2.groupby('rat_intensity').agg({\n",
    "    'bat_landing_number': ['count', 'mean', 'median'],\n",
    "    'food_availability': 'mean',\n",
    "    'rat_minutes': 'mean'\n",
    "}).round(2)\n",
    "\n",
    "print(\"Bat activity by rat presence intensity:\")\n",
    "rat_intensity_analysis"
   ]
  },
  {
   "cell_type": "code",
   "execution_count": 103,
   "id": "1f2c8b19-dce6-4aa6-b20d-61f557977bd1",
   "metadata": {},
   "outputs": [
    {
     "name": "stdout",
     "output_type": "stream",
     "text": [
      "Approach time ranges:\n",
      "Minimum: 0.01 seconds\n",
      "25rd percentile: 1.00 seconds\n",
      "75th percentile: 11.50 seconds\n",
      "Maximum: 443.00 seconds\n"
     ]
    }
   ],
   "source": [
    "approach_times = df1['bat_landing_to_food']\n",
    "min_time = approach_times.min()\n",
    "q25 = np.percentile(approach_times, 25)\n",
    "q75 = np.percentile(approach_times, 75)\n",
    "max_time = approach_times.max()\n",
    "\n",
    "print(f\"Approach time ranges:\")\n",
    "print(f\"Minimum: {min_time:.2f} seconds\")\n",
    "print(f\"25rd percentile: {q25:.2f} seconds\")\n",
    "print(f\"75th percentile: {q75:.2f} seconds\")\n",
    "print(f\"Maximum: {max_time:.2f} seconds\")\n"
   ]
  },
  {
   "cell_type": "code",
   "execution_count": 104,
   "id": "472e8dd3-4161-4b72-b260-53d072b9c1ca",
   "metadata": {},
   "outputs": [],
   "source": [
    "\n",
    "time_bins = [0.01, q25, q75, max_time + 1]\n",
    "vigilance_labels = ['Low_Vigilance', 'Medium_Vigilance', 'High_Vigilance']\n",
    "\n",
    "df1['vigilance_level'] = pd.cut(df1['bat_landing_to_food'], \n",
    "                                             bins=time_bins, \n",
    "                                             labels=vigilance_labels)\n",
    "\n"
   ]
  },
  {
   "cell_type": "code",
   "execution_count": 107,
   "id": "a588b94f-1537-4695-a7a3-45a96a4a7a27",
   "metadata": {},
   "outputs": [
    {
     "data": {
      "text/plain": [
       "vigilance_level\n",
       "Medium_Vigilance    417\n",
       "Low_Vigilance       263\n",
       "High_Vigilance      227\n",
       "Name: count, dtype: int64"
      ]
     },
     "execution_count": 107,
     "metadata": {},
     "output_type": "execute_result"
    }
   ],
   "source": [
    "df1['vigilance_level'].value_counts()"
   ]
  }
 ],
 "metadata": {
  "kernelspec": {
   "display_name": "Python 3 (ipykernel)",
   "language": "python",
   "name": "python3"
  },
  "language_info": {
   "codemirror_mode": {
    "name": "ipython",
    "version": 3
   },
   "file_extension": ".py",
   "mimetype": "text/x-python",
   "name": "python",
   "nbconvert_exporter": "python",
   "pygments_lexer": "ipython3",
   "version": "3.13.5"
  }
 },
 "nbformat": 4,
 "nbformat_minor": 5
}
