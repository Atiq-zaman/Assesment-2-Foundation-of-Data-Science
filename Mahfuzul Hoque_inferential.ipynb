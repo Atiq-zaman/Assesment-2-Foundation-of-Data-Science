{
 "cells": [
  {
   "cell_type": "code",
   "execution_count": 41,
   "id": "d436a071-665b-46cd-8d70-6b0830d911d5",
   "metadata": {},
   "outputs": [],
   "source": [
    "import pandas as pd\n",
    "import numpy as np\n",
    "import matplotlib.pyplot as plt\n",
    "import statistics as stats\n",
    "from sklearn.linear_model import LinearRegression\n",
    "import scipy.stats as st\n",
    "import statsmodels.stats.weightstats as stw\n",
    "import statsmodels.stats.proportion as stp"
   ]
  },
  {
   "cell_type": "code",
   "execution_count": 42,
   "id": "e41c41ef-5e7a-4c40-9579-e305bb32a39f",
   "metadata": {},
   "outputs": [],
   "source": [
    "df1 = pd.read_csv(\"dataset1.csv\")\n",
    "df2 = pd.read_csv(\"dataset2.csv\")"
   ]
  },
  {
   "cell_type": "code",
   "execution_count": 43,
   "id": "63b54361-4a08-477f-9a33-1f23a22ba5c2",
   "metadata": {},
   "outputs": [
    {
     "data": {
      "text/html": [
       "<div>\n",
       "<style scoped>\n",
       "    .dataframe tbody tr th:only-of-type {\n",
       "        vertical-align: middle;\n",
       "    }\n",
       "\n",
       "    .dataframe tbody tr th {\n",
       "        vertical-align: top;\n",
       "    }\n",
       "\n",
       "    .dataframe thead th {\n",
       "        text-align: right;\n",
       "    }\n",
       "</style>\n",
       "<table border=\"1\" class=\"dataframe\">\n",
       "  <thead>\n",
       "    <tr style=\"text-align: right;\">\n",
       "      <th></th>\n",
       "      <th>time</th>\n",
       "      <th>month</th>\n",
       "      <th>hours_after_sunset</th>\n",
       "      <th>bat_landing_number</th>\n",
       "      <th>food_availability</th>\n",
       "      <th>rat_minutes</th>\n",
       "      <th>rat_arrival_number</th>\n",
       "    </tr>\n",
       "  </thead>\n",
       "  <tbody>\n",
       "    <tr>\n",
       "      <th>0</th>\n",
       "      <td>26/12/2017 16:13</td>\n",
       "      <td>0</td>\n",
       "      <td>-0.5</td>\n",
       "      <td>20</td>\n",
       "      <td>4.000000</td>\n",
       "      <td>0.0</td>\n",
       "      <td>0</td>\n",
       "    </tr>\n",
       "    <tr>\n",
       "      <th>1</th>\n",
       "      <td>26/12/2017 16:43</td>\n",
       "      <td>0</td>\n",
       "      <td>0.0</td>\n",
       "      <td>28</td>\n",
       "      <td>4.000000</td>\n",
       "      <td>0.0</td>\n",
       "      <td>0</td>\n",
       "    </tr>\n",
       "    <tr>\n",
       "      <th>2</th>\n",
       "      <td>26/12/2017 17:13</td>\n",
       "      <td>0</td>\n",
       "      <td>0.5</td>\n",
       "      <td>25</td>\n",
       "      <td>4.000000</td>\n",
       "      <td>0.0</td>\n",
       "      <td>0</td>\n",
       "    </tr>\n",
       "    <tr>\n",
       "      <th>3</th>\n",
       "      <td>26/12/2017 17:43</td>\n",
       "      <td>0</td>\n",
       "      <td>1.0</td>\n",
       "      <td>71</td>\n",
       "      <td>4.000000</td>\n",
       "      <td>0.0</td>\n",
       "      <td>0</td>\n",
       "    </tr>\n",
       "    <tr>\n",
       "      <th>4</th>\n",
       "      <td>26/12/2017 18:13</td>\n",
       "      <td>0</td>\n",
       "      <td>1.5</td>\n",
       "      <td>44</td>\n",
       "      <td>3.753857</td>\n",
       "      <td>0.0</td>\n",
       "      <td>0</td>\n",
       "    </tr>\n",
       "  </tbody>\n",
       "</table>\n",
       "</div>"
      ],
      "text/plain": [
       "               time  month  hours_after_sunset  bat_landing_number  \\\n",
       "0  26/12/2017 16:13      0                -0.5                  20   \n",
       "1  26/12/2017 16:43      0                 0.0                  28   \n",
       "2  26/12/2017 17:13      0                 0.5                  25   \n",
       "3  26/12/2017 17:43      0                 1.0                  71   \n",
       "4  26/12/2017 18:13      0                 1.5                  44   \n",
       "\n",
       "   food_availability  rat_minutes  rat_arrival_number  \n",
       "0           4.000000          0.0                   0  \n",
       "1           4.000000          0.0                   0  \n",
       "2           4.000000          0.0                   0  \n",
       "3           4.000000          0.0                   0  \n",
       "4           3.753857          0.0                   0  "
      ]
     },
     "execution_count": 43,
     "metadata": {},
     "output_type": "execute_result"
    }
   ],
   "source": [
    "df2.head()"
   ]
  },
  {
   "cell_type": "code",
   "execution_count": 44,
   "id": "51e0e802-d33c-460a-8c75-20f0a61c6994",
   "metadata": {},
   "outputs": [
    {
     "data": {
      "text/html": [
       "<div>\n",
       "<style scoped>\n",
       "    .dataframe tbody tr th:only-of-type {\n",
       "        vertical-align: middle;\n",
       "    }\n",
       "\n",
       "    .dataframe tbody tr th {\n",
       "        vertical-align: top;\n",
       "    }\n",
       "\n",
       "    .dataframe thead th {\n",
       "        text-align: right;\n",
       "    }\n",
       "</style>\n",
       "<table border=\"1\" class=\"dataframe\">\n",
       "  <thead>\n",
       "    <tr style=\"text-align: right;\">\n",
       "      <th></th>\n",
       "      <th>month</th>\n",
       "      <th>hours_after_sunset</th>\n",
       "      <th>bat_landing_number</th>\n",
       "      <th>food_availability</th>\n",
       "      <th>rat_minutes</th>\n",
       "      <th>rat_arrival_number</th>\n",
       "    </tr>\n",
       "  </thead>\n",
       "  <tbody>\n",
       "    <tr>\n",
       "      <th>count</th>\n",
       "      <td>2123.000000</td>\n",
       "      <td>2123.000000</td>\n",
       "      <td>2123.000000</td>\n",
       "      <td>2123.000000</td>\n",
       "      <td>2123.000000</td>\n",
       "      <td>2123.000000</td>\n",
       "    </tr>\n",
       "    <tr>\n",
       "      <th>mean</th>\n",
       "      <td>3.083844</td>\n",
       "      <td>5.265426</td>\n",
       "      <td>32.083373</td>\n",
       "      <td>2.445874</td>\n",
       "      <td>1.994442</td>\n",
       "      <td>0.444654</td>\n",
       "    </tr>\n",
       "    <tr>\n",
       "      <th>std</th>\n",
       "      <td>1.642261</td>\n",
       "      <td>4.076188</td>\n",
       "      <td>25.614431</td>\n",
       "      <td>1.218353</td>\n",
       "      <td>6.793397</td>\n",
       "      <td>1.019195</td>\n",
       "    </tr>\n",
       "    <tr>\n",
       "      <th>min</th>\n",
       "      <td>0.000000</td>\n",
       "      <td>-2.000000</td>\n",
       "      <td>0.000000</td>\n",
       "      <td>0.000000</td>\n",
       "      <td>0.000000</td>\n",
       "      <td>0.000000</td>\n",
       "    </tr>\n",
       "    <tr>\n",
       "      <th>25%</th>\n",
       "      <td>2.000000</td>\n",
       "      <td>2.000000</td>\n",
       "      <td>11.000000</td>\n",
       "      <td>1.962206</td>\n",
       "      <td>0.000000</td>\n",
       "      <td>0.000000</td>\n",
       "    </tr>\n",
       "    <tr>\n",
       "      <th>50%</th>\n",
       "      <td>4.000000</td>\n",
       "      <td>5.000000</td>\n",
       "      <td>27.000000</td>\n",
       "      <td>2.951877</td>\n",
       "      <td>0.000000</td>\n",
       "      <td>0.000000</td>\n",
       "    </tr>\n",
       "    <tr>\n",
       "      <th>75%</th>\n",
       "      <td>4.000000</td>\n",
       "      <td>8.500000</td>\n",
       "      <td>48.000000</td>\n",
       "      <td>3.105873</td>\n",
       "      <td>0.158333</td>\n",
       "      <td>1.000000</td>\n",
       "    </tr>\n",
       "    <tr>\n",
       "      <th>max</th>\n",
       "      <td>6.000000</td>\n",
       "      <td>13.500000</td>\n",
       "      <td>178.000000</td>\n",
       "      <td>4.000000</td>\n",
       "      <td>120.000000</td>\n",
       "      <td>17.000000</td>\n",
       "    </tr>\n",
       "  </tbody>\n",
       "</table>\n",
       "</div>"
      ],
      "text/plain": [
       "             month  hours_after_sunset  bat_landing_number  food_availability  \\\n",
       "count  2123.000000         2123.000000         2123.000000        2123.000000   \n",
       "mean      3.083844            5.265426           32.083373           2.445874   \n",
       "std       1.642261            4.076188           25.614431           1.218353   \n",
       "min       0.000000           -2.000000            0.000000           0.000000   \n",
       "25%       2.000000            2.000000           11.000000           1.962206   \n",
       "50%       4.000000            5.000000           27.000000           2.951877   \n",
       "75%       4.000000            8.500000           48.000000           3.105873   \n",
       "max       6.000000           13.500000          178.000000           4.000000   \n",
       "\n",
       "       rat_minutes  rat_arrival_number  \n",
       "count  2123.000000         2123.000000  \n",
       "mean      1.994442            0.444654  \n",
       "std       6.793397            1.019195  \n",
       "min       0.000000            0.000000  \n",
       "25%       0.000000            0.000000  \n",
       "50%       0.000000            0.000000  \n",
       "75%       0.158333            1.000000  \n",
       "max     120.000000           17.000000  "
      ]
     },
     "execution_count": 44,
     "metadata": {},
     "output_type": "execute_result"
    }
   ],
   "source": [
    "df2.describe()"
   ]
  },
  {
   "cell_type": "code",
   "execution_count": 45,
   "id": "70783328-62b7-4343-a275-0e7042c75656",
   "metadata": {},
   "outputs": [],
   "source": [
    "bins = [0, 1, 3, 10, df2[\"rat_arrival_number\"].max()]\n",
    "labels = [\"no_rat\", \"low\", \"medium\", \"high\"]\n",
    "df2[\"rat_density\"] = pd.cut(df2[\"rat_arrival_number\"], bins=bins, labels=labels, include_lowest=True)\n"
   ]
  },
  {
   "cell_type": "code",
   "execution_count": 46,
   "id": "9453000c-88c4-4ea9-95fd-d1757aa1a17f",
   "metadata": {},
   "outputs": [
    {
     "data": {
      "text/html": [
       "<div>\n",
       "<style scoped>\n",
       "    .dataframe tbody tr th:only-of-type {\n",
       "        vertical-align: middle;\n",
       "    }\n",
       "\n",
       "    .dataframe tbody tr th {\n",
       "        vertical-align: top;\n",
       "    }\n",
       "\n",
       "    .dataframe thead th {\n",
       "        text-align: right;\n",
       "    }\n",
       "</style>\n",
       "<table border=\"1\" class=\"dataframe\">\n",
       "  <thead>\n",
       "    <tr style=\"text-align: right;\">\n",
       "      <th></th>\n",
       "      <th>time</th>\n",
       "      <th>month</th>\n",
       "      <th>hours_after_sunset</th>\n",
       "      <th>bat_landing_number</th>\n",
       "      <th>food_availability</th>\n",
       "      <th>rat_minutes</th>\n",
       "      <th>rat_arrival_number</th>\n",
       "      <th>rat_density</th>\n",
       "    </tr>\n",
       "  </thead>\n",
       "  <tbody>\n",
       "    <tr>\n",
       "      <th>0</th>\n",
       "      <td>26/12/2017 16:13</td>\n",
       "      <td>0</td>\n",
       "      <td>-0.5</td>\n",
       "      <td>20</td>\n",
       "      <td>4.000000</td>\n",
       "      <td>0.0</td>\n",
       "      <td>0</td>\n",
       "      <td>no_rat</td>\n",
       "    </tr>\n",
       "    <tr>\n",
       "      <th>1</th>\n",
       "      <td>26/12/2017 16:43</td>\n",
       "      <td>0</td>\n",
       "      <td>0.0</td>\n",
       "      <td>28</td>\n",
       "      <td>4.000000</td>\n",
       "      <td>0.0</td>\n",
       "      <td>0</td>\n",
       "      <td>no_rat</td>\n",
       "    </tr>\n",
       "    <tr>\n",
       "      <th>2</th>\n",
       "      <td>26/12/2017 17:13</td>\n",
       "      <td>0</td>\n",
       "      <td>0.5</td>\n",
       "      <td>25</td>\n",
       "      <td>4.000000</td>\n",
       "      <td>0.0</td>\n",
       "      <td>0</td>\n",
       "      <td>no_rat</td>\n",
       "    </tr>\n",
       "    <tr>\n",
       "      <th>3</th>\n",
       "      <td>26/12/2017 17:43</td>\n",
       "      <td>0</td>\n",
       "      <td>1.0</td>\n",
       "      <td>71</td>\n",
       "      <td>4.000000</td>\n",
       "      <td>0.0</td>\n",
       "      <td>0</td>\n",
       "      <td>no_rat</td>\n",
       "    </tr>\n",
       "    <tr>\n",
       "      <th>4</th>\n",
       "      <td>26/12/2017 18:13</td>\n",
       "      <td>0</td>\n",
       "      <td>1.5</td>\n",
       "      <td>44</td>\n",
       "      <td>3.753857</td>\n",
       "      <td>0.0</td>\n",
       "      <td>0</td>\n",
       "      <td>no_rat</td>\n",
       "    </tr>\n",
       "  </tbody>\n",
       "</table>\n",
       "</div>"
      ],
      "text/plain": [
       "               time  month  hours_after_sunset  bat_landing_number  \\\n",
       "0  26/12/2017 16:13      0                -0.5                  20   \n",
       "1  26/12/2017 16:43      0                 0.0                  28   \n",
       "2  26/12/2017 17:13      0                 0.5                  25   \n",
       "3  26/12/2017 17:43      0                 1.0                  71   \n",
       "4  26/12/2017 18:13      0                 1.5                  44   \n",
       "\n",
       "   food_availability  rat_minutes  rat_arrival_number rat_density  \n",
       "0           4.000000          0.0                   0      no_rat  \n",
       "1           4.000000          0.0                   0      no_rat  \n",
       "2           4.000000          0.0                   0      no_rat  \n",
       "3           4.000000          0.0                   0      no_rat  \n",
       "4           3.753857          0.0                   0      no_rat  "
      ]
     },
     "execution_count": 46,
     "metadata": {},
     "output_type": "execute_result"
    }
   ],
   "source": [
    "df2.head()"
   ]
  },
  {
   "cell_type": "code",
   "execution_count": 47,
   "id": "545f8868-bdbc-489b-89a3-ee2e41c8007f",
   "metadata": {},
   "outputs": [
    {
     "name": "stdout",
     "output_type": "stream",
     "text": [
      "CI for mean bat_landing_number (95%): (np.float64(30.99379588577961), np.float64(33.17294928614692))\n",
      "Z-statistic: 1.96\n",
      "Confidence Interval of the mean: 33.22 to 30.94\n"
     ]
    }
   ],
   "source": [
    "\n",
    "mean = df2[\"bat_landing_number\"].mean()\n",
    "s = df2[\"bat_landing_number\"].std(ddof=1)\n",
    "n = len(df2[\"bat_landing_number\"])\n",
    "se = s / math.sqrt(n)\n",
    "\n",
    "ci_low, ci_up = stm_weight._zconfint_generic(mean_x, se, alpha=0.05, alternative=\"two-sided\")\n",
    "print(\"CI for mean bat_landing_number (95%):\", (ci_low, ci_up))\n",
    "z_score = st.norm.ppf(q = 0.975)\n",
    "print(\"Z-statistic: %.2f\" % z_score)\n",
    "\n",
    "\n",
    "ci_low_stm, ci_upp_stm = stw._zconfint_generic(mean,se,z_score, alternative=\"two-sided\")\n",
    "print(\"Confidence Interval of the mean: %.2f to %.2f\" % (ci_low_stm, ci_upp_stm))"
   ]
  },
  {
   "cell_type": "code",
   "execution_count": 48,
   "id": "197f9b94-34e5-4580-a405-e68fe18bf1fc",
   "metadata": {},
   "outputs": [
    {
     "name": "stdout",
     "output_type": "stream",
     "text": [
      "\t Sample mean: 32.08\n",
      "\t Sample std. dev.: 25.61\n"
     ]
    }
   ],
   "source": [
    "sample = df2[\"bat_landing_number\"]\n",
    "x_bar = st.tmean(sample)\n",
    "s = st.tstd(sample)\n",
    "print(\"\\t Sample mean: %.2f\" % x_bar)\n",
    "print(\"\\t Sample std. dev.: %.2f\" % s)\n"
   ]
  },
  {
   "cell_type": "code",
   "execution_count": 49,
   "id": "3f536948-cd5c-4da4-9e08-07f5aa83a401",
   "metadata": {},
   "outputs": [
    {
     "name": "stdout",
     "output_type": "stream",
     "text": [
      "\n",
      " Computing t* ...\n",
      "\t t-statistic (t*): -32.23\n",
      "\n",
      " Computing p-value ...\n",
      "\t p-value: 0.0000\n",
      "\n",
      " Conclusion:\n",
      "\t We reject the null hypothesis.\n"
     ]
    }
   ],
   "source": [
    "\n",
    "# perform one-sample t-test\n",
    "# null hypothesis: population mean = 50\n",
    "# alternative hypothesis: population mean < 50 (in the function below, note the argument 'greater')\n",
    "t_stat, p_val = st.ttest_1samp(sample, 50, alternative=\"less\")\n",
    "print(\"\\n Computing t* ...\")\n",
    "print(\"\\t t-statistic (t*): %.2f\" % t_stat)\n",
    "\n",
    "print(\"\\n Computing p-value ...\")\n",
    "print(\"\\t p-value: %.4f\" % p_val)\n",
    "\n",
    "print(\"\\n Conclusion:\")\n",
    "if p_val < 0.05:\n",
    "    print(\"\\t We reject the null hypothesis.\")\n",
    "else:\n",
    "    print(\"\\t We accept the null hypothesis.\")"
   ]
  },
  {
   "cell_type": "code",
   "execution_count": 50,
   "id": "82658e4c-200a-4a57-b92a-7bfd32287a97",
   "metadata": {},
   "outputs": [
    {
     "name": "stdout",
     "output_type": "stream",
     "text": [
      "\t Statistics of sample 1: 32.083 (mean), 25.614 (std. dev.), and 2123 (n).\n",
      "\t Statistics of sample 2: 0.445 (mean), 1.019 (std. dev.), and 2123 (n).\n"
     ]
    }
   ],
   "source": [
    "sample1 = df2['bat_landing_number'].to_numpy()\n",
    "sample2 = df2['rat_arrival_number'].to_numpy()\n",
    "\n",
    "x_bar1 = st.tmean(sample1)\n",
    "s1 = st.tstd(sample1)\n",
    "n1 = len(sample1)\n",
    "print(\"\\t Statistics of sample 1: %.3f (mean), %.3f (std. dev.), and %d (n).\" % (x_bar1, s1, n1))\n",
    "\n",
    "\n",
    "# the basic statistics of sample 2:\n",
    "x_bar2 = st.tmean(sample2)\n",
    "s2 = st.tstd(sample2)\n",
    "n2 = len(sample2)\n",
    "print(\"\\t Statistics of sample 2: %.3f (mean), %.3f (std. dev.), and %d (n).\" % (x_bar2, s2, n2))\n"
   ]
  },
  {
   "cell_type": "code",
   "execution_count": 51,
   "id": "05031257-1d09-4c06-b1c5-4a173c4964d9",
   "metadata": {},
   "outputs": [
    {
     "name": "stdout",
     "output_type": "stream",
     "text": [
      "\n",
      " Computing t* ...\n",
      "\t t-statistic (t*): 56.87\n",
      "\n",
      " Computing p-value ...\n",
      "\t p-value: 0.0000\n",
      "\n",
      " Conclusion:\n",
      "\t We reject the null hypothesis.\n"
     ]
    }
   ],
   "source": [
    "# perform two-sample t-test\n",
    "# null hypothesis: mean of sample 1 = mean of sample 2\n",
    "# alternative hypothesis: mean of sample 1 is greater than mean of sample 2 (one-sided test)\n",
    "# note the argument equal_var=False, which assumes that two populations do not have equal variance\n",
    "t_stats, p_val = st.ttest_ind_from_stats(x_bar1, s1, n1, x_bar2, s2, n2, equal_var=False, alternative='greater')\n",
    "print(\"\\n Computing t* ...\")\n",
    "print(\"\\t t-statistic (t*): %.2f\" % t_stats)\n",
    "\n",
    "print(\"\\n Computing p-value ...\")\n",
    "print(\"\\t p-value: %.4f\" % p_val)\n",
    "\n",
    "print(\"\\n Conclusion:\")\n",
    "if p_val < 0.05:\n",
    "    print(\"\\t We reject the null hypothesis.\")\n",
    "else:\n",
    "    print(\"\\t We accept the null hypothesis.\")\n"
   ]
  },
  {
   "cell_type": "code",
   "execution_count": 52,
   "id": "94e6a1e7-aba7-492b-94fe-aa484d696ce0",
   "metadata": {},
   "outputs": [
    {
     "data": {
      "image/png": "[encoded data removed]",
      "text/plain": [
       "<Figure size 640x480 with 1 Axes>"
      ]
     },
     "metadata": {},
     "output_type": "display_data"
    },
    {
     "name": "stdout",
     "output_type": "stream",
     "text": [
      "Model with intercept:\n",
      "Intercept:  33.18300650358429\n",
      "Coefficient:  [-0.55134921]\n"
     ]
    },
    {
     "data": {
      "image/png": "[encoded data removed]",
      "text/plain": [
       "<Figure size 640x480 with 1 Axes>"
      ]
     },
     "metadata": {},
     "output_type": "display_data"
    }
   ],
   "source": [
    "# Bats landing correlate to rats arrival \n",
    "X = df2['rat_minutes'].values\n",
    "y = df2['bat_landing_number'].values\n",
    "\n",
    "\n",
    "# Plot data points as a scatterplot \n",
    "plt.scatter(X,y)\n",
    "plt.title(\"Rat arrival vs Bat landing\")\n",
    "plt.xlabel(\"Rat Arrival Minutes\")\n",
    "plt.ylabel(\"Bat Landing Number\")\n",
    "plt.grid()\n",
    "plt.show()\n",
    "\n",
    "\n",
    "# Model 1 #\n",
    "# Initialise a linear regression model\n",
    "model = LinearRegression()\n",
    "\n",
    "# Fit the linear regression model on the data\n",
    "model.fit(X.reshape(-1,1), y)\n",
    "\n",
    "# Get the intercept and coefficient values\n",
    "intercept = model.intercept_\n",
    "coeff_intercept = model.coef_ \n",
    "print(\"Model with intercept:\")\n",
    "print(\"Intercept: \", intercept)\n",
    "print(\"Coefficient: \", coeff_intercept)\n",
    "\n",
    "# Visualise the regression line over all data points\n",
    "x_line1 = X\n",
    "y_line1 = x_line1 * coeff_intercept + intercept\n",
    "\n",
    "plt.scatter(X,y)\n",
    "plt.title(\"Rat arrival vs Bat landing\")\n",
    "plt.xlabel(\"Rat Arrival Minutes\")\n",
    "plt.ylabel(\"Bat Landing Number\")\n",
    "plt.plot(x_line1, y_line1, \":r\", label=f\"y={intercept} + {coeff_intercept}*X\")\n",
    "plt.legend(loc='upper left')\n",
    "plt.grid()\n",
    "plt.show()\n"
   ]
  },
  {
   "cell_type": "markdown",
   "id": "8b039e9f-481d-4351-9afd-645823d11259",
   "metadata": {},
   "source": [
    "**If Rats were present in the food platform Bats were less landing**"
   ]
  }
 ],
 "metadata": {
  "kernelspec": {
   "display_name": "Python 3 (ipykernel)",
   "language": "python",
   "name": "python3"
  },
  "language_info": {
   "codemirror_mode": {
    "name": "ipython",
    "version": 3
   },
   "file_extension": ".py",
   "mimetype": "text/x-python",
   "name": "python",
   "nbconvert_exporter": "python",
   "pygments_lexer": "ipython3",
   "version": "3.13.5"
  }
 },
 "nbformat": 4,
 "nbformat_minor": 5
}
